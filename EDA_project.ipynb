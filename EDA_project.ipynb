{
  "nbformat": 4,
  "nbformat_minor": 0,
  "metadata": {
    "colab": {
      "provenance": [],
      "mount_file_id": "13nRgIDb2hLLp9JxVLBO1gmPLYnTKDFqK",
      "authorship_tag": "ABX9TyNgNog7Mz0/ENm94KJTt4zl",
      "include_colab_link": true
    },
    "kernelspec": {
      "name": "python3",
      "display_name": "Python 3"
    },
    "language_info": {
      "name": "python"
    }
  },
  "cells": [
    {
      "cell_type": "markdown",
      "metadata": {
        "id": "view-in-github",
        "colab_type": "text"
      },
      "source": [
        "<a href=\"https://colab.research.google.com/github/faisalamara411-cmd/EDA-Project/blob/main/EDA_project.ipynb\" target=\"_parent\"><img src=\"https://colab.research.google.com/assets/colab-badge.svg\" alt=\"Open In Colab\"/></a>"
      ]
    },
    {
      "cell_type": "code",
      "execution_count": null,
      "metadata": {
        "colab": {
          "base_uri": "https://localhost:8080/",
          "height": 565
        },
        "id": "a8wIMRGb_rYa",
        "outputId": "993a58ea-36cf-4343-88df-010b42d615e1"
      },
      "outputs": [
        {
          "output_type": "execute_result",
          "data": {
            "text/plain": [
              "              order_id   customer_id  product_id             product_name  \\\n",
              "0      #HLWTRIGAJB0RFL  A86556872001  6Q3V14RXRF          Huggies Rompers   \n",
              "1      #9LMWG6T6H0IPE0  0A9218115AAA  33MRMEM3WN          Gerber Blankets   \n",
              "2      #Q6J5C5621SSE5V  8A5A09200074  E674NZH16V             Fossil Jeans   \n",
              "3      #J145DOUKB5RVBN  97602786977A  ETMIXJHFAT         Carter's Rompers   \n",
              "4      #7ZXNMSUU22AK4J  744297746010  5BYOWYYY5P          Adidas Sneakers   \n",
              "...                ...           ...         ...                      ...   \n",
              "24995  #ILAE3C44K8ST2N  AA4894A31451  2NC0ZUOVYO            Carter's Hats   \n",
              "24996  #6FRTXV3I6X8MR6  690989345A38  Y0ASBZXA10           Reebok Sandals   \n",
              "24997  #DU71O3MXXZVT1L  440170188725  590V1TJQGC             Levi's Jeans   \n",
              "24998  #YHNPOPWUO47P0G  A8A224901522  QNPGMXCYIS  The Peanutshell Booties   \n",
              "24999  #ESF9EL1PBJ19OS  437139608515  TKVZYTQKPQ             Nike Jackets   \n",
              "\n",
              "      main_category sub_category            brand   price  quantity  \\\n",
              "0              baby      Rompers          Huggies  118.62         1   \n",
              "1              Baby     Blankets           Gerber   26.84         1   \n",
              "2               Men        Jeans           Fossil  219.38         2   \n",
              "3              Baby      Rompers         Carter's   12.05         1   \n",
              "4              Kids     Sneakers           Adidas  145.36         1   \n",
              "...             ...          ...              ...     ...       ...   \n",
              "24995          Baby         Hats         Carter's  128.26         1   \n",
              "24996         women      Sandals           Reebok  200.66         3   \n",
              "24997           Men        Jeans           Levi's  130.87         2   \n",
              "24998          Baby      Booti3s  The Peanutshell  172.17         1   \n",
              "24999           Men      Jackets             Nike   60.71         2   \n",
              "\n",
              "       discount_percent  final_price    payment_method  review_rating  \\\n",
              "0                    10       106.76            PayPal              3   \n",
              "1                    15        22.81         Gift Card              2   \n",
              "2                    25       329.07         Gift Card              4   \n",
              "3                     0        12.05       Credit Card              5   \n",
              "4                    10       130.82       Credit Card              1   \n",
              "...                 ...          ...               ...            ...   \n",
              "24995                20       102.61            PayPal              4   \n",
              "24996                20       481.58       Credit Card              3   \n",
              "24997                20       209.39       Credit Card              1   \n",
              "24998                15       146.34  Cash on Delivery              4   \n",
              "24999                25        91.06            PayPal              5   \n",
              "\n",
              "       order_date  delivery_days  is_returned     region customer_age_group  \\\n",
              "0      2024-09-10            5.0            0    Midwest              25-34   \n",
              "1      2025-06-25            8.0            0       West              25-34   \n",
              "2      2025-01-08            5.0            0  Northeast              35-44   \n",
              "3      2024-08-28            3.0            0    Midwest              45-54   \n",
              "4      2024-11-12            5.0            0        NaN              45-54   \n",
              "...           ...            ...          ...        ...                ...   \n",
              "24995  2024-11-15            9.0            0  Northeast                NaN   \n",
              "24996  2025-01-10            4.0            0  Northeast              45-54   \n",
              "24997  2025-01-09            8.0            0    Midwest              25-34   \n",
              "24998  2024-10-23            4.0            0  Northeast              25-34   \n",
              "24999  2024-09-20            5.0            0    Midwest                NaN   \n",
              "\n",
              "      device_type  \n",
              "0          Mobile  \n",
              "1          Mobile  \n",
              "2          Mobile  \n",
              "3          Mobile  \n",
              "4          Mobile  \n",
              "...           ...  \n",
              "24995     Desktop  \n",
              "24996     Desktop  \n",
              "24997         App  \n",
              "24998     Desktop  \n",
              "24999     Desktop  \n",
              "\n",
              "[25000 rows x 19 columns]"
            ],
            "text/html": [
              "\n",
              "  <div id=\"df-361a6782-b774-4bdf-a026-0e74ecdd727e\" class=\"colab-df-container\">\n",
              "    <div>\n",
              "<style scoped>\n",
              "    .dataframe tbody tr th:only-of-type {\n",
              "        vertical-align: middle;\n",
              "    }\n",
              "\n",
              "    .dataframe tbody tr th {\n",
              "        vertical-align: top;\n",
              "    }\n",
              "\n",
              "    .dataframe thead th {\n",
              "        text-align: right;\n",
              "    }\n",
              "</style>\n",
              "<table border=\"1\" class=\"dataframe\">\n",
              "  <thead>\n",
              "    <tr style=\"text-align: right;\">\n",
              "      <th></th>\n",
              "      <th>order_id</th>\n",
              "      <th>customer_id</th>\n",
              "      <th>product_id</th>\n",
              "      <th>product_name</th>\n",
              "      <th>main_category</th>\n",
              "      <th>sub_category</th>\n",
              "      <th>brand</th>\n",
              "      <th>price</th>\n",
              "      <th>quantity</th>\n",
              "      <th>discount_percent</th>\n",
              "      <th>final_price</th>\n",
              "      <th>payment_method</th>\n",
              "      <th>review_rating</th>\n",
              "      <th>order_date</th>\n",
              "      <th>delivery_days</th>\n",
              "      <th>is_returned</th>\n",
              "      <th>region</th>\n",
              "      <th>customer_age_group</th>\n",
              "      <th>device_type</th>\n",
              "    </tr>\n",
              "  </thead>\n",
              "  <tbody>\n",
              "    <tr>\n",
              "      <th>0</th>\n",
              "      <td>#HLWTRIGAJB0RFL</td>\n",
              "      <td>A86556872001</td>\n",
              "      <td>6Q3V14RXRF</td>\n",
              "      <td>Huggies Rompers</td>\n",
              "      <td>baby</td>\n",
              "      <td>Rompers</td>\n",
              "      <td>Huggies</td>\n",
              "      <td>118.62</td>\n",
              "      <td>1</td>\n",
              "      <td>10</td>\n",
              "      <td>106.76</td>\n",
              "      <td>PayPal</td>\n",
              "      <td>3</td>\n",
              "      <td>2024-09-10</td>\n",
              "      <td>5.0</td>\n",
              "      <td>0</td>\n",
              "      <td>Midwest</td>\n",
              "      <td>25-34</td>\n",
              "      <td>Mobile</td>\n",
              "    </tr>\n",
              "    <tr>\n",
              "      <th>1</th>\n",
              "      <td>#9LMWG6T6H0IPE0</td>\n",
              "      <td>0A9218115AAA</td>\n",
              "      <td>33MRMEM3WN</td>\n",
              "      <td>Gerber Blankets</td>\n",
              "      <td>Baby</td>\n",
              "      <td>Blankets</td>\n",
              "      <td>Gerber</td>\n",
              "      <td>26.84</td>\n",
              "      <td>1</td>\n",
              "      <td>15</td>\n",
              "      <td>22.81</td>\n",
              "      <td>Gift Card</td>\n",
              "      <td>2</td>\n",
              "      <td>2025-06-25</td>\n",
              "      <td>8.0</td>\n",
              "      <td>0</td>\n",
              "      <td>West</td>\n",
              "      <td>25-34</td>\n",
              "      <td>Mobile</td>\n",
              "    </tr>\n",
              "    <tr>\n",
              "      <th>2</th>\n",
              "      <td>#Q6J5C5621SSE5V</td>\n",
              "      <td>8A5A09200074</td>\n",
              "      <td>E674NZH16V</td>\n",
              "      <td>Fossil Jeans</td>\n",
              "      <td>Men</td>\n",
              "      <td>Jeans</td>\n",
              "      <td>Fossil</td>\n",
              "      <td>219.38</td>\n",
              "      <td>2</td>\n",
              "      <td>25</td>\n",
              "      <td>329.07</td>\n",
              "      <td>Gift Card</td>\n",
              "      <td>4</td>\n",
              "      <td>2025-01-08</td>\n",
              "      <td>5.0</td>\n",
              "      <td>0</td>\n",
              "      <td>Northeast</td>\n",
              "      <td>35-44</td>\n",
              "      <td>Mobile</td>\n",
              "    </tr>\n",
              "    <tr>\n",
              "      <th>3</th>\n",
              "      <td>#J145DOUKB5RVBN</td>\n",
              "      <td>97602786977A</td>\n",
              "      <td>ETMIXJHFAT</td>\n",
              "      <td>Carter's Rompers</td>\n",
              "      <td>Baby</td>\n",
              "      <td>Rompers</td>\n",
              "      <td>Carter's</td>\n",
              "      <td>12.05</td>\n",
              "      <td>1</td>\n",
              "      <td>0</td>\n",
              "      <td>12.05</td>\n",
              "      <td>Credit Card</td>\n",
              "      <td>5</td>\n",
              "      <td>2024-08-28</td>\n",
              "      <td>3.0</td>\n",
              "      <td>0</td>\n",
              "      <td>Midwest</td>\n",
              "      <td>45-54</td>\n",
              "      <td>Mobile</td>\n",
              "    </tr>\n",
              "    <tr>\n",
              "      <th>4</th>\n",
              "      <td>#7ZXNMSUU22AK4J</td>\n",
              "      <td>744297746010</td>\n",
              "      <td>5BYOWYYY5P</td>\n",
              "      <td>Adidas Sneakers</td>\n",
              "      <td>Kids</td>\n",
              "      <td>Sneakers</td>\n",
              "      <td>Adidas</td>\n",
              "      <td>145.36</td>\n",
              "      <td>1</td>\n",
              "      <td>10</td>\n",
              "      <td>130.82</td>\n",
              "      <td>Credit Card</td>\n",
              "      <td>1</td>\n",
              "      <td>2024-11-12</td>\n",
              "      <td>5.0</td>\n",
              "      <td>0</td>\n",
              "      <td>NaN</td>\n",
              "      <td>45-54</td>\n",
              "      <td>Mobile</td>\n",
              "    </tr>\n",
              "    <tr>\n",
              "      <th>...</th>\n",
              "      <td>...</td>\n",
              "      <td>...</td>\n",
              "      <td>...</td>\n",
              "      <td>...</td>\n",
              "      <td>...</td>\n",
              "      <td>...</td>\n",
              "      <td>...</td>\n",
              "      <td>...</td>\n",
              "      <td>...</td>\n",
              "      <td>...</td>\n",
              "      <td>...</td>\n",
              "      <td>...</td>\n",
              "      <td>...</td>\n",
              "      <td>...</td>\n",
              "      <td>...</td>\n",
              "      <td>...</td>\n",
              "      <td>...</td>\n",
              "      <td>...</td>\n",
              "      <td>...</td>\n",
              "    </tr>\n",
              "    <tr>\n",
              "      <th>24995</th>\n",
              "      <td>#ILAE3C44K8ST2N</td>\n",
              "      <td>AA4894A31451</td>\n",
              "      <td>2NC0ZUOVYO</td>\n",
              "      <td>Carter's Hats</td>\n",
              "      <td>Baby</td>\n",
              "      <td>Hats</td>\n",
              "      <td>Carter's</td>\n",
              "      <td>128.26</td>\n",
              "      <td>1</td>\n",
              "      <td>20</td>\n",
              "      <td>102.61</td>\n",
              "      <td>PayPal</td>\n",
              "      <td>4</td>\n",
              "      <td>2024-11-15</td>\n",
              "      <td>9.0</td>\n",
              "      <td>0</td>\n",
              "      <td>Northeast</td>\n",
              "      <td>NaN</td>\n",
              "      <td>Desktop</td>\n",
              "    </tr>\n",
              "    <tr>\n",
              "      <th>24996</th>\n",
              "      <td>#6FRTXV3I6X8MR6</td>\n",
              "      <td>690989345A38</td>\n",
              "      <td>Y0ASBZXA10</td>\n",
              "      <td>Reebok Sandals</td>\n",
              "      <td>women</td>\n",
              "      <td>Sandals</td>\n",
              "      <td>Reebok</td>\n",
              "      <td>200.66</td>\n",
              "      <td>3</td>\n",
              "      <td>20</td>\n",
              "      <td>481.58</td>\n",
              "      <td>Credit Card</td>\n",
              "      <td>3</td>\n",
              "      <td>2025-01-10</td>\n",
              "      <td>4.0</td>\n",
              "      <td>0</td>\n",
              "      <td>Northeast</td>\n",
              "      <td>45-54</td>\n",
              "      <td>Desktop</td>\n",
              "    </tr>\n",
              "    <tr>\n",
              "      <th>24997</th>\n",
              "      <td>#DU71O3MXXZVT1L</td>\n",
              "      <td>440170188725</td>\n",
              "      <td>590V1TJQGC</td>\n",
              "      <td>Levi's Jeans</td>\n",
              "      <td>Men</td>\n",
              "      <td>Jeans</td>\n",
              "      <td>Levi's</td>\n",
              "      <td>130.87</td>\n",
              "      <td>2</td>\n",
              "      <td>20</td>\n",
              "      <td>209.39</td>\n",
              "      <td>Credit Card</td>\n",
              "      <td>1</td>\n",
              "      <td>2025-01-09</td>\n",
              "      <td>8.0</td>\n",
              "      <td>0</td>\n",
              "      <td>Midwest</td>\n",
              "      <td>25-34</td>\n",
              "      <td>App</td>\n",
              "    </tr>\n",
              "    <tr>\n",
              "      <th>24998</th>\n",
              "      <td>#YHNPOPWUO47P0G</td>\n",
              "      <td>A8A224901522</td>\n",
              "      <td>QNPGMXCYIS</td>\n",
              "      <td>The Peanutshell Booties</td>\n",
              "      <td>Baby</td>\n",
              "      <td>Booti3s</td>\n",
              "      <td>The Peanutshell</td>\n",
              "      <td>172.17</td>\n",
              "      <td>1</td>\n",
              "      <td>15</td>\n",
              "      <td>146.34</td>\n",
              "      <td>Cash on Delivery</td>\n",
              "      <td>4</td>\n",
              "      <td>2024-10-23</td>\n",
              "      <td>4.0</td>\n",
              "      <td>0</td>\n",
              "      <td>Northeast</td>\n",
              "      <td>25-34</td>\n",
              "      <td>Desktop</td>\n",
              "    </tr>\n",
              "    <tr>\n",
              "      <th>24999</th>\n",
              "      <td>#ESF9EL1PBJ19OS</td>\n",
              "      <td>437139608515</td>\n",
              "      <td>TKVZYTQKPQ</td>\n",
              "      <td>Nike Jackets</td>\n",
              "      <td>Men</td>\n",
              "      <td>Jackets</td>\n",
              "      <td>Nike</td>\n",
              "      <td>60.71</td>\n",
              "      <td>2</td>\n",
              "      <td>25</td>\n",
              "      <td>91.06</td>\n",
              "      <td>PayPal</td>\n",
              "      <td>5</td>\n",
              "      <td>2024-09-20</td>\n",
              "      <td>5.0</td>\n",
              "      <td>0</td>\n",
              "      <td>Midwest</td>\n",
              "      <td>NaN</td>\n",
              "      <td>Desktop</td>\n",
              "    </tr>\n",
              "  </tbody>\n",
              "</table>\n",
              "<p>25000 rows × 19 columns</p>\n",
              "</div>\n",
              "    <div class=\"colab-df-buttons\">\n",
              "\n",
              "  <div class=\"colab-df-container\">\n",
              "    <button class=\"colab-df-convert\" onclick=\"convertToInteractive('df-361a6782-b774-4bdf-a026-0e74ecdd727e')\"\n",
              "            title=\"Convert this dataframe to an interactive table.\"\n",
              "            style=\"display:none;\">\n",
              "\n",
              "  <svg xmlns=\"http://www.w3.org/2000/svg\" height=\"24px\" viewBox=\"0 -960 960 960\">\n",
              "    <path d=\"M120-120v-720h720v720H120Zm60-500h600v-160H180v160Zm220 220h160v-160H400v160Zm0 220h160v-160H400v160ZM180-400h160v-160H180v160Zm440 0h160v-160H620v160ZM180-180h160v-160H180v160Zm440 0h160v-160H620v160Z\"/>\n",
              "  </svg>\n",
              "    </button>\n",
              "\n",
              "  <style>\n",
              "    .colab-df-container {\n",
              "      display:flex;\n",
              "      gap: 12px;\n",
              "    }\n",
              "\n",
              "    .colab-df-convert {\n",
              "      background-color: #E8F0FE;\n",
              "      border: none;\n",
              "      border-radius: 50%;\n",
              "      cursor: pointer;\n",
              "      display: none;\n",
              "      fill: #1967D2;\n",
              "      height: 32px;\n",
              "      padding: 0 0 0 0;\n",
              "      width: 32px;\n",
              "    }\n",
              "\n",
              "    .colab-df-convert:hover {\n",
              "      background-color: #E2EBFA;\n",
              "      box-shadow: 0px 1px 2px rgba(60, 64, 67, 0.3), 0px 1px 3px 1px rgba(60, 64, 67, 0.15);\n",
              "      fill: #174EA6;\n",
              "    }\n",
              "\n",
              "    .colab-df-buttons div {\n",
              "      margin-bottom: 4px;\n",
              "    }\n",
              "\n",
              "    [theme=dark] .colab-df-convert {\n",
              "      background-color: #3B4455;\n",
              "      fill: #D2E3FC;\n",
              "    }\n",
              "\n",
              "    [theme=dark] .colab-df-convert:hover {\n",
              "      background-color: #434B5C;\n",
              "      box-shadow: 0px 1px 3px 1px rgba(0, 0, 0, 0.15);\n",
              "      filter: drop-shadow(0px 1px 2px rgba(0, 0, 0, 0.3));\n",
              "      fill: #FFFFFF;\n",
              "    }\n",
              "  </style>\n",
              "\n",
              "    <script>\n",
              "      const buttonEl =\n",
              "        document.querySelector('#df-361a6782-b774-4bdf-a026-0e74ecdd727e button.colab-df-convert');\n",
              "      buttonEl.style.display =\n",
              "        google.colab.kernel.accessAllowed ? 'block' : 'none';\n",
              "\n",
              "      async function convertToInteractive(key) {\n",
              "        const element = document.querySelector('#df-361a6782-b774-4bdf-a026-0e74ecdd727e');\n",
              "        const dataTable =\n",
              "          await google.colab.kernel.invokeFunction('convertToInteractive',\n",
              "                                                    [key], {});\n",
              "        if (!dataTable) return;\n",
              "\n",
              "        const docLinkHtml = 'Like what you see? Visit the ' +\n",
              "          '<a target=\"_blank\" href=https://colab.research.google.com/notebooks/data_table.ipynb>data table notebook</a>'\n",
              "          + ' to learn more about interactive tables.';\n",
              "        element.innerHTML = '';\n",
              "        dataTable['output_type'] = 'display_data';\n",
              "        await google.colab.output.renderOutput(dataTable, element);\n",
              "        const docLink = document.createElement('div');\n",
              "        docLink.innerHTML = docLinkHtml;\n",
              "        element.appendChild(docLink);\n",
              "      }\n",
              "    </script>\n",
              "  </div>\n",
              "\n",
              "\n",
              "    <div id=\"df-3e85beb6-bd39-4ca7-9352-fdc1d6970a5b\">\n",
              "      <button class=\"colab-df-quickchart\" onclick=\"quickchart('df-3e85beb6-bd39-4ca7-9352-fdc1d6970a5b')\"\n",
              "                title=\"Suggest charts\"\n",
              "                style=\"display:none;\">\n",
              "\n",
              "<svg xmlns=\"http://www.w3.org/2000/svg\" height=\"24px\"viewBox=\"0 0 24 24\"\n",
              "     width=\"24px\">\n",
              "    <g>\n",
              "        <path d=\"M19 3H5c-1.1 0-2 .9-2 2v14c0 1.1.9 2 2 2h14c1.1 0 2-.9 2-2V5c0-1.1-.9-2-2-2zM9 17H7v-7h2v7zm4 0h-2V7h2v10zm4 0h-2v-4h2v4z\"/>\n",
              "    </g>\n",
              "</svg>\n",
              "      </button>\n",
              "\n",
              "<style>\n",
              "  .colab-df-quickchart {\n",
              "      --bg-color: #E8F0FE;\n",
              "      --fill-color: #1967D2;\n",
              "      --hover-bg-color: #E2EBFA;\n",
              "      --hover-fill-color: #174EA6;\n",
              "      --disabled-fill-color: #AAA;\n",
              "      --disabled-bg-color: #DDD;\n",
              "  }\n",
              "\n",
              "  [theme=dark] .colab-df-quickchart {\n",
              "      --bg-color: #3B4455;\n",
              "      --fill-color: #D2E3FC;\n",
              "      --hover-bg-color: #434B5C;\n",
              "      --hover-fill-color: #FFFFFF;\n",
              "      --disabled-bg-color: #3B4455;\n",
              "      --disabled-fill-color: #666;\n",
              "  }\n",
              "\n",
              "  .colab-df-quickchart {\n",
              "    background-color: var(--bg-color);\n",
              "    border: none;\n",
              "    border-radius: 50%;\n",
              "    cursor: pointer;\n",
              "    display: none;\n",
              "    fill: var(--fill-color);\n",
              "    height: 32px;\n",
              "    padding: 0;\n",
              "    width: 32px;\n",
              "  }\n",
              "\n",
              "  .colab-df-quickchart:hover {\n",
              "    background-color: var(--hover-bg-color);\n",
              "    box-shadow: 0 1px 2px rgba(60, 64, 67, 0.3), 0 1px 3px 1px rgba(60, 64, 67, 0.15);\n",
              "    fill: var(--button-hover-fill-color);\n",
              "  }\n",
              "\n",
              "  .colab-df-quickchart-complete:disabled,\n",
              "  .colab-df-quickchart-complete:disabled:hover {\n",
              "    background-color: var(--disabled-bg-color);\n",
              "    fill: var(--disabled-fill-color);\n",
              "    box-shadow: none;\n",
              "  }\n",
              "\n",
              "  .colab-df-spinner {\n",
              "    border: 2px solid var(--fill-color);\n",
              "    border-color: transparent;\n",
              "    border-bottom-color: var(--fill-color);\n",
              "    animation:\n",
              "      spin 1s steps(1) infinite;\n",
              "  }\n",
              "\n",
              "  @keyframes spin {\n",
              "    0% {\n",
              "      border-color: transparent;\n",
              "      border-bottom-color: var(--fill-color);\n",
              "      border-left-color: var(--fill-color);\n",
              "    }\n",
              "    20% {\n",
              "      border-color: transparent;\n",
              "      border-left-color: var(--fill-color);\n",
              "      border-top-color: var(--fill-color);\n",
              "    }\n",
              "    30% {\n",
              "      border-color: transparent;\n",
              "      border-left-color: var(--fill-color);\n",
              "      border-top-color: var(--fill-color);\n",
              "      border-right-color: var(--fill-color);\n",
              "    }\n",
              "    40% {\n",
              "      border-color: transparent;\n",
              "      border-right-color: var(--fill-color);\n",
              "      border-top-color: var(--fill-color);\n",
              "    }\n",
              "    60% {\n",
              "      border-color: transparent;\n",
              "      border-right-color: var(--fill-color);\n",
              "    }\n",
              "    80% {\n",
              "      border-color: transparent;\n",
              "      border-right-color: var(--fill-color);\n",
              "      border-bottom-color: var(--fill-color);\n",
              "    }\n",
              "    90% {\n",
              "      border-color: transparent;\n",
              "      border-bottom-color: var(--fill-color);\n",
              "    }\n",
              "  }\n",
              "</style>\n",
              "\n",
              "      <script>\n",
              "        async function quickchart(key) {\n",
              "          const quickchartButtonEl =\n",
              "            document.querySelector('#' + key + ' button');\n",
              "          quickchartButtonEl.disabled = true;  // To prevent multiple clicks.\n",
              "          quickchartButtonEl.classList.add('colab-df-spinner');\n",
              "          try {\n",
              "            const charts = await google.colab.kernel.invokeFunction(\n",
              "                'suggestCharts', [key], {});\n",
              "          } catch (error) {\n",
              "            console.error('Error during call to suggestCharts:', error);\n",
              "          }\n",
              "          quickchartButtonEl.classList.remove('colab-df-spinner');\n",
              "          quickchartButtonEl.classList.add('colab-df-quickchart-complete');\n",
              "        }\n",
              "        (() => {\n",
              "          let quickchartButtonEl =\n",
              "            document.querySelector('#df-3e85beb6-bd39-4ca7-9352-fdc1d6970a5b button');\n",
              "          quickchartButtonEl.style.display =\n",
              "            google.colab.kernel.accessAllowed ? 'block' : 'none';\n",
              "        })();\n",
              "      </script>\n",
              "    </div>\n",
              "\n",
              "  <div id=\"id_3b2f7fd1-3d11-47c8-825e-2eb51307887a\">\n",
              "    <style>\n",
              "      .colab-df-generate {\n",
              "        background-color: #E8F0FE;\n",
              "        border: none;\n",
              "        border-radius: 50%;\n",
              "        cursor: pointer;\n",
              "        display: none;\n",
              "        fill: #1967D2;\n",
              "        height: 32px;\n",
              "        padding: 0 0 0 0;\n",
              "        width: 32px;\n",
              "      }\n",
              "\n",
              "      .colab-df-generate:hover {\n",
              "        background-color: #E2EBFA;\n",
              "        box-shadow: 0px 1px 2px rgba(60, 64, 67, 0.3), 0px 1px 3px 1px rgba(60, 64, 67, 0.15);\n",
              "        fill: #174EA6;\n",
              "      }\n",
              "\n",
              "      [theme=dark] .colab-df-generate {\n",
              "        background-color: #3B4455;\n",
              "        fill: #D2E3FC;\n",
              "      }\n",
              "\n",
              "      [theme=dark] .colab-df-generate:hover {\n",
              "        background-color: #434B5C;\n",
              "        box-shadow: 0px 1px 3px 1px rgba(0, 0, 0, 0.15);\n",
              "        filter: drop-shadow(0px 1px 2px rgba(0, 0, 0, 0.3));\n",
              "        fill: #FFFFFF;\n",
              "      }\n",
              "    </style>\n",
              "    <button class=\"colab-df-generate\" onclick=\"generateWithVariable('df')\"\n",
              "            title=\"Generate code using this dataframe.\"\n",
              "            style=\"display:none;\">\n",
              "\n",
              "  <svg xmlns=\"http://www.w3.org/2000/svg\" height=\"24px\"viewBox=\"0 0 24 24\"\n",
              "       width=\"24px\">\n",
              "    <path d=\"M7,19H8.4L18.45,9,17,7.55,7,17.6ZM5,21V16.75L18.45,3.32a2,2,0,0,1,2.83,0l1.4,1.43a1.91,1.91,0,0,1,.58,1.4,1.91,1.91,0,0,1-.58,1.4L9.25,21ZM18.45,9,17,7.55Zm-12,3A5.31,5.31,0,0,0,4.9,8.1,5.31,5.31,0,0,0,1,6.5,5.31,5.31,0,0,0,4.9,4.9,5.31,5.31,0,0,0,6.5,1,5.31,5.31,0,0,0,8.1,4.9,5.31,5.31,0,0,0,12,6.5,5.46,5.46,0,0,0,6.5,12Z\"/>\n",
              "  </svg>\n",
              "    </button>\n",
              "    <script>\n",
              "      (() => {\n",
              "      const buttonEl =\n",
              "        document.querySelector('#id_3b2f7fd1-3d11-47c8-825e-2eb51307887a button.colab-df-generate');\n",
              "      buttonEl.style.display =\n",
              "        google.colab.kernel.accessAllowed ? 'block' : 'none';\n",
              "\n",
              "      buttonEl.onclick = () => {\n",
              "        google.colab.notebook.generateWithVariable('df');\n",
              "      }\n",
              "      })();\n",
              "    </script>\n",
              "  </div>\n",
              "\n",
              "    </div>\n",
              "  </div>\n"
            ],
            "application/vnd.google.colaboratory.intrinsic+json": {
              "type": "dataframe",
              "variable_name": "df",
              "summary": "{\n  \"name\": \"df\",\n  \"rows\": 25000,\n  \"fields\": [\n    {\n      \"column\": \"order_id\",\n      \"properties\": {\n        \"dtype\": \"string\",\n        \"num_unique_values\": 25000,\n        \"samples\": [\n          \"#JC7Q3QFZIG4ZGM\",\n          \"#BXHE982OPP8H5A\",\n          \"#JAAJW4NW2QA7N5\"\n        ],\n        \"semantic_type\": \"\",\n        \"description\": \"\"\n      }\n    },\n    {\n      \"column\": \"customer_id\",\n      \"properties\": {\n        \"dtype\": \"string\",\n        \"num_unique_values\": 25000,\n        \"samples\": [\n          \"105707353567\",\n          \"32269462A188\",\n          \"151345760A20\"\n        ],\n        \"semantic_type\": \"\",\n        \"description\": \"\"\n      }\n    },\n    {\n      \"column\": \"product_id\",\n      \"properties\": {\n        \"dtype\": \"string\",\n        \"num_unique_values\": 25000,\n        \"samples\": [\n          \"FYHAMKE8WJ\",\n          \"PVQNLH2E6N\",\n          \"ENB8867B0R\"\n        ],\n        \"semantic_type\": \"\",\n        \"description\": \"\"\n      }\n    },\n    {\n      \"column\": \"product_name\",\n      \"properties\": {\n        \"dtype\": \"category\",\n        \"num_unique_values\": 100,\n        \"samples\": [\n          \"Reebok Tops\",\n          \"Adidas Caps\",\n          \"Levi's Watches\"\n        ],\n        \"semantic_type\": \"\",\n        \"description\": \"\"\n      }\n    },\n    {\n      \"column\": \"main_category\",\n      \"properties\": {\n        \"dtype\": \"category\",\n        \"num_unique_values\": 8,\n        \"samples\": [\n          \"Baby\",\n          \"women\",\n          \"baby\"\n        ],\n        \"semantic_type\": \"\",\n        \"description\": \"\"\n      }\n    },\n    {\n      \"column\": \"sub_category\",\n      \"properties\": {\n        \"dtype\": \"category\",\n        \"num_unique_values\": 32,\n        \"samples\": [\n          \"Booti3s\",\n          \"Shorts\",\n          \"J3w3lry\"\n        ],\n        \"semantic_type\": \"\",\n        \"description\": \"\"\n      }\n    },\n    {\n      \"column\": \"brand\",\n      \"properties\": {\n        \"dtype\": \"category\",\n        \"num_unique_values\": 17,\n        \"samples\": [\n          \"Huggies\",\n          \"Gerber\",\n          \"Puma\"\n        ],\n        \"semantic_type\": \"\",\n        \"description\": \"\"\n      }\n    },\n    {\n      \"column\": \"price\",\n      \"properties\": {\n        \"dtype\": \"number\",\n        \"std\": 84.44383030378815,\n        \"min\": 10.02,\n        \"max\": 299.98,\n        \"num_unique_values\": 16576,\n        \"samples\": [\n          65.7,\n          129.44,\n          154.4\n        ],\n        \"semantic_type\": \"\",\n        \"description\": \"\"\n      }\n    },\n    {\n      \"column\": \"quantity\",\n      \"properties\": {\n        \"dtype\": \"number\",\n        \"std\": 0,\n        \"min\": 1,\n        \"max\": 3,\n        \"num_unique_values\": 3,\n        \"samples\": [\n          1,\n          2,\n          3\n        ],\n        \"semantic_type\": \"\",\n        \"description\": \"\"\n      }\n    },\n    {\n      \"column\": \"discount_percent\",\n      \"properties\": {\n        \"dtype\": \"number\",\n        \"std\": 8,\n        \"min\": 0,\n        \"max\": 25,\n        \"num_unique_values\": 6,\n        \"samples\": [\n          10,\n          15,\n          20\n        ],\n        \"semantic_type\": \"\",\n        \"description\": \"\"\n      }\n    },\n    {\n      \"column\": \"final_price\",\n      \"properties\": {\n        \"dtype\": \"number\",\n        \"std\": 196.18847600476718,\n        \"min\": 7.53,\n        \"max\": 899.79,\n        \"num_unique_values\": 20151,\n        \"samples\": [\n          166.91,\n          101.65,\n          63.63\n        ],\n        \"semantic_type\": \"\",\n        \"description\": \"\"\n      }\n    },\n    {\n      \"column\": \"payment_method\",\n      \"properties\": {\n        \"dtype\": \"category\",\n        \"num_unique_values\": 4,\n        \"samples\": [\n          \"Gift Card\",\n          \"Cash on Delivery\",\n          \"PayPal\"\n        ],\n        \"semantic_type\": \"\",\n        \"description\": \"\"\n      }\n    },\n    {\n      \"column\": \"review_rating\",\n      \"properties\": {\n        \"dtype\": \"number\",\n        \"std\": 1,\n        \"min\": 1,\n        \"max\": 5,\n        \"num_unique_values\": 5,\n        \"samples\": [\n          2,\n          1,\n          4\n        ],\n        \"semantic_type\": \"\",\n        \"description\": \"\"\n      }\n    },\n    {\n      \"column\": \"order_date\",\n      \"properties\": {\n        \"dtype\": \"object\",\n        \"num_unique_values\": 365,\n        \"samples\": [\n          \"2025-03-23\",\n          \"2024-12-05\",\n          \"2025-01-23\"\n        ],\n        \"semantic_type\": \"\",\n        \"description\": \"\"\n      }\n    },\n    {\n      \"column\": \"delivery_days\",\n      \"properties\": {\n        \"dtype\": \"number\",\n        \"std\": 2.5782383433260865,\n        \"min\": 1.0,\n        \"max\": 9.0,\n        \"num_unique_values\": 9,\n        \"samples\": [\n          6.0,\n          8.0,\n          7.0\n        ],\n        \"semantic_type\": \"\",\n        \"description\": \"\"\n      }\n    },\n    {\n      \"column\": \"is_returned\",\n      \"properties\": {\n        \"dtype\": \"number\",\n        \"std\": 0,\n        \"min\": 0,\n        \"max\": 1,\n        \"num_unique_values\": 2,\n        \"samples\": [\n          1,\n          0\n        ],\n        \"semantic_type\": \"\",\n        \"description\": \"\"\n      }\n    },\n    {\n      \"column\": \"region\",\n      \"properties\": {\n        \"dtype\": \"category\",\n        \"num_unique_values\": 4,\n        \"samples\": [\n          \"West\",\n          \"South\"\n        ],\n        \"semantic_type\": \"\",\n        \"description\": \"\"\n      }\n    },\n    {\n      \"column\": \"customer_age_group\",\n      \"properties\": {\n        \"dtype\": \"category\",\n        \"num_unique_values\": 5,\n        \"samples\": [\n          \"35-44\",\n          \"18-24\"\n        ],\n        \"semantic_type\": \"\",\n        \"description\": \"\"\n      }\n    },\n    {\n      \"column\": \"device_type\",\n      \"properties\": {\n        \"dtype\": \"category\",\n        \"num_unique_values\": 3,\n        \"samples\": [\n          \"Mobile\",\n          \"App\"\n        ],\n        \"semantic_type\": \"\",\n        \"description\": \"\"\n      }\n    }\n  ]\n}"
            }
          },
          "metadata": {},
          "execution_count": 1
        }
      ],
      "source": [
        "import pandas as pd\n",
        "df=pd.read_csv(\"/content/drive/MyDrive/_Amazon_Clothing_Sales_2025 DS12  - Amazon_Clothing_Sales_2025.csv\")\n",
        "df"
      ]
    },
    {
      "cell_type": "code",
      "source": [
        "df.shape"
      ],
      "metadata": {
        "colab": {
          "base_uri": "https://localhost:8080/"
        },
        "id": "seGhAQ_HBgRk",
        "outputId": "2b35b196-a9ac-4cd4-b3ad-6b2c6f3c8259"
      },
      "execution_count": null,
      "outputs": [
        {
          "output_type": "execute_result",
          "data": {
            "text/plain": [
              "(25000, 19)"
            ]
          },
          "metadata": {},
          "execution_count": 2
        }
      ]
    },
    {
      "cell_type": "code",
      "source": [
        "df.dtypes"
      ],
      "metadata": {
        "colab": {
          "base_uri": "https://localhost:8080/",
          "height": 679
        },
        "id": "G8aGHFfhCU0B",
        "outputId": "8b57fc47-07a2-49e9-ba14-9e013c3a95ce"
      },
      "execution_count": null,
      "outputs": [
        {
          "output_type": "execute_result",
          "data": {
            "text/plain": [
              "order_id               object\n",
              "customer_id            object\n",
              "product_id             object\n",
              "product_name           object\n",
              "main_category          object\n",
              "sub_category           object\n",
              "brand                  object\n",
              "price                 float64\n",
              "quantity                int64\n",
              "discount_percent        int64\n",
              "final_price           float64\n",
              "payment_method         object\n",
              "review_rating           int64\n",
              "order_date             object\n",
              "delivery_days         float64\n",
              "is_returned             int64\n",
              "region                 object\n",
              "customer_age_group     object\n",
              "device_type            object\n",
              "dtype: object"
            ],
            "text/html": [
              "<div>\n",
              "<style scoped>\n",
              "    .dataframe tbody tr th:only-of-type {\n",
              "        vertical-align: middle;\n",
              "    }\n",
              "\n",
              "    .dataframe tbody tr th {\n",
              "        vertical-align: top;\n",
              "    }\n",
              "\n",
              "    .dataframe thead th {\n",
              "        text-align: right;\n",
              "    }\n",
              "</style>\n",
              "<table border=\"1\" class=\"dataframe\">\n",
              "  <thead>\n",
              "    <tr style=\"text-align: right;\">\n",
              "      <th></th>\n",
              "      <th>0</th>\n",
              "    </tr>\n",
              "  </thead>\n",
              "  <tbody>\n",
              "    <tr>\n",
              "      <th>order_id</th>\n",
              "      <td>object</td>\n",
              "    </tr>\n",
              "    <tr>\n",
              "      <th>customer_id</th>\n",
              "      <td>object</td>\n",
              "    </tr>\n",
              "    <tr>\n",
              "      <th>product_id</th>\n",
              "      <td>object</td>\n",
              "    </tr>\n",
              "    <tr>\n",
              "      <th>product_name</th>\n",
              "      <td>object</td>\n",
              "    </tr>\n",
              "    <tr>\n",
              "      <th>main_category</th>\n",
              "      <td>object</td>\n",
              "    </tr>\n",
              "    <tr>\n",
              "      <th>sub_category</th>\n",
              "      <td>object</td>\n",
              "    </tr>\n",
              "    <tr>\n",
              "      <th>brand</th>\n",
              "      <td>object</td>\n",
              "    </tr>\n",
              "    <tr>\n",
              "      <th>price</th>\n",
              "      <td>float64</td>\n",
              "    </tr>\n",
              "    <tr>\n",
              "      <th>quantity</th>\n",
              "      <td>int64</td>\n",
              "    </tr>\n",
              "    <tr>\n",
              "      <th>discount_percent</th>\n",
              "      <td>int64</td>\n",
              "    </tr>\n",
              "    <tr>\n",
              "      <th>final_price</th>\n",
              "      <td>float64</td>\n",
              "    </tr>\n",
              "    <tr>\n",
              "      <th>payment_method</th>\n",
              "      <td>object</td>\n",
              "    </tr>\n",
              "    <tr>\n",
              "      <th>review_rating</th>\n",
              "      <td>int64</td>\n",
              "    </tr>\n",
              "    <tr>\n",
              "      <th>order_date</th>\n",
              "      <td>object</td>\n",
              "    </tr>\n",
              "    <tr>\n",
              "      <th>delivery_days</th>\n",
              "      <td>float64</td>\n",
              "    </tr>\n",
              "    <tr>\n",
              "      <th>is_returned</th>\n",
              "      <td>int64</td>\n",
              "    </tr>\n",
              "    <tr>\n",
              "      <th>region</th>\n",
              "      <td>object</td>\n",
              "    </tr>\n",
              "    <tr>\n",
              "      <th>customer_age_group</th>\n",
              "      <td>object</td>\n",
              "    </tr>\n",
              "    <tr>\n",
              "      <th>device_type</th>\n",
              "      <td>object</td>\n",
              "    </tr>\n",
              "  </tbody>\n",
              "</table>\n",
              "</div><br><label><b>dtype:</b> object</label>"
            ]
          },
          "metadata": {},
          "execution_count": 3
        }
      ]
    },
    {
      "cell_type": "code",
      "source": [
        "df['order_date'] = pd.to_datetime(df['order_date'])\n"
      ],
      "metadata": {
        "id": "xVcbGFG9EtU1"
      },
      "execution_count": null,
      "outputs": []
    },
    {
      "cell_type": "code",
      "source": [
        "df.dtypes"
      ],
      "metadata": {
        "colab": {
          "base_uri": "https://localhost:8080/",
          "height": 679
        },
        "id": "3i8IkF0pE02z",
        "outputId": "c90803a3-5615-4b6e-d9e5-85be073abe41"
      },
      "execution_count": null,
      "outputs": [
        {
          "output_type": "execute_result",
          "data": {
            "text/plain": [
              "order_id                      object\n",
              "customer_id                   object\n",
              "product_id                    object\n",
              "product_name                  object\n",
              "main_category                 object\n",
              "sub_category                  object\n",
              "brand                         object\n",
              "price                        float64\n",
              "quantity                       int64\n",
              "discount_percent               int64\n",
              "final_price                  float64\n",
              "payment_method                object\n",
              "review_rating                  int64\n",
              "order_date            datetime64[ns]\n",
              "delivery_days                float64\n",
              "is_returned                    int64\n",
              "region                        object\n",
              "customer_age_group            object\n",
              "device_type                   object\n",
              "dtype: object"
            ],
            "text/html": [
              "<div>\n",
              "<style scoped>\n",
              "    .dataframe tbody tr th:only-of-type {\n",
              "        vertical-align: middle;\n",
              "    }\n",
              "\n",
              "    .dataframe tbody tr th {\n",
              "        vertical-align: top;\n",
              "    }\n",
              "\n",
              "    .dataframe thead th {\n",
              "        text-align: right;\n",
              "    }\n",
              "</style>\n",
              "<table border=\"1\" class=\"dataframe\">\n",
              "  <thead>\n",
              "    <tr style=\"text-align: right;\">\n",
              "      <th></th>\n",
              "      <th>0</th>\n",
              "    </tr>\n",
              "  </thead>\n",
              "  <tbody>\n",
              "    <tr>\n",
              "      <th>order_id</th>\n",
              "      <td>object</td>\n",
              "    </tr>\n",
              "    <tr>\n",
              "      <th>customer_id</th>\n",
              "      <td>object</td>\n",
              "    </tr>\n",
              "    <tr>\n",
              "      <th>product_id</th>\n",
              "      <td>object</td>\n",
              "    </tr>\n",
              "    <tr>\n",
              "      <th>product_name</th>\n",
              "      <td>object</td>\n",
              "    </tr>\n",
              "    <tr>\n",
              "      <th>main_category</th>\n",
              "      <td>object</td>\n",
              "    </tr>\n",
              "    <tr>\n",
              "      <th>sub_category</th>\n",
              "      <td>object</td>\n",
              "    </tr>\n",
              "    <tr>\n",
              "      <th>brand</th>\n",
              "      <td>object</td>\n",
              "    </tr>\n",
              "    <tr>\n",
              "      <th>price</th>\n",
              "      <td>float64</td>\n",
              "    </tr>\n",
              "    <tr>\n",
              "      <th>quantity</th>\n",
              "      <td>int64</td>\n",
              "    </tr>\n",
              "    <tr>\n",
              "      <th>discount_percent</th>\n",
              "      <td>int64</td>\n",
              "    </tr>\n",
              "    <tr>\n",
              "      <th>final_price</th>\n",
              "      <td>float64</td>\n",
              "    </tr>\n",
              "    <tr>\n",
              "      <th>payment_method</th>\n",
              "      <td>object</td>\n",
              "    </tr>\n",
              "    <tr>\n",
              "      <th>review_rating</th>\n",
              "      <td>int64</td>\n",
              "    </tr>\n",
              "    <tr>\n",
              "      <th>order_date</th>\n",
              "      <td>datetime64[ns]</td>\n",
              "    </tr>\n",
              "    <tr>\n",
              "      <th>delivery_days</th>\n",
              "      <td>float64</td>\n",
              "    </tr>\n",
              "    <tr>\n",
              "      <th>is_returned</th>\n",
              "      <td>int64</td>\n",
              "    </tr>\n",
              "    <tr>\n",
              "      <th>region</th>\n",
              "      <td>object</td>\n",
              "    </tr>\n",
              "    <tr>\n",
              "      <th>customer_age_group</th>\n",
              "      <td>object</td>\n",
              "    </tr>\n",
              "    <tr>\n",
              "      <th>device_type</th>\n",
              "      <td>object</td>\n",
              "    </tr>\n",
              "  </tbody>\n",
              "</table>\n",
              "</div><br><label><b>dtype:</b> object</label>"
            ]
          },
          "metadata": {},
          "execution_count": 5
        }
      ]
    },
    {
      "cell_type": "code",
      "source": [
        "df['delivery_days'] = df['delivery_days'].astype('Int64')\n",
        "\n"
      ],
      "metadata": {
        "id": "PlM-LbZpGeNq"
      },
      "execution_count": null,
      "outputs": []
    },
    {
      "cell_type": "code",
      "source": [
        "df.head()"
      ],
      "metadata": {
        "colab": {
          "base_uri": "https://localhost:8080/",
          "height": 295
        },
        "id": "foimRR4hHqFe",
        "outputId": "bf3ea87b-6edf-49c4-a9b0-e038238ca26d"
      },
      "execution_count": null,
      "outputs": [
        {
          "output_type": "execute_result",
          "data": {
            "text/plain": [
              "          order_id   customer_id  product_id      product_name main_category  \\\n",
              "0  #HLWTRIGAJB0RFL  A86556872001  6Q3V14RXRF   Huggies Rompers          baby   \n",
              "1  #9LMWG6T6H0IPE0  0A9218115AAA  33MRMEM3WN   Gerber Blankets          Baby   \n",
              "2  #Q6J5C5621SSE5V  8A5A09200074  E674NZH16V      Fossil Jeans           Men   \n",
              "3  #J145DOUKB5RVBN  97602786977A  ETMIXJHFAT  Carter's Rompers          Baby   \n",
              "4  #7ZXNMSUU22AK4J  744297746010  5BYOWYYY5P   Adidas Sneakers          Kids   \n",
              "\n",
              "  sub_category     brand   price  quantity  discount_percent  final_price  \\\n",
              "0      Rompers   Huggies  118.62         1                10       106.76   \n",
              "1     Blankets    Gerber   26.84         1                15        22.81   \n",
              "2        Jeans    Fossil  219.38         2                25       329.07   \n",
              "3      Rompers  Carter's   12.05         1                 0        12.05   \n",
              "4     Sneakers    Adidas  145.36         1                10       130.82   \n",
              "\n",
              "  payment_method  review_rating order_date  delivery_days  is_returned  \\\n",
              "0         PayPal              3 2024-09-10              5            0   \n",
              "1      Gift Card              2 2025-06-25              8            0   \n",
              "2      Gift Card              4 2025-01-08              5            0   \n",
              "3    Credit Card              5 2024-08-28              3            0   \n",
              "4    Credit Card              1 2024-11-12              5            0   \n",
              "\n",
              "      region customer_age_group device_type  \n",
              "0    Midwest              25-34      Mobile  \n",
              "1       West              25-34      Mobile  \n",
              "2  Northeast              35-44      Mobile  \n",
              "3    Midwest              45-54      Mobile  \n",
              "4        NaN              45-54      Mobile  "
            ],
            "text/html": [
              "\n",
              "  <div id=\"df-f76af3cf-1d0e-4a4f-8e5e-a64faaeb8e7a\" class=\"colab-df-container\">\n",
              "    <div>\n",
              "<style scoped>\n",
              "    .dataframe tbody tr th:only-of-type {\n",
              "        vertical-align: middle;\n",
              "    }\n",
              "\n",
              "    .dataframe tbody tr th {\n",
              "        vertical-align: top;\n",
              "    }\n",
              "\n",
              "    .dataframe thead th {\n",
              "        text-align: right;\n",
              "    }\n",
              "</style>\n",
              "<table border=\"1\" class=\"dataframe\">\n",
              "  <thead>\n",
              "    <tr style=\"text-align: right;\">\n",
              "      <th></th>\n",
              "      <th>order_id</th>\n",
              "      <th>customer_id</th>\n",
              "      <th>product_id</th>\n",
              "      <th>product_name</th>\n",
              "      <th>main_category</th>\n",
              "      <th>sub_category</th>\n",
              "      <th>brand</th>\n",
              "      <th>price</th>\n",
              "      <th>quantity</th>\n",
              "      <th>discount_percent</th>\n",
              "      <th>final_price</th>\n",
              "      <th>payment_method</th>\n",
              "      <th>review_rating</th>\n",
              "      <th>order_date</th>\n",
              "      <th>delivery_days</th>\n",
              "      <th>is_returned</th>\n",
              "      <th>region</th>\n",
              "      <th>customer_age_group</th>\n",
              "      <th>device_type</th>\n",
              "    </tr>\n",
              "  </thead>\n",
              "  <tbody>\n",
              "    <tr>\n",
              "      <th>0</th>\n",
              "      <td>#HLWTRIGAJB0RFL</td>\n",
              "      <td>A86556872001</td>\n",
              "      <td>6Q3V14RXRF</td>\n",
              "      <td>Huggies Rompers</td>\n",
              "      <td>baby</td>\n",
              "      <td>Rompers</td>\n",
              "      <td>Huggies</td>\n",
              "      <td>118.62</td>\n",
              "      <td>1</td>\n",
              "      <td>10</td>\n",
              "      <td>106.76</td>\n",
              "      <td>PayPal</td>\n",
              "      <td>3</td>\n",
              "      <td>2024-09-10</td>\n",
              "      <td>5</td>\n",
              "      <td>0</td>\n",
              "      <td>Midwest</td>\n",
              "      <td>25-34</td>\n",
              "      <td>Mobile</td>\n",
              "    </tr>\n",
              "    <tr>\n",
              "      <th>1</th>\n",
              "      <td>#9LMWG6T6H0IPE0</td>\n",
              "      <td>0A9218115AAA</td>\n",
              "      <td>33MRMEM3WN</td>\n",
              "      <td>Gerber Blankets</td>\n",
              "      <td>Baby</td>\n",
              "      <td>Blankets</td>\n",
              "      <td>Gerber</td>\n",
              "      <td>26.84</td>\n",
              "      <td>1</td>\n",
              "      <td>15</td>\n",
              "      <td>22.81</td>\n",
              "      <td>Gift Card</td>\n",
              "      <td>2</td>\n",
              "      <td>2025-06-25</td>\n",
              "      <td>8</td>\n",
              "      <td>0</td>\n",
              "      <td>West</td>\n",
              "      <td>25-34</td>\n",
              "      <td>Mobile</td>\n",
              "    </tr>\n",
              "    <tr>\n",
              "      <th>2</th>\n",
              "      <td>#Q6J5C5621SSE5V</td>\n",
              "      <td>8A5A09200074</td>\n",
              "      <td>E674NZH16V</td>\n",
              "      <td>Fossil Jeans</td>\n",
              "      <td>Men</td>\n",
              "      <td>Jeans</td>\n",
              "      <td>Fossil</td>\n",
              "      <td>219.38</td>\n",
              "      <td>2</td>\n",
              "      <td>25</td>\n",
              "      <td>329.07</td>\n",
              "      <td>Gift Card</td>\n",
              "      <td>4</td>\n",
              "      <td>2025-01-08</td>\n",
              "      <td>5</td>\n",
              "      <td>0</td>\n",
              "      <td>Northeast</td>\n",
              "      <td>35-44</td>\n",
              "      <td>Mobile</td>\n",
              "    </tr>\n",
              "    <tr>\n",
              "      <th>3</th>\n",
              "      <td>#J145DOUKB5RVBN</td>\n",
              "      <td>97602786977A</td>\n",
              "      <td>ETMIXJHFAT</td>\n",
              "      <td>Carter's Rompers</td>\n",
              "      <td>Baby</td>\n",
              "      <td>Rompers</td>\n",
              "      <td>Carter's</td>\n",
              "      <td>12.05</td>\n",
              "      <td>1</td>\n",
              "      <td>0</td>\n",
              "      <td>12.05</td>\n",
              "      <td>Credit Card</td>\n",
              "      <td>5</td>\n",
              "      <td>2024-08-28</td>\n",
              "      <td>3</td>\n",
              "      <td>0</td>\n",
              "      <td>Midwest</td>\n",
              "      <td>45-54</td>\n",
              "      <td>Mobile</td>\n",
              "    </tr>\n",
              "    <tr>\n",
              "      <th>4</th>\n",
              "      <td>#7ZXNMSUU22AK4J</td>\n",
              "      <td>744297746010</td>\n",
              "      <td>5BYOWYYY5P</td>\n",
              "      <td>Adidas Sneakers</td>\n",
              "      <td>Kids</td>\n",
              "      <td>Sneakers</td>\n",
              "      <td>Adidas</td>\n",
              "      <td>145.36</td>\n",
              "      <td>1</td>\n",
              "      <td>10</td>\n",
              "      <td>130.82</td>\n",
              "      <td>Credit Card</td>\n",
              "      <td>1</td>\n",
              "      <td>2024-11-12</td>\n",
              "      <td>5</td>\n",
              "      <td>0</td>\n",
              "      <td>NaN</td>\n",
              "      <td>45-54</td>\n",
              "      <td>Mobile</td>\n",
              "    </tr>\n",
              "  </tbody>\n",
              "</table>\n",
              "</div>\n",
              "    <div class=\"colab-df-buttons\">\n",
              "\n",
              "  <div class=\"colab-df-container\">\n",
              "    <button class=\"colab-df-convert\" onclick=\"convertToInteractive('df-f76af3cf-1d0e-4a4f-8e5e-a64faaeb8e7a')\"\n",
              "            title=\"Convert this dataframe to an interactive table.\"\n",
              "            style=\"display:none;\">\n",
              "\n",
              "  <svg xmlns=\"http://www.w3.org/2000/svg\" height=\"24px\" viewBox=\"0 -960 960 960\">\n",
              "    <path d=\"M120-120v-720h720v720H120Zm60-500h600v-160H180v160Zm220 220h160v-160H400v160Zm0 220h160v-160H400v160ZM180-400h160v-160H180v160Zm440 0h160v-160H620v160ZM180-180h160v-160H180v160Zm440 0h160v-160H620v160Z\"/>\n",
              "  </svg>\n",
              "    </button>\n",
              "\n",
              "  <style>\n",
              "    .colab-df-container {\n",
              "      display:flex;\n",
              "      gap: 12px;\n",
              "    }\n",
              "\n",
              "    .colab-df-convert {\n",
              "      background-color: #E8F0FE;\n",
              "      border: none;\n",
              "      border-radius: 50%;\n",
              "      cursor: pointer;\n",
              "      display: none;\n",
              "      fill: #1967D2;\n",
              "      height: 32px;\n",
              "      padding: 0 0 0 0;\n",
              "      width: 32px;\n",
              "    }\n",
              "\n",
              "    .colab-df-convert:hover {\n",
              "      background-color: #E2EBFA;\n",
              "      box-shadow: 0px 1px 2px rgba(60, 64, 67, 0.3), 0px 1px 3px 1px rgba(60, 64, 67, 0.15);\n",
              "      fill: #174EA6;\n",
              "    }\n",
              "\n",
              "    .colab-df-buttons div {\n",
              "      margin-bottom: 4px;\n",
              "    }\n",
              "\n",
              "    [theme=dark] .colab-df-convert {\n",
              "      background-color: #3B4455;\n",
              "      fill: #D2E3FC;\n",
              "    }\n",
              "\n",
              "    [theme=dark] .colab-df-convert:hover {\n",
              "      background-color: #434B5C;\n",
              "      box-shadow: 0px 1px 3px 1px rgba(0, 0, 0, 0.15);\n",
              "      filter: drop-shadow(0px 1px 2px rgba(0, 0, 0, 0.3));\n",
              "      fill: #FFFFFF;\n",
              "    }\n",
              "  </style>\n",
              "\n",
              "    <script>\n",
              "      const buttonEl =\n",
              "        document.querySelector('#df-f76af3cf-1d0e-4a4f-8e5e-a64faaeb8e7a button.colab-df-convert');\n",
              "      buttonEl.style.display =\n",
              "        google.colab.kernel.accessAllowed ? 'block' : 'none';\n",
              "\n",
              "      async function convertToInteractive(key) {\n",
              "        const element = document.querySelector('#df-f76af3cf-1d0e-4a4f-8e5e-a64faaeb8e7a');\n",
              "        const dataTable =\n",
              "          await google.colab.kernel.invokeFunction('convertToInteractive',\n",
              "                                                    [key], {});\n",
              "        if (!dataTable) return;\n",
              "\n",
              "        const docLinkHtml = 'Like what you see? Visit the ' +\n",
              "          '<a target=\"_blank\" href=https://colab.research.google.com/notebooks/data_table.ipynb>data table notebook</a>'\n",
              "          + ' to learn more about interactive tables.';\n",
              "        element.innerHTML = '';\n",
              "        dataTable['output_type'] = 'display_data';\n",
              "        await google.colab.output.renderOutput(dataTable, element);\n",
              "        const docLink = document.createElement('div');\n",
              "        docLink.innerHTML = docLinkHtml;\n",
              "        element.appendChild(docLink);\n",
              "      }\n",
              "    </script>\n",
              "  </div>\n",
              "\n",
              "\n",
              "    <div id=\"df-685ecc0a-a339-4cb9-9db4-06cad8703a03\">\n",
              "      <button class=\"colab-df-quickchart\" onclick=\"quickchart('df-685ecc0a-a339-4cb9-9db4-06cad8703a03')\"\n",
              "                title=\"Suggest charts\"\n",
              "                style=\"display:none;\">\n",
              "\n",
              "<svg xmlns=\"http://www.w3.org/2000/svg\" height=\"24px\"viewBox=\"0 0 24 24\"\n",
              "     width=\"24px\">\n",
              "    <g>\n",
              "        <path d=\"M19 3H5c-1.1 0-2 .9-2 2v14c0 1.1.9 2 2 2h14c1.1 0 2-.9 2-2V5c0-1.1-.9-2-2-2zM9 17H7v-7h2v7zm4 0h-2V7h2v10zm4 0h-2v-4h2v4z\"/>\n",
              "    </g>\n",
              "</svg>\n",
              "      </button>\n",
              "\n",
              "<style>\n",
              "  .colab-df-quickchart {\n",
              "      --bg-color: #E8F0FE;\n",
              "      --fill-color: #1967D2;\n",
              "      --hover-bg-color: #E2EBFA;\n",
              "      --hover-fill-color: #174EA6;\n",
              "      --disabled-fill-color: #AAA;\n",
              "      --disabled-bg-color: #DDD;\n",
              "  }\n",
              "\n",
              "  [theme=dark] .colab-df-quickchart {\n",
              "      --bg-color: #3B4455;\n",
              "      --fill-color: #D2E3FC;\n",
              "      --hover-bg-color: #434B5C;\n",
              "      --hover-fill-color: #FFFFFF;\n",
              "      --disabled-bg-color: #3B4455;\n",
              "      --disabled-fill-color: #666;\n",
              "  }\n",
              "\n",
              "  .colab-df-quickchart {\n",
              "    background-color: var(--bg-color);\n",
              "    border: none;\n",
              "    border-radius: 50%;\n",
              "    cursor: pointer;\n",
              "    display: none;\n",
              "    fill: var(--fill-color);\n",
              "    height: 32px;\n",
              "    padding: 0;\n",
              "    width: 32px;\n",
              "  }\n",
              "\n",
              "  .colab-df-quickchart:hover {\n",
              "    background-color: var(--hover-bg-color);\n",
              "    box-shadow: 0 1px 2px rgba(60, 64, 67, 0.3), 0 1px 3px 1px rgba(60, 64, 67, 0.15);\n",
              "    fill: var(--button-hover-fill-color);\n",
              "  }\n",
              "\n",
              "  .colab-df-quickchart-complete:disabled,\n",
              "  .colab-df-quickchart-complete:disabled:hover {\n",
              "    background-color: var(--disabled-bg-color);\n",
              "    fill: var(--disabled-fill-color);\n",
              "    box-shadow: none;\n",
              "  }\n",
              "\n",
              "  .colab-df-spinner {\n",
              "    border: 2px solid var(--fill-color);\n",
              "    border-color: transparent;\n",
              "    border-bottom-color: var(--fill-color);\n",
              "    animation:\n",
              "      spin 1s steps(1) infinite;\n",
              "  }\n",
              "\n",
              "  @keyframes spin {\n",
              "    0% {\n",
              "      border-color: transparent;\n",
              "      border-bottom-color: var(--fill-color);\n",
              "      border-left-color: var(--fill-color);\n",
              "    }\n",
              "    20% {\n",
              "      border-color: transparent;\n",
              "      border-left-color: var(--fill-color);\n",
              "      border-top-color: var(--fill-color);\n",
              "    }\n",
              "    30% {\n",
              "      border-color: transparent;\n",
              "      border-left-color: var(--fill-color);\n",
              "      border-top-color: var(--fill-color);\n",
              "      border-right-color: var(--fill-color);\n",
              "    }\n",
              "    40% {\n",
              "      border-color: transparent;\n",
              "      border-right-color: var(--fill-color);\n",
              "      border-top-color: var(--fill-color);\n",
              "    }\n",
              "    60% {\n",
              "      border-color: transparent;\n",
              "      border-right-color: var(--fill-color);\n",
              "    }\n",
              "    80% {\n",
              "      border-color: transparent;\n",
              "      border-right-color: var(--fill-color);\n",
              "      border-bottom-color: var(--fill-color);\n",
              "    }\n",
              "    90% {\n",
              "      border-color: transparent;\n",
              "      border-bottom-color: var(--fill-color);\n",
              "    }\n",
              "  }\n",
              "</style>\n",
              "\n",
              "      <script>\n",
              "        async function quickchart(key) {\n",
              "          const quickchartButtonEl =\n",
              "            document.querySelector('#' + key + ' button');\n",
              "          quickchartButtonEl.disabled = true;  // To prevent multiple clicks.\n",
              "          quickchartButtonEl.classList.add('colab-df-spinner');\n",
              "          try {\n",
              "            const charts = await google.colab.kernel.invokeFunction(\n",
              "                'suggestCharts', [key], {});\n",
              "          } catch (error) {\n",
              "            console.error('Error during call to suggestCharts:', error);\n",
              "          }\n",
              "          quickchartButtonEl.classList.remove('colab-df-spinner');\n",
              "          quickchartButtonEl.classList.add('colab-df-quickchart-complete');\n",
              "        }\n",
              "        (() => {\n",
              "          let quickchartButtonEl =\n",
              "            document.querySelector('#df-685ecc0a-a339-4cb9-9db4-06cad8703a03 button');\n",
              "          quickchartButtonEl.style.display =\n",
              "            google.colab.kernel.accessAllowed ? 'block' : 'none';\n",
              "        })();\n",
              "      </script>\n",
              "    </div>\n",
              "\n",
              "    </div>\n",
              "  </div>\n"
            ],
            "application/vnd.google.colaboratory.intrinsic+json": {
              "type": "dataframe",
              "variable_name": "df",
              "summary": "{\n  \"name\": \"df\",\n  \"rows\": 25000,\n  \"fields\": [\n    {\n      \"column\": \"order_id\",\n      \"properties\": {\n        \"dtype\": \"string\",\n        \"num_unique_values\": 25000,\n        \"samples\": [\n          \"#JC7Q3QFZIG4ZGM\",\n          \"#BXHE982OPP8H5A\",\n          \"#JAAJW4NW2QA7N5\"\n        ],\n        \"semantic_type\": \"\",\n        \"description\": \"\"\n      }\n    },\n    {\n      \"column\": \"customer_id\",\n      \"properties\": {\n        \"dtype\": \"string\",\n        \"num_unique_values\": 25000,\n        \"samples\": [\n          \"105707353567\",\n          \"32269462A188\",\n          \"151345760A20\"\n        ],\n        \"semantic_type\": \"\",\n        \"description\": \"\"\n      }\n    },\n    {\n      \"column\": \"product_id\",\n      \"properties\": {\n        \"dtype\": \"string\",\n        \"num_unique_values\": 25000,\n        \"samples\": [\n          \"FYHAMKE8WJ\",\n          \"PVQNLH2E6N\",\n          \"ENB8867B0R\"\n        ],\n        \"semantic_type\": \"\",\n        \"description\": \"\"\n      }\n    },\n    {\n      \"column\": \"product_name\",\n      \"properties\": {\n        \"dtype\": \"category\",\n        \"num_unique_values\": 100,\n        \"samples\": [\n          \"Reebok Tops\",\n          \"Adidas Caps\",\n          \"Levi's Watches\"\n        ],\n        \"semantic_type\": \"\",\n        \"description\": \"\"\n      }\n    },\n    {\n      \"column\": \"main_category\",\n      \"properties\": {\n        \"dtype\": \"category\",\n        \"num_unique_values\": 8,\n        \"samples\": [\n          \"Baby\",\n          \"women\",\n          \"baby\"\n        ],\n        \"semantic_type\": \"\",\n        \"description\": \"\"\n      }\n    },\n    {\n      \"column\": \"sub_category\",\n      \"properties\": {\n        \"dtype\": \"category\",\n        \"num_unique_values\": 32,\n        \"samples\": [\n          \"Booti3s\",\n          \"Shorts\",\n          \"J3w3lry\"\n        ],\n        \"semantic_type\": \"\",\n        \"description\": \"\"\n      }\n    },\n    {\n      \"column\": \"brand\",\n      \"properties\": {\n        \"dtype\": \"category\",\n        \"num_unique_values\": 17,\n        \"samples\": [\n          \"Huggies\",\n          \"Gerber\",\n          \"Puma\"\n        ],\n        \"semantic_type\": \"\",\n        \"description\": \"\"\n      }\n    },\n    {\n      \"column\": \"price\",\n      \"properties\": {\n        \"dtype\": \"number\",\n        \"std\": 84.44383030378815,\n        \"min\": 10.02,\n        \"max\": 299.98,\n        \"num_unique_values\": 16576,\n        \"samples\": [\n          65.7,\n          129.44,\n          154.4\n        ],\n        \"semantic_type\": \"\",\n        \"description\": \"\"\n      }\n    },\n    {\n      \"column\": \"quantity\",\n      \"properties\": {\n        \"dtype\": \"number\",\n        \"std\": 0,\n        \"min\": 1,\n        \"max\": 3,\n        \"num_unique_values\": 3,\n        \"samples\": [\n          1,\n          2,\n          3\n        ],\n        \"semantic_type\": \"\",\n        \"description\": \"\"\n      }\n    },\n    {\n      \"column\": \"discount_percent\",\n      \"properties\": {\n        \"dtype\": \"number\",\n        \"std\": 8,\n        \"min\": 0,\n        \"max\": 25,\n        \"num_unique_values\": 6,\n        \"samples\": [\n          10,\n          15,\n          20\n        ],\n        \"semantic_type\": \"\",\n        \"description\": \"\"\n      }\n    },\n    {\n      \"column\": \"final_price\",\n      \"properties\": {\n        \"dtype\": \"number\",\n        \"std\": 196.18847600476718,\n        \"min\": 7.53,\n        \"max\": 899.79,\n        \"num_unique_values\": 20151,\n        \"samples\": [\n          166.91,\n          101.65,\n          63.63\n        ],\n        \"semantic_type\": \"\",\n        \"description\": \"\"\n      }\n    },\n    {\n      \"column\": \"payment_method\",\n      \"properties\": {\n        \"dtype\": \"category\",\n        \"num_unique_values\": 4,\n        \"samples\": [\n          \"Gift Card\",\n          \"Cash on Delivery\",\n          \"PayPal\"\n        ],\n        \"semantic_type\": \"\",\n        \"description\": \"\"\n      }\n    },\n    {\n      \"column\": \"review_rating\",\n      \"properties\": {\n        \"dtype\": \"number\",\n        \"std\": 1,\n        \"min\": 1,\n        \"max\": 5,\n        \"num_unique_values\": 5,\n        \"samples\": [\n          2,\n          1,\n          4\n        ],\n        \"semantic_type\": \"\",\n        \"description\": \"\"\n      }\n    },\n    {\n      \"column\": \"order_date\",\n      \"properties\": {\n        \"dtype\": \"date\",\n        \"min\": \"2024-07-01 00:00:00\",\n        \"max\": \"2025-06-30 00:00:00\",\n        \"num_unique_values\": 365,\n        \"samples\": [\n          \"2025-03-23 00:00:00\",\n          \"2024-12-05 00:00:00\",\n          \"2025-01-23 00:00:00\"\n        ],\n        \"semantic_type\": \"\",\n        \"description\": \"\"\n      }\n    },\n    {\n      \"column\": \"delivery_days\",\n      \"properties\": {\n        \"dtype\": \"Int64\",\n        \"num_unique_values\": 9,\n        \"samples\": [\n          6,\n          8,\n          7\n        ],\n        \"semantic_type\": \"\",\n        \"description\": \"\"\n      }\n    },\n    {\n      \"column\": \"is_returned\",\n      \"properties\": {\n        \"dtype\": \"number\",\n        \"std\": 0,\n        \"min\": 0,\n        \"max\": 1,\n        \"num_unique_values\": 2,\n        \"samples\": [\n          1,\n          0\n        ],\n        \"semantic_type\": \"\",\n        \"description\": \"\"\n      }\n    },\n    {\n      \"column\": \"region\",\n      \"properties\": {\n        \"dtype\": \"category\",\n        \"num_unique_values\": 4,\n        \"samples\": [\n          \"West\",\n          \"South\"\n        ],\n        \"semantic_type\": \"\",\n        \"description\": \"\"\n      }\n    },\n    {\n      \"column\": \"customer_age_group\",\n      \"properties\": {\n        \"dtype\": \"category\",\n        \"num_unique_values\": 5,\n        \"samples\": [\n          \"35-44\",\n          \"18-24\"\n        ],\n        \"semantic_type\": \"\",\n        \"description\": \"\"\n      }\n    },\n    {\n      \"column\": \"device_type\",\n      \"properties\": {\n        \"dtype\": \"category\",\n        \"num_unique_values\": 3,\n        \"samples\": [\n          \"Mobile\",\n          \"App\"\n        ],\n        \"semantic_type\": \"\",\n        \"description\": \"\"\n      }\n    }\n  ]\n}"
            }
          },
          "metadata": {},
          "execution_count": 9
        }
      ]
    },
    {
      "cell_type": "markdown",
      "source": [
        "missing values\n"
      ],
      "metadata": {
        "id": "3GCYuQMFIHxl"
      }
    },
    {
      "cell_type": "code",
      "source": [
        "df.isnull().sum()"
      ],
      "metadata": {
        "colab": {
          "base_uri": "https://localhost:8080/",
          "height": 679
        },
        "id": "OADF8ghaIP-z",
        "outputId": "8652da6d-34d7-43da-de4f-204fcc91494e"
      },
      "execution_count": null,
      "outputs": [
        {
          "output_type": "execute_result",
          "data": {
            "text/plain": [
              "order_id                 0\n",
              "customer_id              0\n",
              "product_id               0\n",
              "product_name             0\n",
              "main_category            0\n",
              "sub_category             0\n",
              "brand                 1250\n",
              "price                  250\n",
              "quantity                 0\n",
              "discount_percent         0\n",
              "final_price              0\n",
              "payment_method        1250\n",
              "review_rating            0\n",
              "order_date               0\n",
              "delivery_days          250\n",
              "is_returned              0\n",
              "region                1250\n",
              "customer_age_group    1250\n",
              "device_type           1250\n",
              "dtype: int64"
            ],
            "text/html": [
              "<div>\n",
              "<style scoped>\n",
              "    .dataframe tbody tr th:only-of-type {\n",
              "        vertical-align: middle;\n",
              "    }\n",
              "\n",
              "    .dataframe tbody tr th {\n",
              "        vertical-align: top;\n",
              "    }\n",
              "\n",
              "    .dataframe thead th {\n",
              "        text-align: right;\n",
              "    }\n",
              "</style>\n",
              "<table border=\"1\" class=\"dataframe\">\n",
              "  <thead>\n",
              "    <tr style=\"text-align: right;\">\n",
              "      <th></th>\n",
              "      <th>0</th>\n",
              "    </tr>\n",
              "  </thead>\n",
              "  <tbody>\n",
              "    <tr>\n",
              "      <th>order_id</th>\n",
              "      <td>0</td>\n",
              "    </tr>\n",
              "    <tr>\n",
              "      <th>customer_id</th>\n",
              "      <td>0</td>\n",
              "    </tr>\n",
              "    <tr>\n",
              "      <th>product_id</th>\n",
              "      <td>0</td>\n",
              "    </tr>\n",
              "    <tr>\n",
              "      <th>product_name</th>\n",
              "      <td>0</td>\n",
              "    </tr>\n",
              "    <tr>\n",
              "      <th>main_category</th>\n",
              "      <td>0</td>\n",
              "    </tr>\n",
              "    <tr>\n",
              "      <th>sub_category</th>\n",
              "      <td>0</td>\n",
              "    </tr>\n",
              "    <tr>\n",
              "      <th>brand</th>\n",
              "      <td>1250</td>\n",
              "    </tr>\n",
              "    <tr>\n",
              "      <th>price</th>\n",
              "      <td>250</td>\n",
              "    </tr>\n",
              "    <tr>\n",
              "      <th>quantity</th>\n",
              "      <td>0</td>\n",
              "    </tr>\n",
              "    <tr>\n",
              "      <th>discount_percent</th>\n",
              "      <td>0</td>\n",
              "    </tr>\n",
              "    <tr>\n",
              "      <th>final_price</th>\n",
              "      <td>0</td>\n",
              "    </tr>\n",
              "    <tr>\n",
              "      <th>payment_method</th>\n",
              "      <td>1250</td>\n",
              "    </tr>\n",
              "    <tr>\n",
              "      <th>review_rating</th>\n",
              "      <td>0</td>\n",
              "    </tr>\n",
              "    <tr>\n",
              "      <th>order_date</th>\n",
              "      <td>0</td>\n",
              "    </tr>\n",
              "    <tr>\n",
              "      <th>delivery_days</th>\n",
              "      <td>250</td>\n",
              "    </tr>\n",
              "    <tr>\n",
              "      <th>is_returned</th>\n",
              "      <td>0</td>\n",
              "    </tr>\n",
              "    <tr>\n",
              "      <th>region</th>\n",
              "      <td>1250</td>\n",
              "    </tr>\n",
              "    <tr>\n",
              "      <th>customer_age_group</th>\n",
              "      <td>1250</td>\n",
              "    </tr>\n",
              "    <tr>\n",
              "      <th>device_type</th>\n",
              "      <td>1250</td>\n",
              "    </tr>\n",
              "  </tbody>\n",
              "</table>\n",
              "</div><br><label><b>dtype:</b> int64</label>"
            ]
          },
          "metadata": {},
          "execution_count": 10
        }
      ]
    },
    {
      "cell_type": "code",
      "source": [
        "(df.isnull().sum() / len(df)) * 100\n"
      ],
      "metadata": {
        "colab": {
          "base_uri": "https://localhost:8080/",
          "height": 679
        },
        "id": "ZcgGUkT3KE5k",
        "outputId": "dce9fbf1-af13-4644-f49e-b064f9df3222"
      },
      "execution_count": null,
      "outputs": [
        {
          "output_type": "execute_result",
          "data": {
            "text/plain": [
              "order_id              0.0\n",
              "customer_id           0.0\n",
              "product_id            0.0\n",
              "product_name          0.0\n",
              "main_category         0.0\n",
              "sub_category          0.0\n",
              "brand                 5.0\n",
              "price                 1.0\n",
              "quantity              0.0\n",
              "discount_percent      0.0\n",
              "final_price           0.0\n",
              "payment_method        5.0\n",
              "review_rating         0.0\n",
              "order_date            0.0\n",
              "delivery_days         1.0\n",
              "is_returned           0.0\n",
              "region                5.0\n",
              "customer_age_group    5.0\n",
              "device_type           5.0\n",
              "dtype: float64"
            ],
            "text/html": [
              "<div>\n",
              "<style scoped>\n",
              "    .dataframe tbody tr th:only-of-type {\n",
              "        vertical-align: middle;\n",
              "    }\n",
              "\n",
              "    .dataframe tbody tr th {\n",
              "        vertical-align: top;\n",
              "    }\n",
              "\n",
              "    .dataframe thead th {\n",
              "        text-align: right;\n",
              "    }\n",
              "</style>\n",
              "<table border=\"1\" class=\"dataframe\">\n",
              "  <thead>\n",
              "    <tr style=\"text-align: right;\">\n",
              "      <th></th>\n",
              "      <th>0</th>\n",
              "    </tr>\n",
              "  </thead>\n",
              "  <tbody>\n",
              "    <tr>\n",
              "      <th>order_id</th>\n",
              "      <td>0.0</td>\n",
              "    </tr>\n",
              "    <tr>\n",
              "      <th>customer_id</th>\n",
              "      <td>0.0</td>\n",
              "    </tr>\n",
              "    <tr>\n",
              "      <th>product_id</th>\n",
              "      <td>0.0</td>\n",
              "    </tr>\n",
              "    <tr>\n",
              "      <th>product_name</th>\n",
              "      <td>0.0</td>\n",
              "    </tr>\n",
              "    <tr>\n",
              "      <th>main_category</th>\n",
              "      <td>0.0</td>\n",
              "    </tr>\n",
              "    <tr>\n",
              "      <th>sub_category</th>\n",
              "      <td>0.0</td>\n",
              "    </tr>\n",
              "    <tr>\n",
              "      <th>brand</th>\n",
              "      <td>5.0</td>\n",
              "    </tr>\n",
              "    <tr>\n",
              "      <th>price</th>\n",
              "      <td>1.0</td>\n",
              "    </tr>\n",
              "    <tr>\n",
              "      <th>quantity</th>\n",
              "      <td>0.0</td>\n",
              "    </tr>\n",
              "    <tr>\n",
              "      <th>discount_percent</th>\n",
              "      <td>0.0</td>\n",
              "    </tr>\n",
              "    <tr>\n",
              "      <th>final_price</th>\n",
              "      <td>0.0</td>\n",
              "    </tr>\n",
              "    <tr>\n",
              "      <th>payment_method</th>\n",
              "      <td>5.0</td>\n",
              "    </tr>\n",
              "    <tr>\n",
              "      <th>review_rating</th>\n",
              "      <td>0.0</td>\n",
              "    </tr>\n",
              "    <tr>\n",
              "      <th>order_date</th>\n",
              "      <td>0.0</td>\n",
              "    </tr>\n",
              "    <tr>\n",
              "      <th>delivery_days</th>\n",
              "      <td>1.0</td>\n",
              "    </tr>\n",
              "    <tr>\n",
              "      <th>is_returned</th>\n",
              "      <td>0.0</td>\n",
              "    </tr>\n",
              "    <tr>\n",
              "      <th>region</th>\n",
              "      <td>5.0</td>\n",
              "    </tr>\n",
              "    <tr>\n",
              "      <th>customer_age_group</th>\n",
              "      <td>5.0</td>\n",
              "    </tr>\n",
              "    <tr>\n",
              "      <th>device_type</th>\n",
              "      <td>5.0</td>\n",
              "    </tr>\n",
              "  </tbody>\n",
              "</table>\n",
              "</div><br><label><b>dtype:</b> float64</label>"
            ]
          },
          "metadata": {},
          "execution_count": 11
        }
      ]
    },
    {
      "cell_type": "code",
      "source": [
        "df['brand'].fillna(df['brand'].mode()[0], inplace=True)"
      ],
      "metadata": {
        "id": "zW3y9zBpPvWp"
      },
      "execution_count": null,
      "outputs": []
    },
    {
      "cell_type": "code",
      "source": [
        "\n",
        "df['price'] = df['price'].fillna(df['price'].median())\n"
      ],
      "metadata": {
        "id": "_8DYdDDrP3PC"
      },
      "execution_count": null,
      "outputs": []
    },
    {
      "cell_type": "code",
      "source": [
        "df['payment_method'].fillna(df['payment_method'].mode()[0])"
      ],
      "metadata": {
        "colab": {
          "base_uri": "https://localhost:8080/",
          "height": 458
        },
        "id": "E_zl-xH5RAM5",
        "outputId": "3abd34ae-0269-4947-975e-1583f18d47dc"
      },
      "execution_count": null,
      "outputs": [
        {
          "output_type": "execute_result",
          "data": {
            "text/plain": [
              "0                  PayPal\n",
              "1               Gift Card\n",
              "2               Gift Card\n",
              "3             Credit Card\n",
              "4             Credit Card\n",
              "               ...       \n",
              "24995              PayPal\n",
              "24996         Credit Card\n",
              "24997         Credit Card\n",
              "24998    Cash on Delivery\n",
              "24999              PayPal\n",
              "Name: payment_method, Length: 25000, dtype: object"
            ],
            "text/html": [
              "<div>\n",
              "<style scoped>\n",
              "    .dataframe tbody tr th:only-of-type {\n",
              "        vertical-align: middle;\n",
              "    }\n",
              "\n",
              "    .dataframe tbody tr th {\n",
              "        vertical-align: top;\n",
              "    }\n",
              "\n",
              "    .dataframe thead th {\n",
              "        text-align: right;\n",
              "    }\n",
              "</style>\n",
              "<table border=\"1\" class=\"dataframe\">\n",
              "  <thead>\n",
              "    <tr style=\"text-align: right;\">\n",
              "      <th></th>\n",
              "      <th>payment_method</th>\n",
              "    </tr>\n",
              "  </thead>\n",
              "  <tbody>\n",
              "    <tr>\n",
              "      <th>0</th>\n",
              "      <td>PayPal</td>\n",
              "    </tr>\n",
              "    <tr>\n",
              "      <th>1</th>\n",
              "      <td>Gift Card</td>\n",
              "    </tr>\n",
              "    <tr>\n",
              "      <th>2</th>\n",
              "      <td>Gift Card</td>\n",
              "    </tr>\n",
              "    <tr>\n",
              "      <th>3</th>\n",
              "      <td>Credit Card</td>\n",
              "    </tr>\n",
              "    <tr>\n",
              "      <th>4</th>\n",
              "      <td>Credit Card</td>\n",
              "    </tr>\n",
              "    <tr>\n",
              "      <th>...</th>\n",
              "      <td>...</td>\n",
              "    </tr>\n",
              "    <tr>\n",
              "      <th>24995</th>\n",
              "      <td>PayPal</td>\n",
              "    </tr>\n",
              "    <tr>\n",
              "      <th>24996</th>\n",
              "      <td>Credit Card</td>\n",
              "    </tr>\n",
              "    <tr>\n",
              "      <th>24997</th>\n",
              "      <td>Credit Card</td>\n",
              "    </tr>\n",
              "    <tr>\n",
              "      <th>24998</th>\n",
              "      <td>Cash on Delivery</td>\n",
              "    </tr>\n",
              "    <tr>\n",
              "      <th>24999</th>\n",
              "      <td>PayPal</td>\n",
              "    </tr>\n",
              "  </tbody>\n",
              "</table>\n",
              "<p>25000 rows × 1 columns</p>\n",
              "</div><br><label><b>dtype:</b> object</label>"
            ]
          },
          "metadata": {},
          "execution_count": 17
        }
      ]
    },
    {
      "cell_type": "code",
      "source": [
        "df['delivery_days'].fillna(df['delivery_days'].median())"
      ],
      "metadata": {
        "colab": {
          "base_uri": "https://localhost:8080/",
          "height": 458
        },
        "id": "jKu0wljYRf9J",
        "outputId": "89be676e-6de6-420d-8b1f-8c60c02595e9"
      },
      "execution_count": null,
      "outputs": [
        {
          "output_type": "execute_result",
          "data": {
            "text/plain": [
              "0        5\n",
              "1        8\n",
              "2        5\n",
              "3        3\n",
              "4        5\n",
              "        ..\n",
              "24995    9\n",
              "24996    4\n",
              "24997    8\n",
              "24998    4\n",
              "24999    5\n",
              "Name: delivery_days, Length: 25000, dtype: Int64"
            ],
            "text/html": [
              "<div>\n",
              "<style scoped>\n",
              "    .dataframe tbody tr th:only-of-type {\n",
              "        vertical-align: middle;\n",
              "    }\n",
              "\n",
              "    .dataframe tbody tr th {\n",
              "        vertical-align: top;\n",
              "    }\n",
              "\n",
              "    .dataframe thead th {\n",
              "        text-align: right;\n",
              "    }\n",
              "</style>\n",
              "<table border=\"1\" class=\"dataframe\">\n",
              "  <thead>\n",
              "    <tr style=\"text-align: right;\">\n",
              "      <th></th>\n",
              "      <th>delivery_days</th>\n",
              "    </tr>\n",
              "  </thead>\n",
              "  <tbody>\n",
              "    <tr>\n",
              "      <th>0</th>\n",
              "      <td>5</td>\n",
              "    </tr>\n",
              "    <tr>\n",
              "      <th>1</th>\n",
              "      <td>8</td>\n",
              "    </tr>\n",
              "    <tr>\n",
              "      <th>2</th>\n",
              "      <td>5</td>\n",
              "    </tr>\n",
              "    <tr>\n",
              "      <th>3</th>\n",
              "      <td>3</td>\n",
              "    </tr>\n",
              "    <tr>\n",
              "      <th>4</th>\n",
              "      <td>5</td>\n",
              "    </tr>\n",
              "    <tr>\n",
              "      <th>...</th>\n",
              "      <td>...</td>\n",
              "    </tr>\n",
              "    <tr>\n",
              "      <th>24995</th>\n",
              "      <td>9</td>\n",
              "    </tr>\n",
              "    <tr>\n",
              "      <th>24996</th>\n",
              "      <td>4</td>\n",
              "    </tr>\n",
              "    <tr>\n",
              "      <th>24997</th>\n",
              "      <td>8</td>\n",
              "    </tr>\n",
              "    <tr>\n",
              "      <th>24998</th>\n",
              "      <td>4</td>\n",
              "    </tr>\n",
              "    <tr>\n",
              "      <th>24999</th>\n",
              "      <td>5</td>\n",
              "    </tr>\n",
              "  </tbody>\n",
              "</table>\n",
              "<p>25000 rows × 1 columns</p>\n",
              "</div><br><label><b>dtype:</b> Int64</label>"
            ]
          },
          "metadata": {},
          "execution_count": 19
        }
      ]
    },
    {
      "cell_type": "code",
      "source": [
        "df['customer_age_group'] = df['customer_age_group'].fillna(df['customer_age_group'].mode()[0])\n"
      ],
      "metadata": {
        "id": "EMbtKElmRrqC"
      },
      "execution_count": null,
      "outputs": []
    },
    {
      "cell_type": "code",
      "source": [
        "df['device_type'].fillna(df['device_type'].mode()[0])\n"
      ],
      "metadata": {
        "colab": {
          "base_uri": "https://localhost:8080/",
          "height": 458
        },
        "id": "vDKOoKNBSVXz",
        "outputId": "9752f77c-b582-4984-dc5e-b79c88d36b91"
      },
      "execution_count": null,
      "outputs": [
        {
          "output_type": "execute_result",
          "data": {
            "text/plain": [
              "0         Mobile\n",
              "1         Mobile\n",
              "2         Mobile\n",
              "3         Mobile\n",
              "4         Mobile\n",
              "          ...   \n",
              "24995    Desktop\n",
              "24996    Desktop\n",
              "24997        App\n",
              "24998    Desktop\n",
              "24999    Desktop\n",
              "Name: device_type, Length: 25000, dtype: object"
            ],
            "text/html": [
              "<div>\n",
              "<style scoped>\n",
              "    .dataframe tbody tr th:only-of-type {\n",
              "        vertical-align: middle;\n",
              "    }\n",
              "\n",
              "    .dataframe tbody tr th {\n",
              "        vertical-align: top;\n",
              "    }\n",
              "\n",
              "    .dataframe thead th {\n",
              "        text-align: right;\n",
              "    }\n",
              "</style>\n",
              "<table border=\"1\" class=\"dataframe\">\n",
              "  <thead>\n",
              "    <tr style=\"text-align: right;\">\n",
              "      <th></th>\n",
              "      <th>device_type</th>\n",
              "    </tr>\n",
              "  </thead>\n",
              "  <tbody>\n",
              "    <tr>\n",
              "      <th>0</th>\n",
              "      <td>Mobile</td>\n",
              "    </tr>\n",
              "    <tr>\n",
              "      <th>1</th>\n",
              "      <td>Mobile</td>\n",
              "    </tr>\n",
              "    <tr>\n",
              "      <th>2</th>\n",
              "      <td>Mobile</td>\n",
              "    </tr>\n",
              "    <tr>\n",
              "      <th>3</th>\n",
              "      <td>Mobile</td>\n",
              "    </tr>\n",
              "    <tr>\n",
              "      <th>4</th>\n",
              "      <td>Mobile</td>\n",
              "    </tr>\n",
              "    <tr>\n",
              "      <th>...</th>\n",
              "      <td>...</td>\n",
              "    </tr>\n",
              "    <tr>\n",
              "      <th>24995</th>\n",
              "      <td>Desktop</td>\n",
              "    </tr>\n",
              "    <tr>\n",
              "      <th>24996</th>\n",
              "      <td>Desktop</td>\n",
              "    </tr>\n",
              "    <tr>\n",
              "      <th>24997</th>\n",
              "      <td>App</td>\n",
              "    </tr>\n",
              "    <tr>\n",
              "      <th>24998</th>\n",
              "      <td>Desktop</td>\n",
              "    </tr>\n",
              "    <tr>\n",
              "      <th>24999</th>\n",
              "      <td>Desktop</td>\n",
              "    </tr>\n",
              "  </tbody>\n",
              "</table>\n",
              "<p>25000 rows × 1 columns</p>\n",
              "</div><br><label><b>dtype:</b> object</label>"
            ]
          },
          "metadata": {},
          "execution_count": 23
        }
      ]
    },
    {
      "cell_type": "markdown",
      "source": [
        "Duplicates and Integrity\n"
      ],
      "metadata": {
        "id": "IqIxohSqSts5"
      }
    },
    {
      "cell_type": "code",
      "source": [
        "import pandas as pd\n",
        "df=pd.read_csv(\"/content/drive/MyDrive/_Amazon_Clothing_Sales_2025 DS12  - Amazon_Clothing_Sales_2025.csv\")\n",
        "df"
      ],
      "metadata": {
        "colab": {
          "base_uri": "https://localhost:8080/",
          "height": 565
        },
        "id": "j01N3UBvDJSy",
        "outputId": "c12b4824-4afa-448b-a44e-4182d392463b"
      },
      "execution_count": null,
      "outputs": [
        {
          "output_type": "execute_result",
          "data": {
            "text/plain": [
              "              order_id   customer_id  product_id             product_name  \\\n",
              "0      #HLWTRIGAJB0RFL  A86556872001  6Q3V14RXRF          Huggies Rompers   \n",
              "1      #9LMWG6T6H0IPE0  0A9218115AAA  33MRMEM3WN          Gerber Blankets   \n",
              "2      #Q6J5C5621SSE5V  8A5A09200074  E674NZH16V             Fossil Jeans   \n",
              "3      #J145DOUKB5RVBN  97602786977A  ETMIXJHFAT         Carter's Rompers   \n",
              "4      #7ZXNMSUU22AK4J  744297746010  5BYOWYYY5P          Adidas Sneakers   \n",
              "...                ...           ...         ...                      ...   \n",
              "24995  #ILAE3C44K8ST2N  AA4894A31451  2NC0ZUOVYO            Carter's Hats   \n",
              "24996  #6FRTXV3I6X8MR6  690989345A38  Y0ASBZXA10           Reebok Sandals   \n",
              "24997  #DU71O3MXXZVT1L  440170188725  590V1TJQGC             Levi's Jeans   \n",
              "24998  #YHNPOPWUO47P0G  A8A224901522  QNPGMXCYIS  The Peanutshell Booties   \n",
              "24999  #ESF9EL1PBJ19OS  437139608515  TKVZYTQKPQ             Nike Jackets   \n",
              "\n",
              "      main_category sub_category            brand   price  quantity  \\\n",
              "0              baby      Rompers          Huggies  118.62         1   \n",
              "1              Baby     Blankets           Gerber   26.84         1   \n",
              "2               Men        Jeans           Fossil  219.38         2   \n",
              "3              Baby      Rompers         Carter's   12.05         1   \n",
              "4              Kids     Sneakers           Adidas  145.36         1   \n",
              "...             ...          ...              ...     ...       ...   \n",
              "24995          Baby         Hats         Carter's  128.26         1   \n",
              "24996         women      Sandals           Reebok  200.66         3   \n",
              "24997           Men        Jeans           Levi's  130.87         2   \n",
              "24998          Baby      Booti3s  The Peanutshell  172.17         1   \n",
              "24999           Men      Jackets             Nike   60.71         2   \n",
              "\n",
              "       discount_percent  final_price    payment_method  review_rating  \\\n",
              "0                    10       106.76            PayPal              3   \n",
              "1                    15        22.81         Gift Card              2   \n",
              "2                    25       329.07         Gift Card              4   \n",
              "3                     0        12.05       Credit Card              5   \n",
              "4                    10       130.82       Credit Card              1   \n",
              "...                 ...          ...               ...            ...   \n",
              "24995                20       102.61            PayPal              4   \n",
              "24996                20       481.58       Credit Card              3   \n",
              "24997                20       209.39       Credit Card              1   \n",
              "24998                15       146.34  Cash on Delivery              4   \n",
              "24999                25        91.06            PayPal              5   \n",
              "\n",
              "       order_date  delivery_days  is_returned     region customer_age_group  \\\n",
              "0      2024-09-10            5.0            0    Midwest              25-34   \n",
              "1      2025-06-25            8.0            0       West              25-34   \n",
              "2      2025-01-08            5.0            0  Northeast              35-44   \n",
              "3      2024-08-28            3.0            0    Midwest              45-54   \n",
              "4      2024-11-12            5.0            0        NaN              45-54   \n",
              "...           ...            ...          ...        ...                ...   \n",
              "24995  2024-11-15            9.0            0  Northeast                NaN   \n",
              "24996  2025-01-10            4.0            0  Northeast              45-54   \n",
              "24997  2025-01-09            8.0            0    Midwest              25-34   \n",
              "24998  2024-10-23            4.0            0  Northeast              25-34   \n",
              "24999  2024-09-20            5.0            0    Midwest                NaN   \n",
              "\n",
              "      device_type  \n",
              "0          Mobile  \n",
              "1          Mobile  \n",
              "2          Mobile  \n",
              "3          Mobile  \n",
              "4          Mobile  \n",
              "...           ...  \n",
              "24995     Desktop  \n",
              "24996     Desktop  \n",
              "24997         App  \n",
              "24998     Desktop  \n",
              "24999     Desktop  \n",
              "\n",
              "[25000 rows x 19 columns]"
            ],
            "text/html": [
              "\n",
              "  <div id=\"df-a6f26964-6ad5-47cd-924b-c36c7bd7e3ef\" class=\"colab-df-container\">\n",
              "    <div>\n",
              "<style scoped>\n",
              "    .dataframe tbody tr th:only-of-type {\n",
              "        vertical-align: middle;\n",
              "    }\n",
              "\n",
              "    .dataframe tbody tr th {\n",
              "        vertical-align: top;\n",
              "    }\n",
              "\n",
              "    .dataframe thead th {\n",
              "        text-align: right;\n",
              "    }\n",
              "</style>\n",
              "<table border=\"1\" class=\"dataframe\">\n",
              "  <thead>\n",
              "    <tr style=\"text-align: right;\">\n",
              "      <th></th>\n",
              "      <th>order_id</th>\n",
              "      <th>customer_id</th>\n",
              "      <th>product_id</th>\n",
              "      <th>product_name</th>\n",
              "      <th>main_category</th>\n",
              "      <th>sub_category</th>\n",
              "      <th>brand</th>\n",
              "      <th>price</th>\n",
              "      <th>quantity</th>\n",
              "      <th>discount_percent</th>\n",
              "      <th>final_price</th>\n",
              "      <th>payment_method</th>\n",
              "      <th>review_rating</th>\n",
              "      <th>order_date</th>\n",
              "      <th>delivery_days</th>\n",
              "      <th>is_returned</th>\n",
              "      <th>region</th>\n",
              "      <th>customer_age_group</th>\n",
              "      <th>device_type</th>\n",
              "    </tr>\n",
              "  </thead>\n",
              "  <tbody>\n",
              "    <tr>\n",
              "      <th>0</th>\n",
              "      <td>#HLWTRIGAJB0RFL</td>\n",
              "      <td>A86556872001</td>\n",
              "      <td>6Q3V14RXRF</td>\n",
              "      <td>Huggies Rompers</td>\n",
              "      <td>baby</td>\n",
              "      <td>Rompers</td>\n",
              "      <td>Huggies</td>\n",
              "      <td>118.62</td>\n",
              "      <td>1</td>\n",
              "      <td>10</td>\n",
              "      <td>106.76</td>\n",
              "      <td>PayPal</td>\n",
              "      <td>3</td>\n",
              "      <td>2024-09-10</td>\n",
              "      <td>5.0</td>\n",
              "      <td>0</td>\n",
              "      <td>Midwest</td>\n",
              "      <td>25-34</td>\n",
              "      <td>Mobile</td>\n",
              "    </tr>\n",
              "    <tr>\n",
              "      <th>1</th>\n",
              "      <td>#9LMWG6T6H0IPE0</td>\n",
              "      <td>0A9218115AAA</td>\n",
              "      <td>33MRMEM3WN</td>\n",
              "      <td>Gerber Blankets</td>\n",
              "      <td>Baby</td>\n",
              "      <td>Blankets</td>\n",
              "      <td>Gerber</td>\n",
              "      <td>26.84</td>\n",
              "      <td>1</td>\n",
              "      <td>15</td>\n",
              "      <td>22.81</td>\n",
              "      <td>Gift Card</td>\n",
              "      <td>2</td>\n",
              "      <td>2025-06-25</td>\n",
              "      <td>8.0</td>\n",
              "      <td>0</td>\n",
              "      <td>West</td>\n",
              "      <td>25-34</td>\n",
              "      <td>Mobile</td>\n",
              "    </tr>\n",
              "    <tr>\n",
              "      <th>2</th>\n",
              "      <td>#Q6J5C5621SSE5V</td>\n",
              "      <td>8A5A09200074</td>\n",
              "      <td>E674NZH16V</td>\n",
              "      <td>Fossil Jeans</td>\n",
              "      <td>Men</td>\n",
              "      <td>Jeans</td>\n",
              "      <td>Fossil</td>\n",
              "      <td>219.38</td>\n",
              "      <td>2</td>\n",
              "      <td>25</td>\n",
              "      <td>329.07</td>\n",
              "      <td>Gift Card</td>\n",
              "      <td>4</td>\n",
              "      <td>2025-01-08</td>\n",
              "      <td>5.0</td>\n",
              "      <td>0</td>\n",
              "      <td>Northeast</td>\n",
              "      <td>35-44</td>\n",
              "      <td>Mobile</td>\n",
              "    </tr>\n",
              "    <tr>\n",
              "      <th>3</th>\n",
              "      <td>#J145DOUKB5RVBN</td>\n",
              "      <td>97602786977A</td>\n",
              "      <td>ETMIXJHFAT</td>\n",
              "      <td>Carter's Rompers</td>\n",
              "      <td>Baby</td>\n",
              "      <td>Rompers</td>\n",
              "      <td>Carter's</td>\n",
              "      <td>12.05</td>\n",
              "      <td>1</td>\n",
              "      <td>0</td>\n",
              "      <td>12.05</td>\n",
              "      <td>Credit Card</td>\n",
              "      <td>5</td>\n",
              "      <td>2024-08-28</td>\n",
              "      <td>3.0</td>\n",
              "      <td>0</td>\n",
              "      <td>Midwest</td>\n",
              "      <td>45-54</td>\n",
              "      <td>Mobile</td>\n",
              "    </tr>\n",
              "    <tr>\n",
              "      <th>4</th>\n",
              "      <td>#7ZXNMSUU22AK4J</td>\n",
              "      <td>744297746010</td>\n",
              "      <td>5BYOWYYY5P</td>\n",
              "      <td>Adidas Sneakers</td>\n",
              "      <td>Kids</td>\n",
              "      <td>Sneakers</td>\n",
              "      <td>Adidas</td>\n",
              "      <td>145.36</td>\n",
              "      <td>1</td>\n",
              "      <td>10</td>\n",
              "      <td>130.82</td>\n",
              "      <td>Credit Card</td>\n",
              "      <td>1</td>\n",
              "      <td>2024-11-12</td>\n",
              "      <td>5.0</td>\n",
              "      <td>0</td>\n",
              "      <td>NaN</td>\n",
              "      <td>45-54</td>\n",
              "      <td>Mobile</td>\n",
              "    </tr>\n",
              "    <tr>\n",
              "      <th>...</th>\n",
              "      <td>...</td>\n",
              "      <td>...</td>\n",
              "      <td>...</td>\n",
              "      <td>...</td>\n",
              "      <td>...</td>\n",
              "      <td>...</td>\n",
              "      <td>...</td>\n",
              "      <td>...</td>\n",
              "      <td>...</td>\n",
              "      <td>...</td>\n",
              "      <td>...</td>\n",
              "      <td>...</td>\n",
              "      <td>...</td>\n",
              "      <td>...</td>\n",
              "      <td>...</td>\n",
              "      <td>...</td>\n",
              "      <td>...</td>\n",
              "      <td>...</td>\n",
              "      <td>...</td>\n",
              "    </tr>\n",
              "    <tr>\n",
              "      <th>24995</th>\n",
              "      <td>#ILAE3C44K8ST2N</td>\n",
              "      <td>AA4894A31451</td>\n",
              "      <td>2NC0ZUOVYO</td>\n",
              "      <td>Carter's Hats</td>\n",
              "      <td>Baby</td>\n",
              "      <td>Hats</td>\n",
              "      <td>Carter's</td>\n",
              "      <td>128.26</td>\n",
              "      <td>1</td>\n",
              "      <td>20</td>\n",
              "      <td>102.61</td>\n",
              "      <td>PayPal</td>\n",
              "      <td>4</td>\n",
              "      <td>2024-11-15</td>\n",
              "      <td>9.0</td>\n",
              "      <td>0</td>\n",
              "      <td>Northeast</td>\n",
              "      <td>NaN</td>\n",
              "      <td>Desktop</td>\n",
              "    </tr>\n",
              "    <tr>\n",
              "      <th>24996</th>\n",
              "      <td>#6FRTXV3I6X8MR6</td>\n",
              "      <td>690989345A38</td>\n",
              "      <td>Y0ASBZXA10</td>\n",
              "      <td>Reebok Sandals</td>\n",
              "      <td>women</td>\n",
              "      <td>Sandals</td>\n",
              "      <td>Reebok</td>\n",
              "      <td>200.66</td>\n",
              "      <td>3</td>\n",
              "      <td>20</td>\n",
              "      <td>481.58</td>\n",
              "      <td>Credit Card</td>\n",
              "      <td>3</td>\n",
              "      <td>2025-01-10</td>\n",
              "      <td>4.0</td>\n",
              "      <td>0</td>\n",
              "      <td>Northeast</td>\n",
              "      <td>45-54</td>\n",
              "      <td>Desktop</td>\n",
              "    </tr>\n",
              "    <tr>\n",
              "      <th>24997</th>\n",
              "      <td>#DU71O3MXXZVT1L</td>\n",
              "      <td>440170188725</td>\n",
              "      <td>590V1TJQGC</td>\n",
              "      <td>Levi's Jeans</td>\n",
              "      <td>Men</td>\n",
              "      <td>Jeans</td>\n",
              "      <td>Levi's</td>\n",
              "      <td>130.87</td>\n",
              "      <td>2</td>\n",
              "      <td>20</td>\n",
              "      <td>209.39</td>\n",
              "      <td>Credit Card</td>\n",
              "      <td>1</td>\n",
              "      <td>2025-01-09</td>\n",
              "      <td>8.0</td>\n",
              "      <td>0</td>\n",
              "      <td>Midwest</td>\n",
              "      <td>25-34</td>\n",
              "      <td>App</td>\n",
              "    </tr>\n",
              "    <tr>\n",
              "      <th>24998</th>\n",
              "      <td>#YHNPOPWUO47P0G</td>\n",
              "      <td>A8A224901522</td>\n",
              "      <td>QNPGMXCYIS</td>\n",
              "      <td>The Peanutshell Booties</td>\n",
              "      <td>Baby</td>\n",
              "      <td>Booti3s</td>\n",
              "      <td>The Peanutshell</td>\n",
              "      <td>172.17</td>\n",
              "      <td>1</td>\n",
              "      <td>15</td>\n",
              "      <td>146.34</td>\n",
              "      <td>Cash on Delivery</td>\n",
              "      <td>4</td>\n",
              "      <td>2024-10-23</td>\n",
              "      <td>4.0</td>\n",
              "      <td>0</td>\n",
              "      <td>Northeast</td>\n",
              "      <td>25-34</td>\n",
              "      <td>Desktop</td>\n",
              "    </tr>\n",
              "    <tr>\n",
              "      <th>24999</th>\n",
              "      <td>#ESF9EL1PBJ19OS</td>\n",
              "      <td>437139608515</td>\n",
              "      <td>TKVZYTQKPQ</td>\n",
              "      <td>Nike Jackets</td>\n",
              "      <td>Men</td>\n",
              "      <td>Jackets</td>\n",
              "      <td>Nike</td>\n",
              "      <td>60.71</td>\n",
              "      <td>2</td>\n",
              "      <td>25</td>\n",
              "      <td>91.06</td>\n",
              "      <td>PayPal</td>\n",
              "      <td>5</td>\n",
              "      <td>2024-09-20</td>\n",
              "      <td>5.0</td>\n",
              "      <td>0</td>\n",
              "      <td>Midwest</td>\n",
              "      <td>NaN</td>\n",
              "      <td>Desktop</td>\n",
              "    </tr>\n",
              "  </tbody>\n",
              "</table>\n",
              "<p>25000 rows × 19 columns</p>\n",
              "</div>\n",
              "    <div class=\"colab-df-buttons\">\n",
              "\n",
              "  <div class=\"colab-df-container\">\n",
              "    <button class=\"colab-df-convert\" onclick=\"convertToInteractive('df-a6f26964-6ad5-47cd-924b-c36c7bd7e3ef')\"\n",
              "            title=\"Convert this dataframe to an interactive table.\"\n",
              "            style=\"display:none;\">\n",
              "\n",
              "  <svg xmlns=\"http://www.w3.org/2000/svg\" height=\"24px\" viewBox=\"0 -960 960 960\">\n",
              "    <path d=\"M120-120v-720h720v720H120Zm60-500h600v-160H180v160Zm220 220h160v-160H400v160Zm0 220h160v-160H400v160ZM180-400h160v-160H180v160Zm440 0h160v-160H620v160ZM180-180h160v-160H180v160Zm440 0h160v-160H620v160Z\"/>\n",
              "  </svg>\n",
              "    </button>\n",
              "\n",
              "  <style>\n",
              "    .colab-df-container {\n",
              "      display:flex;\n",
              "      gap: 12px;\n",
              "    }\n",
              "\n",
              "    .colab-df-convert {\n",
              "      background-color: #E8F0FE;\n",
              "      border: none;\n",
              "      border-radius: 50%;\n",
              "      cursor: pointer;\n",
              "      display: none;\n",
              "      fill: #1967D2;\n",
              "      height: 32px;\n",
              "      padding: 0 0 0 0;\n",
              "      width: 32px;\n",
              "    }\n",
              "\n",
              "    .colab-df-convert:hover {\n",
              "      background-color: #E2EBFA;\n",
              "      box-shadow: 0px 1px 2px rgba(60, 64, 67, 0.3), 0px 1px 3px 1px rgba(60, 64, 67, 0.15);\n",
              "      fill: #174EA6;\n",
              "    }\n",
              "\n",
              "    .colab-df-buttons div {\n",
              "      margin-bottom: 4px;\n",
              "    }\n",
              "\n",
              "    [theme=dark] .colab-df-convert {\n",
              "      background-color: #3B4455;\n",
              "      fill: #D2E3FC;\n",
              "    }\n",
              "\n",
              "    [theme=dark] .colab-df-convert:hover {\n",
              "      background-color: #434B5C;\n",
              "      box-shadow: 0px 1px 3px 1px rgba(0, 0, 0, 0.15);\n",
              "      filter: drop-shadow(0px 1px 2px rgba(0, 0, 0, 0.3));\n",
              "      fill: #FFFFFF;\n",
              "    }\n",
              "  </style>\n",
              "\n",
              "    <script>\n",
              "      const buttonEl =\n",
              "        document.querySelector('#df-a6f26964-6ad5-47cd-924b-c36c7bd7e3ef button.colab-df-convert');\n",
              "      buttonEl.style.display =\n",
              "        google.colab.kernel.accessAllowed ? 'block' : 'none';\n",
              "\n",
              "      async function convertToInteractive(key) {\n",
              "        const element = document.querySelector('#df-a6f26964-6ad5-47cd-924b-c36c7bd7e3ef');\n",
              "        const dataTable =\n",
              "          await google.colab.kernel.invokeFunction('convertToInteractive',\n",
              "                                                    [key], {});\n",
              "        if (!dataTable) return;\n",
              "\n",
              "        const docLinkHtml = 'Like what you see? Visit the ' +\n",
              "          '<a target=\"_blank\" href=https://colab.research.google.com/notebooks/data_table.ipynb>data table notebook</a>'\n",
              "          + ' to learn more about interactive tables.';\n",
              "        element.innerHTML = '';\n",
              "        dataTable['output_type'] = 'display_data';\n",
              "        await google.colab.output.renderOutput(dataTable, element);\n",
              "        const docLink = document.createElement('div');\n",
              "        docLink.innerHTML = docLinkHtml;\n",
              "        element.appendChild(docLink);\n",
              "      }\n",
              "    </script>\n",
              "  </div>\n",
              "\n",
              "\n",
              "    <div id=\"df-88ddd20a-fbb9-4f5c-9367-9879e15dfde9\">\n",
              "      <button class=\"colab-df-quickchart\" onclick=\"quickchart('df-88ddd20a-fbb9-4f5c-9367-9879e15dfde9')\"\n",
              "                title=\"Suggest charts\"\n",
              "                style=\"display:none;\">\n",
              "\n",
              "<svg xmlns=\"http://www.w3.org/2000/svg\" height=\"24px\"viewBox=\"0 0 24 24\"\n",
              "     width=\"24px\">\n",
              "    <g>\n",
              "        <path d=\"M19 3H5c-1.1 0-2 .9-2 2v14c0 1.1.9 2 2 2h14c1.1 0 2-.9 2-2V5c0-1.1-.9-2-2-2zM9 17H7v-7h2v7zm4 0h-2V7h2v10zm4 0h-2v-4h2v4z\"/>\n",
              "    </g>\n",
              "</svg>\n",
              "      </button>\n",
              "\n",
              "<style>\n",
              "  .colab-df-quickchart {\n",
              "      --bg-color: #E8F0FE;\n",
              "      --fill-color: #1967D2;\n",
              "      --hover-bg-color: #E2EBFA;\n",
              "      --hover-fill-color: #174EA6;\n",
              "      --disabled-fill-color: #AAA;\n",
              "      --disabled-bg-color: #DDD;\n",
              "  }\n",
              "\n",
              "  [theme=dark] .colab-df-quickchart {\n",
              "      --bg-color: #3B4455;\n",
              "      --fill-color: #D2E3FC;\n",
              "      --hover-bg-color: #434B5C;\n",
              "      --hover-fill-color: #FFFFFF;\n",
              "      --disabled-bg-color: #3B4455;\n",
              "      --disabled-fill-color: #666;\n",
              "  }\n",
              "\n",
              "  .colab-df-quickchart {\n",
              "    background-color: var(--bg-color);\n",
              "    border: none;\n",
              "    border-radius: 50%;\n",
              "    cursor: pointer;\n",
              "    display: none;\n",
              "    fill: var(--fill-color);\n",
              "    height: 32px;\n",
              "    padding: 0;\n",
              "    width: 32px;\n",
              "  }\n",
              "\n",
              "  .colab-df-quickchart:hover {\n",
              "    background-color: var(--hover-bg-color);\n",
              "    box-shadow: 0 1px 2px rgba(60, 64, 67, 0.3), 0 1px 3px 1px rgba(60, 64, 67, 0.15);\n",
              "    fill: var(--button-hover-fill-color);\n",
              "  }\n",
              "\n",
              "  .colab-df-quickchart-complete:disabled,\n",
              "  .colab-df-quickchart-complete:disabled:hover {\n",
              "    background-color: var(--disabled-bg-color);\n",
              "    fill: var(--disabled-fill-color);\n",
              "    box-shadow: none;\n",
              "  }\n",
              "\n",
              "  .colab-df-spinner {\n",
              "    border: 2px solid var(--fill-color);\n",
              "    border-color: transparent;\n",
              "    border-bottom-color: var(--fill-color);\n",
              "    animation:\n",
              "      spin 1s steps(1) infinite;\n",
              "  }\n",
              "\n",
              "  @keyframes spin {\n",
              "    0% {\n",
              "      border-color: transparent;\n",
              "      border-bottom-color: var(--fill-color);\n",
              "      border-left-color: var(--fill-color);\n",
              "    }\n",
              "    20% {\n",
              "      border-color: transparent;\n",
              "      border-left-color: var(--fill-color);\n",
              "      border-top-color: var(--fill-color);\n",
              "    }\n",
              "    30% {\n",
              "      border-color: transparent;\n",
              "      border-left-color: var(--fill-color);\n",
              "      border-top-color: var(--fill-color);\n",
              "      border-right-color: var(--fill-color);\n",
              "    }\n",
              "    40% {\n",
              "      border-color: transparent;\n",
              "      border-right-color: var(--fill-color);\n",
              "      border-top-color: var(--fill-color);\n",
              "    }\n",
              "    60% {\n",
              "      border-color: transparent;\n",
              "      border-right-color: var(--fill-color);\n",
              "    }\n",
              "    80% {\n",
              "      border-color: transparent;\n",
              "      border-right-color: var(--fill-color);\n",
              "      border-bottom-color: var(--fill-color);\n",
              "    }\n",
              "    90% {\n",
              "      border-color: transparent;\n",
              "      border-bottom-color: var(--fill-color);\n",
              "    }\n",
              "  }\n",
              "</style>\n",
              "\n",
              "      <script>\n",
              "        async function quickchart(key) {\n",
              "          const quickchartButtonEl =\n",
              "            document.querySelector('#' + key + ' button');\n",
              "          quickchartButtonEl.disabled = true;  // To prevent multiple clicks.\n",
              "          quickchartButtonEl.classList.add('colab-df-spinner');\n",
              "          try {\n",
              "            const charts = await google.colab.kernel.invokeFunction(\n",
              "                'suggestCharts', [key], {});\n",
              "          } catch (error) {\n",
              "            console.error('Error during call to suggestCharts:', error);\n",
              "          }\n",
              "          quickchartButtonEl.classList.remove('colab-df-spinner');\n",
              "          quickchartButtonEl.classList.add('colab-df-quickchart-complete');\n",
              "        }\n",
              "        (() => {\n",
              "          let quickchartButtonEl =\n",
              "            document.querySelector('#df-88ddd20a-fbb9-4f5c-9367-9879e15dfde9 button');\n",
              "          quickchartButtonEl.style.display =\n",
              "            google.colab.kernel.accessAllowed ? 'block' : 'none';\n",
              "        })();\n",
              "      </script>\n",
              "    </div>\n",
              "\n",
              "  <div id=\"id_86faa793-9991-4ab6-b589-8bb82ec8c01c\">\n",
              "    <style>\n",
              "      .colab-df-generate {\n",
              "        background-color: #E8F0FE;\n",
              "        border: none;\n",
              "        border-radius: 50%;\n",
              "        cursor: pointer;\n",
              "        display: none;\n",
              "        fill: #1967D2;\n",
              "        height: 32px;\n",
              "        padding: 0 0 0 0;\n",
              "        width: 32px;\n",
              "      }\n",
              "\n",
              "      .colab-df-generate:hover {\n",
              "        background-color: #E2EBFA;\n",
              "        box-shadow: 0px 1px 2px rgba(60, 64, 67, 0.3), 0px 1px 3px 1px rgba(60, 64, 67, 0.15);\n",
              "        fill: #174EA6;\n",
              "      }\n",
              "\n",
              "      [theme=dark] .colab-df-generate {\n",
              "        background-color: #3B4455;\n",
              "        fill: #D2E3FC;\n",
              "      }\n",
              "\n",
              "      [theme=dark] .colab-df-generate:hover {\n",
              "        background-color: #434B5C;\n",
              "        box-shadow: 0px 1px 3px 1px rgba(0, 0, 0, 0.15);\n",
              "        filter: drop-shadow(0px 1px 2px rgba(0, 0, 0, 0.3));\n",
              "        fill: #FFFFFF;\n",
              "      }\n",
              "    </style>\n",
              "    <button class=\"colab-df-generate\" onclick=\"generateWithVariable('df')\"\n",
              "            title=\"Generate code using this dataframe.\"\n",
              "            style=\"display:none;\">\n",
              "\n",
              "  <svg xmlns=\"http://www.w3.org/2000/svg\" height=\"24px\"viewBox=\"0 0 24 24\"\n",
              "       width=\"24px\">\n",
              "    <path d=\"M7,19H8.4L18.45,9,17,7.55,7,17.6ZM5,21V16.75L18.45,3.32a2,2,0,0,1,2.83,0l1.4,1.43a1.91,1.91,0,0,1,.58,1.4,1.91,1.91,0,0,1-.58,1.4L9.25,21ZM18.45,9,17,7.55Zm-12,3A5.31,5.31,0,0,0,4.9,8.1,5.31,5.31,0,0,0,1,6.5,5.31,5.31,0,0,0,4.9,4.9,5.31,5.31,0,0,0,6.5,1,5.31,5.31,0,0,0,8.1,4.9,5.31,5.31,0,0,0,12,6.5,5.46,5.46,0,0,0,6.5,12Z\"/>\n",
              "  </svg>\n",
              "    </button>\n",
              "    <script>\n",
              "      (() => {\n",
              "      const buttonEl =\n",
              "        document.querySelector('#id_86faa793-9991-4ab6-b589-8bb82ec8c01c button.colab-df-generate');\n",
              "      buttonEl.style.display =\n",
              "        google.colab.kernel.accessAllowed ? 'block' : 'none';\n",
              "\n",
              "      buttonEl.onclick = () => {\n",
              "        google.colab.notebook.generateWithVariable('df');\n",
              "      }\n",
              "      })();\n",
              "    </script>\n",
              "  </div>\n",
              "\n",
              "    </div>\n",
              "  </div>\n"
            ],
            "application/vnd.google.colaboratory.intrinsic+json": {
              "type": "dataframe",
              "variable_name": "df",
              "summary": "{\n  \"name\": \"df\",\n  \"rows\": 25000,\n  \"fields\": [\n    {\n      \"column\": \"order_id\",\n      \"properties\": {\n        \"dtype\": \"string\",\n        \"num_unique_values\": 25000,\n        \"samples\": [\n          \"#JC7Q3QFZIG4ZGM\",\n          \"#BXHE982OPP8H5A\",\n          \"#JAAJW4NW2QA7N5\"\n        ],\n        \"semantic_type\": \"\",\n        \"description\": \"\"\n      }\n    },\n    {\n      \"column\": \"customer_id\",\n      \"properties\": {\n        \"dtype\": \"string\",\n        \"num_unique_values\": 25000,\n        \"samples\": [\n          \"105707353567\",\n          \"32269462A188\",\n          \"151345760A20\"\n        ],\n        \"semantic_type\": \"\",\n        \"description\": \"\"\n      }\n    },\n    {\n      \"column\": \"product_id\",\n      \"properties\": {\n        \"dtype\": \"string\",\n        \"num_unique_values\": 25000,\n        \"samples\": [\n          \"FYHAMKE8WJ\",\n          \"PVQNLH2E6N\",\n          \"ENB8867B0R\"\n        ],\n        \"semantic_type\": \"\",\n        \"description\": \"\"\n      }\n    },\n    {\n      \"column\": \"product_name\",\n      \"properties\": {\n        \"dtype\": \"category\",\n        \"num_unique_values\": 100,\n        \"samples\": [\n          \"Reebok Tops\",\n          \"Adidas Caps\",\n          \"Levi's Watches\"\n        ],\n        \"semantic_type\": \"\",\n        \"description\": \"\"\n      }\n    },\n    {\n      \"column\": \"main_category\",\n      \"properties\": {\n        \"dtype\": \"category\",\n        \"num_unique_values\": 8,\n        \"samples\": [\n          \"Baby\",\n          \"women\",\n          \"baby\"\n        ],\n        \"semantic_type\": \"\",\n        \"description\": \"\"\n      }\n    },\n    {\n      \"column\": \"sub_category\",\n      \"properties\": {\n        \"dtype\": \"category\",\n        \"num_unique_values\": 32,\n        \"samples\": [\n          \"Booti3s\",\n          \"Shorts\",\n          \"J3w3lry\"\n        ],\n        \"semantic_type\": \"\",\n        \"description\": \"\"\n      }\n    },\n    {\n      \"column\": \"brand\",\n      \"properties\": {\n        \"dtype\": \"category\",\n        \"num_unique_values\": 17,\n        \"samples\": [\n          \"Huggies\",\n          \"Gerber\",\n          \"Puma\"\n        ],\n        \"semantic_type\": \"\",\n        \"description\": \"\"\n      }\n    },\n    {\n      \"column\": \"price\",\n      \"properties\": {\n        \"dtype\": \"number\",\n        \"std\": 84.44383030378815,\n        \"min\": 10.02,\n        \"max\": 299.98,\n        \"num_unique_values\": 16576,\n        \"samples\": [\n          65.7,\n          129.44,\n          154.4\n        ],\n        \"semantic_type\": \"\",\n        \"description\": \"\"\n      }\n    },\n    {\n      \"column\": \"quantity\",\n      \"properties\": {\n        \"dtype\": \"number\",\n        \"std\": 0,\n        \"min\": 1,\n        \"max\": 3,\n        \"num_unique_values\": 3,\n        \"samples\": [\n          1,\n          2,\n          3\n        ],\n        \"semantic_type\": \"\",\n        \"description\": \"\"\n      }\n    },\n    {\n      \"column\": \"discount_percent\",\n      \"properties\": {\n        \"dtype\": \"number\",\n        \"std\": 8,\n        \"min\": 0,\n        \"max\": 25,\n        \"num_unique_values\": 6,\n        \"samples\": [\n          10,\n          15,\n          20\n        ],\n        \"semantic_type\": \"\",\n        \"description\": \"\"\n      }\n    },\n    {\n      \"column\": \"final_price\",\n      \"properties\": {\n        \"dtype\": \"number\",\n        \"std\": 196.18847600476718,\n        \"min\": 7.53,\n        \"max\": 899.79,\n        \"num_unique_values\": 20151,\n        \"samples\": [\n          166.91,\n          101.65,\n          63.63\n        ],\n        \"semantic_type\": \"\",\n        \"description\": \"\"\n      }\n    },\n    {\n      \"column\": \"payment_method\",\n      \"properties\": {\n        \"dtype\": \"category\",\n        \"num_unique_values\": 4,\n        \"samples\": [\n          \"Gift Card\",\n          \"Cash on Delivery\",\n          \"PayPal\"\n        ],\n        \"semantic_type\": \"\",\n        \"description\": \"\"\n      }\n    },\n    {\n      \"column\": \"review_rating\",\n      \"properties\": {\n        \"dtype\": \"number\",\n        \"std\": 1,\n        \"min\": 1,\n        \"max\": 5,\n        \"num_unique_values\": 5,\n        \"samples\": [\n          2,\n          1,\n          4\n        ],\n        \"semantic_type\": \"\",\n        \"description\": \"\"\n      }\n    },\n    {\n      \"column\": \"order_date\",\n      \"properties\": {\n        \"dtype\": \"object\",\n        \"num_unique_values\": 365,\n        \"samples\": [\n          \"2025-03-23\",\n          \"2024-12-05\",\n          \"2025-01-23\"\n        ],\n        \"semantic_type\": \"\",\n        \"description\": \"\"\n      }\n    },\n    {\n      \"column\": \"delivery_days\",\n      \"properties\": {\n        \"dtype\": \"number\",\n        \"std\": 2.5782383433260865,\n        \"min\": 1.0,\n        \"max\": 9.0,\n        \"num_unique_values\": 9,\n        \"samples\": [\n          6.0,\n          8.0,\n          7.0\n        ],\n        \"semantic_type\": \"\",\n        \"description\": \"\"\n      }\n    },\n    {\n      \"column\": \"is_returned\",\n      \"properties\": {\n        \"dtype\": \"number\",\n        \"std\": 0,\n        \"min\": 0,\n        \"max\": 1,\n        \"num_unique_values\": 2,\n        \"samples\": [\n          1,\n          0\n        ],\n        \"semantic_type\": \"\",\n        \"description\": \"\"\n      }\n    },\n    {\n      \"column\": \"region\",\n      \"properties\": {\n        \"dtype\": \"category\",\n        \"num_unique_values\": 4,\n        \"samples\": [\n          \"West\",\n          \"South\"\n        ],\n        \"semantic_type\": \"\",\n        \"description\": \"\"\n      }\n    },\n    {\n      \"column\": \"customer_age_group\",\n      \"properties\": {\n        \"dtype\": \"category\",\n        \"num_unique_values\": 5,\n        \"samples\": [\n          \"35-44\",\n          \"18-24\"\n        ],\n        \"semantic_type\": \"\",\n        \"description\": \"\"\n      }\n    },\n    {\n      \"column\": \"device_type\",\n      \"properties\": {\n        \"dtype\": \"category\",\n        \"num_unique_values\": 3,\n        \"samples\": [\n          \"Mobile\",\n          \"App\"\n        ],\n        \"semantic_type\": \"\",\n        \"description\": \"\"\n      }\n    }\n  ]\n}"
            }
          },
          "metadata": {},
          "execution_count": 2
        }
      ]
    },
    {
      "cell_type": "code",
      "source": [
        "duplicates = df[df.duplicated()]\n",
        "print(duplicates)\n",
        "\n"
      ],
      "metadata": {
        "colab": {
          "base_uri": "https://localhost:8080/"
        },
        "id": "No6cxArkEI3J",
        "outputId": "86396787-d819-43b9-aaeb-51164f387063"
      },
      "execution_count": null,
      "outputs": [
        {
          "output_type": "stream",
          "name": "stdout",
          "text": [
            "Empty DataFrame\n",
            "Columns: [order_id, customer_id, product_id, product_name, main_category, sub_category, brand, price, quantity, discount_percent, final_price, payment_method, review_rating, order_date, delivery_days, is_returned, region, customer_age_group, device_type]\n",
            "Index: []\n"
          ]
        }
      ]
    },
    {
      "cell_type": "code",
      "source": [
        "df.duplicated().sum()\n"
      ],
      "metadata": {
        "colab": {
          "base_uri": "https://localhost:8080/"
        },
        "id": "GBs2BueLFAfP",
        "outputId": "c4b4f820-5b0c-44c9-d851-775a4c78e68f"
      },
      "execution_count": null,
      "outputs": [
        {
          "output_type": "execute_result",
          "data": {
            "text/plain": [
              "np.int64(0)"
            ]
          },
          "metadata": {},
          "execution_count": 7
        }
      ]
    },
    {
      "cell_type": "markdown",
      "source": [
        "Consistency between price, discount_percent, and final_price (validate\n",
        "formula).\n",
        "\n",
        "\n"
      ],
      "metadata": {
        "id": "SeKChnkrt4zh"
      }
    },
    {
      "cell_type": "code",
      "source": [
        "# Calculate expected final price, this will create a new column[expected_final_price]\n",
        "df['expected_final_price'] = df['price'] * (1 - df['discount_percent'] / 100)\n",
        "# checking consistency\n",
        "df['price_discount_match'] = abs(df['final_price'] - df['expected_final_price']) < 0.01\n",
        "# View rows where the formula is wrong\n",
        "inconsistent_rows = df[~df['price_discount_match']]\n",
        "\n",
        "\n"
      ],
      "metadata": {
        "id": "MPxR4Nl-uwWz"
      },
      "execution_count": null,
      "outputs": []
    },
    {
      "cell_type": "markdown",
      "source": [
        "outliers\n"
      ],
      "metadata": {
        "id": "lofg7K6rH2yz"
      }
    },
    {
      "cell_type": "code",
      "source": [
        "import seaborn as sns\n",
        "import matplotlib.pyplot as plt\n",
        "\n",
        "sns.boxplot(x=df['price'])\n",
        "plt.show()\n",
        "\n",
        "sns.histplot(df['price'], bins=20, kde=True)\n",
        "plt.show()\n"
      ],
      "metadata": {
        "colab": {
          "base_uri": "https://localhost:8080/",
          "height": 881
        },
        "id": "455tiLSxNJ1p",
        "outputId": "5877eca5-8059-4172-da12-cc3fd6f8f97d"
      },
      "execution_count": null,
      "outputs": [
        {
          "output_type": "display_data",
          "data": {
            "text/plain": [
              "<Figure size 640x480 with 1 Axes>"
            ],
            "image/png": "[encoded data removed]"
          },
          "metadata": {}
        },
        {
          "output_type": "display_data",
          "data": {
            "text/plain": [
              "<Figure size 640x480 with 1 Axes>"
            ],
            "image/png": "[encoded data removed]"
          },
          "metadata": {}
        }
      ]
    },
    {
      "cell_type": "code",
      "source": [
        "sns.boxplot(x=df['final_price'])\n",
        "plt.show()\n",
        "\n",
        "sns.histplot(df['final_price'], bins=20, kde=True)\n",
        "plt.show()\n"
      ],
      "metadata": {
        "colab": {
          "base_uri": "https://localhost:8080/",
          "height": 883
        },
        "id": "e-BH9QFzRNQ5",
        "outputId": "bf6be175-d103-4326-d0a2-8c3d04fd9580"
      },
      "execution_count": null,
      "outputs": [
        {
          "output_type": "display_data",
          "data": {
            "text/plain": [
              "<Figure size 640x480 with 1 Axes>"
            ],
            "image/png": "[encoded data removed]"
          },
          "metadata": {}
        },
        {
          "output_type": "display_data",
          "data": {
            "text/plain": [
              "<Figure size 640x480 with 1 Axes>"
            ],
            "image/png": "[encoded data removed]"
          },
          "metadata": {}
        }
      ]
    },
    {
      "cell_type": "code",
      "source": [
        "# cap outliers for column final_price\n",
        "# Calculate Q1 and Q3\n",
        "Q1 = df['final_price'].quantile(0.25)\n",
        "Q3 = df['final_price'].quantile(0.75)\n",
        "IQR = Q3 - Q1\n",
        "\n",
        "# Bounds\n",
        "lower_bound = Q1 - 1.5 * IQR\n",
        "upper_bound = Q3 + 1.5 * IQR\n",
        "\n",
        "# Cap the outliers\n",
        "df['final_price'] = df['final_price'].clip(lower_bound, upper_bound)\n"
      ],
      "metadata": {
        "id": "hn3FYO6PTaQY"
      },
      "execution_count": null,
      "outputs": []
    },
    {
      "cell_type": "code",
      "source": [
        "\n",
        "#summary of outliers\n",
        "import pandas as pd\n",
        "\n",
        "def outlier_report(df, columns):\n",
        "    report = []\n",
        "\n",
        "    for col in columns:\n",
        "        Q1 = df[col].quantile(0.25)\n",
        "        Q3 = df[col].quantile(0.75)\n",
        "        IQR = Q3 - Q1\n",
        "        lower = Q1 - 1.5 * IQR\n",
        "        upper = Q3 + 1.5 * IQR\n",
        "\n",
        "        outlier_count = df[(df[col] < lower) | (df[col] > upper)].shape[0]\n",
        "\n",
        "        report.append({\n",
        "            'Column': col,\n",
        "            'Min': df[col].min(),\n",
        "            'Q1': Q1,\n",
        "            'Median': df[col].median(),\n",
        "            'Q3': Q3,\n",
        "            'Max': df[col].max(),\n",
        "            'IQR': IQR,\n",
        "            'Lower Bound': lower,\n",
        "            'Upper Bound': upper,\n",
        "            'Outlier Count': outlier_count\n",
        "        })\n",
        "\n",
        "    return pd.DataFrame(report)\n",
        "\n",
        "# Example usage:\n",
        "numeric_cols = ['price', 'discount_percent', 'final_price', 'delivery_days']\n",
        "report_df = outlier_report(df, numeric_cols)\n",
        "print(report_df)\n"
      ],
      "metadata": {
        "colab": {
          "base_uri": "https://localhost:8080/"
        },
        "id": "hndkfeFZOeeP",
        "outputId": "d685110e-fcb6-4649-8905-a5065d4594b9"
      },
      "execution_count": null,
      "outputs": [
        {
          "output_type": "stream",
          "name": "stdout",
          "text": [
            "             Column    Min        Q1   Median        Q3     Max       IQR  \\\n",
            "0             price  10.02   82.0100  154.805  229.0075  299.98  146.9975   \n",
            "1  discount_percent   0.00    5.0000   15.000   20.0000   25.00   15.0000   \n",
            "2       final_price   7.53  116.2475  219.410  398.5650  899.79  282.3175   \n",
            "3     delivery_days   1.00    3.0000    5.000    7.0000    9.00    4.0000   \n",
            "\n",
            "   Lower Bound  Upper Bound  Outlier Count  \n",
            "0   -138.48625    449.50375              0  \n",
            "1    -17.50000     42.50000              0  \n",
            "2   -307.22875    822.04125            174  \n",
            "3     -3.00000     13.00000              0  \n"
          ]
        }
      ]
    },
    {
      "cell_type": "code",
      "source": [
        "#feature engineering\n",
        "\n",
        "# Extract month, weekday, and year\n",
        "df['order_month'] = df['order_date'].dt.month\n",
        "df['order_weekday'] = df['order_date'].dt.day_name()\n",
        "df['order_year'] = df['order_date'].dt.year\n",
        "print(df[['order_date', 'order_month', 'order_weekday', 'order_year']].head())\n"
      ],
      "metadata": {
        "colab": {
          "base_uri": "https://localhost:8080/"
        },
        "id": "eJcMNEPOVfit",
        "outputId": "801cbe61-51fd-48e8-b696-01100368ca24"
      },
      "execution_count": null,
      "outputs": [
        {
          "output_type": "stream",
          "name": "stdout",
          "text": [
            "  order_date  order_month order_weekday  order_year\n",
            "0 2024-09-10            9       Tuesday        2024\n",
            "1 2025-06-25            6     Wednesday        2025\n",
            "2 2025-01-08            1     Wednesday        2025\n",
            "3 2024-08-28            8     Wednesday        2024\n",
            "4 2024-11-12           11       Tuesday        2024\n"
          ]
        }
      ]
    },
    {
      "cell_type": "markdown",
      "source": [
        "Compute discount_amount = price * discount_percent / 100."
      ],
      "metadata": {
        "id": "chULHw0_Zy2b"
      }
    },
    {
      "cell_type": "code",
      "source": [
        "df['discount_amount'] = df['price'] * df['discount_percent'] / 100\n",
        "print(df[['price', 'discount_percent', 'discount_amount']].head())\n"
      ],
      "metadata": {
        "colab": {
          "base_uri": "https://localhost:8080/"
        },
        "id": "4U1qAymdZ0UK",
        "outputId": "35fc6cb8-67bf-43b8-a362-88f23ec242a0"
      },
      "execution_count": null,
      "outputs": [
        {
          "output_type": "stream",
          "name": "stdout",
          "text": [
            "    price  discount_percent  discount_amount\n",
            "0  118.62                10           11.862\n",
            "1   26.84                15            4.026\n",
            "2  219.38                25           54.845\n",
            "3   12.05                 0            0.000\n",
            "4  145.36                10           14.536\n"
          ]
        }
      ]
    },
    {
      "cell_type": "markdown",
      "source": [
        "Create unit_price = final_price / quantity."
      ],
      "metadata": {
        "id": "XTFTj2K-aLez"
      }
    },
    {
      "cell_type": "code",
      "source": [
        "df['unit_price'] = df['final_price'] / df['quantity']\n",
        "print(df[['final_price', 'quantity', 'unit_price']].head())\n"
      ],
      "metadata": {
        "colab": {
          "base_uri": "https://localhost:8080/"
        },
        "id": "tvdO4_GbaNOR",
        "outputId": "c2211dff-4e01-4698-869f-ee9e57e0bbc4"
      },
      "execution_count": null,
      "outputs": [
        {
          "output_type": "stream",
          "name": "stdout",
          "text": [
            "   final_price  quantity  unit_price\n",
            "0       106.76         1     106.760\n",
            "1        22.81         1      22.810\n",
            "2       329.07         2     164.535\n",
            "3        12.05         1      12.050\n",
            "4       130.82         1     130.820\n"
          ]
        }
      ]
    },
    {
      "cell_type": "markdown",
      "source": [
        "Flag “fast” vs “slow” delivery (e.g., delivery_days threshold).\n"
      ],
      "metadata": {
        "id": "Hn58Rb3IakEV"
      }
    },
    {
      "cell_type": "code",
      "source": [
        "threshold = 3\n",
        "df['delivery_speed'] = df['delivery_days'].apply(lambda x: 'fast' if x <= threshold else 'slow')\n",
        "print(df['delivery_speed'].value_counts())"
      ],
      "metadata": {
        "colab": {
          "base_uri": "https://localhost:8080/"
        },
        "id": "PRLZgn6Ual98",
        "outputId": "a0145e68-66ae-405c-f880-833484c7d78e"
      },
      "execution_count": null,
      "outputs": [
        {
          "output_type": "stream",
          "name": "stdout",
          "text": [
            "delivery_speed\n",
            "slow    16774\n",
            "fast     8226\n",
            "Name: count, dtype: int64\n"
          ]
        }
      ]
    },
    {
      "cell_type": "markdown",
      "source": [
        "Customer-level aggregates: total spend, total orders, average rating given,return rate\n"
      ],
      "metadata": {
        "id": "nc_dCaL4dOYk"
      }
    },
    {
      "cell_type": "code",
      "source": [
        "customer_summary = df.groupby('customer_id').agg(\n",
        "    total_spend=('final_price', 'sum'),\n",
        "    total_orders=('customer_id', 'count'),\n",
        "    avg_rating=('review_rating', 'mean'),\n",
        "    return_rate=('is_returned', 'mean')\n",
        ").reset_index()\n",
        "print(customer_summary.head())\n"
      ],
      "metadata": {
        "colab": {
          "base_uri": "https://localhost:8080/"
        },
        "id": "kmehmjcjdblx",
        "outputId": "7e396c15-96c2-48a9-ce43-4559f409c32a"
      },
      "execution_count": null,
      "outputs": [
        {
          "output_type": "stream",
          "name": "stdout",
          "text": [
            "    customer_id  total_spend  total_orders  avg_rating  return_rate\n",
            "0  0000A5486A60       565.98             1         2.0          0.0\n",
            "1  000128A482A9       343.10             1         3.0          0.0\n",
            "2  0006310A3377       203.02             1         5.0          0.0\n",
            "3  00069A393862       541.82             1         3.0          0.0\n",
            "4  00070A643221        86.88             1         4.0          0.0\n"
          ]
        }
      ]
    },
    {
      "cell_type": "markdown",
      "source": [
        "Univariate Analysis\n"
      ],
      "metadata": {
        "id": "nZEfgcyGKvfQ"
      }
    },
    {
      "cell_type": "markdown",
      "source": [
        "Distribution of price, final_price, discount_percent, review_rating, delivery_days.\n"
      ],
      "metadata": {
        "id": "tepOkjNOM0XL"
      }
    },
    {
      "cell_type": "code",
      "source": [
        "df.describe()"
      ],
      "metadata": {
        "colab": {
          "base_uri": "https://localhost:8080/",
          "height": 300
        },
        "id": "Fz1osEXQMHdz",
        "outputId": "6e0dfbcc-8597-4d81-b257-a1ff8d6f7346"
      },
      "execution_count": null,
      "outputs": [
        {
          "output_type": "execute_result",
          "data": {
            "text/plain": [
              "              price      quantity  discount_percent   final_price  \\\n",
              "count  24750.000000  25000.000000      25000.000000  25000.000000   \n",
              "mean     155.395911      1.999400         12.527400    271.491812   \n",
              "std       84.443830      0.814755          8.543663    196.188476   \n",
              "min       10.020000      1.000000          0.000000      7.530000   \n",
              "25%       82.010000      1.000000          5.000000    116.247500   \n",
              "50%      154.805000      2.000000         15.000000    219.410000   \n",
              "75%      229.007500      3.000000         20.000000    398.565000   \n",
              "max      299.980000      3.000000         25.000000    899.790000   \n",
              "\n",
              "       review_rating  delivery_days   is_returned  expected_final_price  \n",
              "count   25000.000000   24750.000000  25000.000000          24750.000000  \n",
              "mean        3.698040       4.994869      0.098440            135.911759  \n",
              "std         1.095641       2.578238      0.297915             75.323157  \n",
              "min         1.000000       1.000000      0.000000              7.530000  \n",
              "25%         3.000000       3.000000      0.000000             71.257125  \n",
              "50%         4.000000       5.000000      0.000000            134.305500  \n",
              "75%         4.000000       7.000000      0.000000            198.693000  \n",
              "max         5.000000       9.000000      1.000000            299.930000  "
            ],
            "text/html": [
              "\n",
              "  <div id=\"df-41f01ac6-9b1d-448d-b17d-7a1b2ae32568\" class=\"colab-df-container\">\n",
              "    <div>\n",
              "<style scoped>\n",
              "    .dataframe tbody tr th:only-of-type {\n",
              "        vertical-align: middle;\n",
              "    }\n",
              "\n",
              "    .dataframe tbody tr th {\n",
              "        vertical-align: top;\n",
              "    }\n",
              "\n",
              "    .dataframe thead th {\n",
              "        text-align: right;\n",
              "    }\n",
              "</style>\n",
              "<table border=\"1\" class=\"dataframe\">\n",
              "  <thead>\n",
              "    <tr style=\"text-align: right;\">\n",
              "      <th></th>\n",
              "      <th>price</th>\n",
              "      <th>quantity</th>\n",
              "      <th>discount_percent</th>\n",
              "      <th>final_price</th>\n",
              "      <th>review_rating</th>\n",
              "      <th>delivery_days</th>\n",
              "      <th>is_returned</th>\n",
              "      <th>expected_final_price</th>\n",
              "    </tr>\n",
              "  </thead>\n",
              "  <tbody>\n",
              "    <tr>\n",
              "      <th>count</th>\n",
              "      <td>24750.000000</td>\n",
              "      <td>25000.000000</td>\n",
              "      <td>25000.000000</td>\n",
              "      <td>25000.000000</td>\n",
              "      <td>25000.000000</td>\n",
              "      <td>24750.000000</td>\n",
              "      <td>25000.000000</td>\n",
              "      <td>24750.000000</td>\n",
              "    </tr>\n",
              "    <tr>\n",
              "      <th>mean</th>\n",
              "      <td>155.395911</td>\n",
              "      <td>1.999400</td>\n",
              "      <td>12.527400</td>\n",
              "      <td>271.491812</td>\n",
              "      <td>3.698040</td>\n",
              "      <td>4.994869</td>\n",
              "      <td>0.098440</td>\n",
              "      <td>135.911759</td>\n",
              "    </tr>\n",
              "    <tr>\n",
              "      <th>std</th>\n",
              "      <td>84.443830</td>\n",
              "      <td>0.814755</td>\n",
              "      <td>8.543663</td>\n",
              "      <td>196.188476</td>\n",
              "      <td>1.095641</td>\n",
              "      <td>2.578238</td>\n",
              "      <td>0.297915</td>\n",
              "      <td>75.323157</td>\n",
              "    </tr>\n",
              "    <tr>\n",
              "      <th>min</th>\n",
              "      <td>10.020000</td>\n",
              "      <td>1.000000</td>\n",
              "      <td>0.000000</td>\n",
              "      <td>7.530000</td>\n",
              "      <td>1.000000</td>\n",
              "      <td>1.000000</td>\n",
              "      <td>0.000000</td>\n",
              "      <td>7.530000</td>\n",
              "    </tr>\n",
              "    <tr>\n",
              "      <th>25%</th>\n",
              "      <td>82.010000</td>\n",
              "      <td>1.000000</td>\n",
              "      <td>5.000000</td>\n",
              "      <td>116.247500</td>\n",
              "      <td>3.000000</td>\n",
              "      <td>3.000000</td>\n",
              "      <td>0.000000</td>\n",
              "      <td>71.257125</td>\n",
              "    </tr>\n",
              "    <tr>\n",
              "      <th>50%</th>\n",
              "      <td>154.805000</td>\n",
              "      <td>2.000000</td>\n",
              "      <td>15.000000</td>\n",
              "      <td>219.410000</td>\n",
              "      <td>4.000000</td>\n",
              "      <td>5.000000</td>\n",
              "      <td>0.000000</td>\n",
              "      <td>134.305500</td>\n",
              "    </tr>\n",
              "    <tr>\n",
              "      <th>75%</th>\n",
              "      <td>229.007500</td>\n",
              "      <td>3.000000</td>\n",
              "      <td>20.000000</td>\n",
              "      <td>398.565000</td>\n",
              "      <td>4.000000</td>\n",
              "      <td>7.000000</td>\n",
              "      <td>0.000000</td>\n",
              "      <td>198.693000</td>\n",
              "    </tr>\n",
              "    <tr>\n",
              "      <th>max</th>\n",
              "      <td>299.980000</td>\n",
              "      <td>3.000000</td>\n",
              "      <td>25.000000</td>\n",
              "      <td>899.790000</td>\n",
              "      <td>5.000000</td>\n",
              "      <td>9.000000</td>\n",
              "      <td>1.000000</td>\n",
              "      <td>299.930000</td>\n",
              "    </tr>\n",
              "  </tbody>\n",
              "</table>\n",
              "</div>\n",
              "    <div class=\"colab-df-buttons\">\n",
              "\n",
              "  <div class=\"colab-df-container\">\n",
              "    <button class=\"colab-df-convert\" onclick=\"convertToInteractive('df-41f01ac6-9b1d-448d-b17d-7a1b2ae32568')\"\n",
              "            title=\"Convert this dataframe to an interactive table.\"\n",
              "            style=\"display:none;\">\n",
              "\n",
              "  <svg xmlns=\"http://www.w3.org/2000/svg\" height=\"24px\" viewBox=\"0 -960 960 960\">\n",
              "    <path d=\"M120-120v-720h720v720H120Zm60-500h600v-160H180v160Zm220 220h160v-160H400v160Zm0 220h160v-160H400v160ZM180-400h160v-160H180v160Zm440 0h160v-160H620v160ZM180-180h160v-160H180v160Zm440 0h160v-160H620v160Z\"/>\n",
              "  </svg>\n",
              "    </button>\n",
              "\n",
              "  <style>\n",
              "    .colab-df-container {\n",
              "      display:flex;\n",
              "      gap: 12px;\n",
              "    }\n",
              "\n",
              "    .colab-df-convert {\n",
              "      background-color: #E8F0FE;\n",
              "      border: none;\n",
              "      border-radius: 50%;\n",
              "      cursor: pointer;\n",
              "      display: none;\n",
              "      fill: #1967D2;\n",
              "      height: 32px;\n",
              "      padding: 0 0 0 0;\n",
              "      width: 32px;\n",
              "    }\n",
              "\n",
              "    .colab-df-convert:hover {\n",
              "      background-color: #E2EBFA;\n",
              "      box-shadow: 0px 1px 2px rgba(60, 64, 67, 0.3), 0px 1px 3px 1px rgba(60, 64, 67, 0.15);\n",
              "      fill: #174EA6;\n",
              "    }\n",
              "\n",
              "    .colab-df-buttons div {\n",
              "      margin-bottom: 4px;\n",
              "    }\n",
              "\n",
              "    [theme=dark] .colab-df-convert {\n",
              "      background-color: #3B4455;\n",
              "      fill: #D2E3FC;\n",
              "    }\n",
              "\n",
              "    [theme=dark] .colab-df-convert:hover {\n",
              "      background-color: #434B5C;\n",
              "      box-shadow: 0px 1px 3px 1px rgba(0, 0, 0, 0.15);\n",
              "      filter: drop-shadow(0px 1px 2px rgba(0, 0, 0, 0.3));\n",
              "      fill: #FFFFFF;\n",
              "    }\n",
              "  </style>\n",
              "\n",
              "    <script>\n",
              "      const buttonEl =\n",
              "        document.querySelector('#df-41f01ac6-9b1d-448d-b17d-7a1b2ae32568 button.colab-df-convert');\n",
              "      buttonEl.style.display =\n",
              "        google.colab.kernel.accessAllowed ? 'block' : 'none';\n",
              "\n",
              "      async function convertToInteractive(key) {\n",
              "        const element = document.querySelector('#df-41f01ac6-9b1d-448d-b17d-7a1b2ae32568');\n",
              "        const dataTable =\n",
              "          await google.colab.kernel.invokeFunction('convertToInteractive',\n",
              "                                                    [key], {});\n",
              "        if (!dataTable) return;\n",
              "\n",
              "        const docLinkHtml = 'Like what you see? Visit the ' +\n",
              "          '<a target=\"_blank\" href=https://colab.research.google.com/notebooks/data_table.ipynb>data table notebook</a>'\n",
              "          + ' to learn more about interactive tables.';\n",
              "        element.innerHTML = '';\n",
              "        dataTable['output_type'] = 'display_data';\n",
              "        await google.colab.output.renderOutput(dataTable, element);\n",
              "        const docLink = document.createElement('div');\n",
              "        docLink.innerHTML = docLinkHtml;\n",
              "        element.appendChild(docLink);\n",
              "      }\n",
              "    </script>\n",
              "  </div>\n",
              "\n",
              "\n",
              "    <div id=\"df-60132b29-3a84-4822-aac8-3a1c0b9692a9\">\n",
              "      <button class=\"colab-df-quickchart\" onclick=\"quickchart('df-60132b29-3a84-4822-aac8-3a1c0b9692a9')\"\n",
              "                title=\"Suggest charts\"\n",
              "                style=\"display:none;\">\n",
              "\n",
              "<svg xmlns=\"http://www.w3.org/2000/svg\" height=\"24px\"viewBox=\"0 0 24 24\"\n",
              "     width=\"24px\">\n",
              "    <g>\n",
              "        <path d=\"M19 3H5c-1.1 0-2 .9-2 2v14c0 1.1.9 2 2 2h14c1.1 0 2-.9 2-2V5c0-1.1-.9-2-2-2zM9 17H7v-7h2v7zm4 0h-2V7h2v10zm4 0h-2v-4h2v4z\"/>\n",
              "    </g>\n",
              "</svg>\n",
              "      </button>\n",
              "\n",
              "<style>\n",
              "  .colab-df-quickchart {\n",
              "      --bg-color: #E8F0FE;\n",
              "      --fill-color: #1967D2;\n",
              "      --hover-bg-color: #E2EBFA;\n",
              "      --hover-fill-color: #174EA6;\n",
              "      --disabled-fill-color: #AAA;\n",
              "      --disabled-bg-color: #DDD;\n",
              "  }\n",
              "\n",
              "  [theme=dark] .colab-df-quickchart {\n",
              "      --bg-color: #3B4455;\n",
              "      --fill-color: #D2E3FC;\n",
              "      --hover-bg-color: #434B5C;\n",
              "      --hover-fill-color: #FFFFFF;\n",
              "      --disabled-bg-color: #3B4455;\n",
              "      --disabled-fill-color: #666;\n",
              "  }\n",
              "\n",
              "  .colab-df-quickchart {\n",
              "    background-color: var(--bg-color);\n",
              "    border: none;\n",
              "    border-radius: 50%;\n",
              "    cursor: pointer;\n",
              "    display: none;\n",
              "    fill: var(--fill-color);\n",
              "    height: 32px;\n",
              "    padding: 0;\n",
              "    width: 32px;\n",
              "  }\n",
              "\n",
              "  .colab-df-quickchart:hover {\n",
              "    background-color: var(--hover-bg-color);\n",
              "    box-shadow: 0 1px 2px rgba(60, 64, 67, 0.3), 0 1px 3px 1px rgba(60, 64, 67, 0.15);\n",
              "    fill: var(--button-hover-fill-color);\n",
              "  }\n",
              "\n",
              "  .colab-df-quickchart-complete:disabled,\n",
              "  .colab-df-quickchart-complete:disabled:hover {\n",
              "    background-color: var(--disabled-bg-color);\n",
              "    fill: var(--disabled-fill-color);\n",
              "    box-shadow: none;\n",
              "  }\n",
              "\n",
              "  .colab-df-spinner {\n",
              "    border: 2px solid var(--fill-color);\n",
              "    border-color: transparent;\n",
              "    border-bottom-color: var(--fill-color);\n",
              "    animation:\n",
              "      spin 1s steps(1) infinite;\n",
              "  }\n",
              "\n",
              "  @keyframes spin {\n",
              "    0% {\n",
              "      border-color: transparent;\n",
              "      border-bottom-color: var(--fill-color);\n",
              "      border-left-color: var(--fill-color);\n",
              "    }\n",
              "    20% {\n",
              "      border-color: transparent;\n",
              "      border-left-color: var(--fill-color);\n",
              "      border-top-color: var(--fill-color);\n",
              "    }\n",
              "    30% {\n",
              "      border-color: transparent;\n",
              "      border-left-color: var(--fill-color);\n",
              "      border-top-color: var(--fill-color);\n",
              "      border-right-color: var(--fill-color);\n",
              "    }\n",
              "    40% {\n",
              "      border-color: transparent;\n",
              "      border-right-color: var(--fill-color);\n",
              "      border-top-color: var(--fill-color);\n",
              "    }\n",
              "    60% {\n",
              "      border-color: transparent;\n",
              "      border-right-color: var(--fill-color);\n",
              "    }\n",
              "    80% {\n",
              "      border-color: transparent;\n",
              "      border-right-color: var(--fill-color);\n",
              "      border-bottom-color: var(--fill-color);\n",
              "    }\n",
              "    90% {\n",
              "      border-color: transparent;\n",
              "      border-bottom-color: var(--fill-color);\n",
              "    }\n",
              "  }\n",
              "</style>\n",
              "\n",
              "      <script>\n",
              "        async function quickchart(key) {\n",
              "          const quickchartButtonEl =\n",
              "            document.querySelector('#' + key + ' button');\n",
              "          quickchartButtonEl.disabled = true;  // To prevent multiple clicks.\n",
              "          quickchartButtonEl.classList.add('colab-df-spinner');\n",
              "          try {\n",
              "            const charts = await google.colab.kernel.invokeFunction(\n",
              "                'suggestCharts', [key], {});\n",
              "          } catch (error) {\n",
              "            console.error('Error during call to suggestCharts:', error);\n",
              "          }\n",
              "          quickchartButtonEl.classList.remove('colab-df-spinner');\n",
              "          quickchartButtonEl.classList.add('colab-df-quickchart-complete');\n",
              "        }\n",
              "        (() => {\n",
              "          let quickchartButtonEl =\n",
              "            document.querySelector('#df-60132b29-3a84-4822-aac8-3a1c0b9692a9 button');\n",
              "          quickchartButtonEl.style.display =\n",
              "            google.colab.kernel.accessAllowed ? 'block' : 'none';\n",
              "        })();\n",
              "      </script>\n",
              "    </div>\n",
              "\n",
              "    </div>\n",
              "  </div>\n"
            ],
            "application/vnd.google.colaboratory.intrinsic+json": {
              "type": "dataframe",
              "summary": "{\n  \"name\": \"df\",\n  \"rows\": 8,\n  \"fields\": [\n    {\n      \"column\": \"price\",\n      \"properties\": {\n        \"dtype\": \"number\",\n        \"std\": 8699.616846007099,\n        \"min\": 10.02,\n        \"max\": 24750.0,\n        \"num_unique_values\": 8,\n        \"samples\": [\n          155.3959111111111,\n          154.805,\n          24750.0\n        ],\n        \"semantic_type\": \"\",\n        \"description\": \"\"\n      }\n    },\n    {\n      \"column\": \"quantity\",\n      \"properties\": {\n        \"dtype\": \"number\",\n        \"std\": 8838.187594309964,\n        \"min\": 0.8147552964219781,\n        \"max\": 25000.0,\n        \"num_unique_values\": 6,\n        \"samples\": [\n          25000.0,\n          1.9994,\n          3.0\n        ],\n        \"semantic_type\": \"\",\n        \"description\": \"\"\n      }\n    },\n    {\n      \"column\": \"discount_percent\",\n      \"properties\": {\n        \"dtype\": \"number\",\n        \"std\": 8834.491130634244,\n        \"min\": 0.0,\n        \"max\": 25000.0,\n        \"num_unique_values\": 8,\n        \"samples\": [\n          12.5274,\n          15.0,\n          25000.0\n        ],\n        \"semantic_type\": \"\",\n        \"description\": \"\"\n      }\n    },\n    {\n      \"column\": \"final_price\",\n      \"properties\": {\n        \"dtype\": \"number\",\n        \"std\": 8736.447788550413,\n        \"min\": 7.53,\n        \"max\": 25000.0,\n        \"num_unique_values\": 8,\n        \"samples\": [\n          271.491812,\n          219.41,\n          25000.0\n        ],\n        \"semantic_type\": \"\",\n        \"description\": \"\"\n      }\n    },\n    {\n      \"column\": \"review_rating\",\n      \"properties\": {\n        \"dtype\": \"number\",\n        \"std\": 8837.73413108359,\n        \"min\": 1.0,\n        \"max\": 25000.0,\n        \"num_unique_values\": 7,\n        \"samples\": [\n          25000.0,\n          3.69804,\n          4.0\n        ],\n        \"semantic_type\": \"\",\n        \"description\": \"\"\n      }\n    },\n    {\n      \"column\": \"delivery_days\",\n      \"properties\": {\n        \"dtype\": \"number\",\n        \"std\": 8748.801594425573,\n        \"min\": 1.0,\n        \"max\": 24750.0,\n        \"num_unique_values\": 8,\n        \"samples\": [\n          4.994868686868687,\n          5.0,\n          24750.0\n        ],\n        \"semantic_type\": \"\",\n        \"description\": \"\"\n      }\n    },\n    {\n      \"column\": \"is_returned\",\n      \"properties\": {\n        \"dtype\": \"number\",\n        \"std\": 8838.764244899428,\n        \"min\": 0.0,\n        \"max\": 25000.0,\n        \"num_unique_values\": 5,\n        \"samples\": [\n          0.09844,\n          1.0,\n          0.2979146128082724\n        ],\n        \"semantic_type\": \"\",\n        \"description\": \"\"\n      }\n    },\n    {\n      \"column\": \"expected_final_price\",\n      \"properties\": {\n        \"dtype\": \"number\",\n        \"std\": 8704.282247103862,\n        \"min\": 7.529999999999999,\n        \"max\": 24750.0,\n        \"num_unique_values\": 8,\n        \"samples\": [\n          135.91175898989897,\n          134.3055,\n          24750.0\n        ],\n        \"semantic_type\": \"\",\n        \"description\": \"\"\n      }\n    }\n  ]\n}"
            }
          },
          "metadata": {},
          "execution_count": 3
        }
      ]
    },
    {
      "cell_type": "markdown",
      "source": [
        "Counts / frequency of main_category, sub_category, brand, payment_method,\n",
        "region, customer_age_group, device_type."
      ],
      "metadata": {
        "id": "MT6zcLDBM3uA"
      }
    },
    {
      "cell_type": "code",
      "source": [
        "cols = ['main_category', 'sub_category', 'brand', 'payment_method',\n",
        "        'region', 'customer_age_group', 'device_type']\n",
        "\n",
        "for col in cols:\n",
        "    print(f\"\\n--- {col} ---\")\n",
        "    print(df[col].value_counts())\n"
      ],
      "metadata": {
        "colab": {
          "base_uri": "https://localhost:8080/"
        },
        "id": "7XsBgXtPNCzU",
        "outputId": "66ad338e-4990-4fbb-e5c0-388337fa7ada"
      },
      "execution_count": null,
      "outputs": [
        {
          "output_type": "stream",
          "name": "stdout",
          "text": [
            "\n",
            "--- main_category ---\n",
            "main_category\n",
            "Kids     5726\n",
            "Men      5617\n",
            "Baby     5604\n",
            "Women    5595\n",
            "men       653\n",
            "women     626\n",
            "kids      590\n",
            "baby      589\n",
            "Name: count, dtype: int64\n",
            "\n",
            "--- sub_category ---\n",
            "sub_category\n",
            "Shorts      1285\n",
            "Tops        1269\n",
            "Shirts      1256\n",
            "Hats        1254\n",
            "Caps        1246\n",
            "Sandals     1237\n",
            "Handbags    1235\n",
            "T-Shirts    1211\n",
            "Jewelry     1151\n",
            "Watches     1145\n",
            "Shoes       1140\n",
            "Sweaters    1137\n",
            "Jeans       1137\n",
            "Blankets    1134\n",
            "Booties     1134\n",
            "Jackets     1130\n",
            "Sneakers    1127\n",
            "Rompers     1126\n",
            "Dresses     1094\n",
            "Onesies     1067\n",
            "Watch3s      144\n",
            "Sn3ak3rs     142\n",
            "Sho3s        136\n",
            "On3si3s      129\n",
            "Sw3at3rs     123\n",
            "Romp3rs      120\n",
            "Blank3ts     118\n",
            "J3w3lry      118\n",
            "Dr3ss3s      117\n",
            "J3ans        114\n",
            "Jack3ts      113\n",
            "Booti3s      111\n",
            "Name: count, dtype: int64\n",
            "\n",
            "--- brand ---\n",
            "brand\n",
            "Nike               2448\n",
            "Adidas             2378\n",
            "Carter's           2369\n",
            "Michael Kors       1219\n",
            "Gap                1219\n",
            "Hudson Baby        1209\n",
            "Huggies            1208\n",
            "Zara               1200\n",
            "Levi's             1189\n",
            "Fossil             1183\n",
            "Coach              1179\n",
            "Puma               1172\n",
            "Gerber             1168\n",
            "H&M                1167\n",
            "Reebok             1167\n",
            "The Peanutshell    1141\n",
            "OshKosh            1134\n",
            "Name: count, dtype: int64\n",
            "\n",
            "--- payment_method ---\n",
            "payment_method\n",
            "Credit Card         5975\n",
            "PayPal              5959\n",
            "Gift Card           5940\n",
            "Cash on Delivery    5876\n",
            "Name: count, dtype: int64\n",
            "\n",
            "--- region ---\n",
            "region\n",
            "Midwest      5979\n",
            "West         5962\n",
            "South        5941\n",
            "Northeast    5868\n",
            "Name: count, dtype: int64\n",
            "\n",
            "--- customer_age_group ---\n",
            "customer_age_group\n",
            "55+      4849\n",
            "25-34    4785\n",
            "45-54    4754\n",
            "18-24    4709\n",
            "35-44    4653\n",
            "Name: count, dtype: int64\n",
            "\n",
            "--- device_type ---\n",
            "device_type\n",
            "App        7974\n",
            "Mobile     7934\n",
            "Desktop    7842\n",
            "Name: count, dtype: int64\n"
          ]
        }
      ]
    },
    {
      "cell_type": "markdown",
      "source": [
        "Returned vs non-returned proportion."
      ],
      "metadata": {
        "id": "89X4DXwuNU59"
      }
    },
    {
      "cell_type": "code",
      "source": [
        "df['is_returned'].value_counts(normalize=True) * 100\n"
      ],
      "metadata": {
        "colab": {
          "base_uri": "https://localhost:8080/",
          "height": 178
        },
        "id": "JnjcrgSQNnTE",
        "outputId": "df67861e-0b49-4613-e6ab-42794c7335e8"
      },
      "execution_count": null,
      "outputs": [
        {
          "output_type": "execute_result",
          "data": {
            "text/plain": [
              "is_returned\n",
              "0    90.156\n",
              "1     9.844\n",
              "Name: proportion, dtype: float64"
            ],
            "text/html": [
              "<div>\n",
              "<style scoped>\n",
              "    .dataframe tbody tr th:only-of-type {\n",
              "        vertical-align: middle;\n",
              "    }\n",
              "\n",
              "    .dataframe tbody tr th {\n",
              "        vertical-align: top;\n",
              "    }\n",
              "\n",
              "    .dataframe thead th {\n",
              "        text-align: right;\n",
              "    }\n",
              "</style>\n",
              "<table border=\"1\" class=\"dataframe\">\n",
              "  <thead>\n",
              "    <tr style=\"text-align: right;\">\n",
              "      <th></th>\n",
              "      <th>proportion</th>\n",
              "    </tr>\n",
              "    <tr>\n",
              "      <th>is_returned</th>\n",
              "      <th></th>\n",
              "    </tr>\n",
              "  </thead>\n",
              "  <tbody>\n",
              "    <tr>\n",
              "      <th>0</th>\n",
              "      <td>90.156</td>\n",
              "    </tr>\n",
              "    <tr>\n",
              "      <th>1</th>\n",
              "      <td>9.844</td>\n",
              "    </tr>\n",
              "  </tbody>\n",
              "</table>\n",
              "</div><br><label><b>dtype:</b> float64</label>"
            ]
          },
          "metadata": {},
          "execution_count": 5
        }
      ]
    },
    {
      "cell_type": "markdown",
      "source": [
        "Bivariate and  Multivariate Analysis"
      ],
      "metadata": {
        "id": "hw_GVvzdN8jX"
      }
    },
    {
      "cell_type": "code",
      "source": [
        "df['order_date'] = pd.to_datetime(df['order_date'])\n"
      ],
      "metadata": {
        "id": "BPXUcubBODhV"
      },
      "execution_count": null,
      "outputs": []
    },
    {
      "cell_type": "code",
      "source": [
        "df['revenue'] = df['final_price'] * df['quantity']\n",
        "# new column revenue"
      ],
      "metadata": {
        "id": "PTP21yiCPkA4"
      },
      "execution_count": null,
      "outputs": []
    },
    {
      "cell_type": "code",
      "source": [
        "monthly_revenue = df.groupby(df['order_date'].dt.to_period('M'))['revenue'].sum()\n",
        "print(monthly_revenue)\n"
      ],
      "metadata": {
        "colab": {
          "base_uri": "https://localhost:8080/"
        },
        "id": "PwZcldtTPWoF",
        "outputId": "3258e9d6-d8d7-4e8f-a064-156b4ce4bfd7"
      },
      "execution_count": null,
      "outputs": [
        {
          "output_type": "stream",
          "name": "stdout",
          "text": [
            "order_date\n",
            "2024-07    1351855.07\n",
            "2024-08    1290250.82\n",
            "2024-09    1360393.02\n",
            "2024-10    1299369.84\n",
            "2024-11    1335312.92\n",
            "2024-12    1334361.72\n",
            "2025-01    1338566.54\n",
            "2025-02    1163531.60\n",
            "2025-03    1409279.81\n",
            "2025-04    1336346.60\n",
            "2025-05    1371097.30\n",
            "2025-06    1225836.16\n",
            "Freq: M, Name: revenue, dtype: float64\n"
          ]
        }
      ]
    },
    {
      "cell_type": "code",
      "source": [
        "import matplotlib.pyplot as plt\n",
        "\n",
        "monthly_revenue.plot(kind='line', marker='o', figsize=(8,4))\n",
        "plt.title(\"Monthly Revenue Trend\")\n",
        "plt.ylabel(\"Revenue\")\n",
        "plt.xlabel(\"Month\")\n",
        "plt.show()\n"
      ],
      "metadata": {
        "colab": {
          "base_uri": "https://localhost:8080/",
          "height": 426
        },
        "id": "NzraupleQBCT",
        "outputId": "f4aa1ec3-6e73-4952-ca36-003c6ee3a935"
      },
      "execution_count": null,
      "outputs": [
        {
          "output_type": "display_data",
          "data": {
            "text/plain": [
              "<Figure size 800x400 with 1 Axes>"
            ],
            "image/png": "[encoded data removed]"
          },
          "metadata": {}
        }
      ]
    },
    {
      "cell_type": "code",
      "source": [
        "#weekly revenue trend\n",
        "weekly_revenue = df.groupby(df['order_date'].dt.to_period('W'))['revenue'].sum()\n",
        "weekly_revenue.plot(kind='line', marker='o', figsize=(8,4))\n",
        "plt.title(\"Weekly Revenue Trend\")\n",
        "plt.ylabel(\"Revenue\")\n",
        "plt.xlabel(\"Week\")\n",
        "plt.show()\n"
      ],
      "metadata": {
        "colab": {
          "base_uri": "https://localhost:8080/",
          "height": 426
        },
        "id": "Mv7jftD8QTWQ",
        "outputId": "cc65ae5d-91d9-47f9-fa84-405d31654669"
      },
      "execution_count": null,
      "outputs": [
        {
          "output_type": "display_data",
          "data": {
            "text/plain": [
              "<Figure size 800x400 with 1 Axes>"
            ],
            "image/png": "[encoded data removed]"
          },
          "metadata": {}
        }
      ]
    },
    {
      "cell_type": "markdown",
      "source": [
        "Which categories/brands drive most revenue?"
      ],
      "metadata": {
        "id": "WeTu9NSZSsDR"
      }
    },
    {
      "cell_type": "code",
      "source": [
        "# three categories main_category,sub_category and brands\n",
        "revenue_table = (df.groupby(['main_category', 'sub_category', 'brand'])['revenue']\n",
        "      .sum().reset_index().sort_values(by='revenue', ascending=False)\n",
        ")\n",
        "\n",
        "\n"
      ],
      "metadata": {
        "id": "fu4MD0JkStbz"
      },
      "execution_count": null,
      "outputs": []
    },
    {
      "cell_type": "code",
      "source": [
        "print(revenue_table.head(10))\n"
      ],
      "metadata": {
        "colab": {
          "base_uri": "https://localhost:8080/"
        },
        "id": "iUvR5j6fU-KF",
        "outputId": "60a42fe7-9cb4-4451-fc56-7df0abac1c61"
      },
      "execution_count": null,
      "outputs": [
        {
          "output_type": "stream",
          "name": "stdout",
          "text": [
            "    main_category sub_category         brand    revenue\n",
            "53           Kids       Shirts          Nike  158058.35\n",
            "54           Kids       Shirts       OshKosh  156535.18\n",
            "56           Kids       Shorts      Carter's  156256.27\n",
            "46           Kids         Caps      Carter's  156241.10\n",
            "22           Baby         Hats   Hudson Baby  149711.07\n",
            "159         Women         Tops          Zara  149492.60\n",
            "47           Kids         Caps           Gap  147479.33\n",
            "157         Women         Tops  Michael Kors  146547.79\n",
            "154         Women      Sandals          Zara  144386.44\n",
            "137         Women     Handbags  Michael Kors  144201.28\n"
          ]
        }
      ]
    },
    {
      "cell_type": "markdown",
      "source": [
        "Price vs quantity sold (does higher price suppress quantity?)."
      ],
      "metadata": {
        "id": "v8ry7BSiV0nj"
      }
    },
    {
      "cell_type": "code",
      "source": [
        "df[['price', 'quantity']].corr()\n"
      ],
      "metadata": {
        "colab": {
          "base_uri": "https://localhost:8080/",
          "height": 112
        },
        "id": "OeWsCjRAV6Sc",
        "outputId": "54d5ef66-ce26-4919-f72d-2b59201a00e8"
      },
      "execution_count": null,
      "outputs": [
        {
          "output_type": "execute_result",
          "data": {
            "text/plain": [
              "             price  quantity\n",
              "price     1.000000 -0.002839\n",
              "quantity -0.002839  1.000000"
            ],
            "text/html": [
              "\n",
              "  <div id=\"df-271782e9-7425-45fb-ad44-24e6f02f446a\" class=\"colab-df-container\">\n",
              "    <div>\n",
              "<style scoped>\n",
              "    .dataframe tbody tr th:only-of-type {\n",
              "        vertical-align: middle;\n",
              "    }\n",
              "\n",
              "    .dataframe tbody tr th {\n",
              "        vertical-align: top;\n",
              "    }\n",
              "\n",
              "    .dataframe thead th {\n",
              "        text-align: right;\n",
              "    }\n",
              "</style>\n",
              "<table border=\"1\" class=\"dataframe\">\n",
              "  <thead>\n",
              "    <tr style=\"text-align: right;\">\n",
              "      <th></th>\n",
              "      <th>price</th>\n",
              "      <th>quantity</th>\n",
              "    </tr>\n",
              "  </thead>\n",
              "  <tbody>\n",
              "    <tr>\n",
              "      <th>price</th>\n",
              "      <td>1.000000</td>\n",
              "      <td>-0.002839</td>\n",
              "    </tr>\n",
              "    <tr>\n",
              "      <th>quantity</th>\n",
              "      <td>-0.002839</td>\n",
              "      <td>1.000000</td>\n",
              "    </tr>\n",
              "  </tbody>\n",
              "</table>\n",
              "</div>\n",
              "    <div class=\"colab-df-buttons\">\n",
              "\n",
              "  <div class=\"colab-df-container\">\n",
              "    <button class=\"colab-df-convert\" onclick=\"convertToInteractive('df-271782e9-7425-45fb-ad44-24e6f02f446a')\"\n",
              "            title=\"Convert this dataframe to an interactive table.\"\n",
              "            style=\"display:none;\">\n",
              "\n",
              "  <svg xmlns=\"http://www.w3.org/2000/svg\" height=\"24px\" viewBox=\"0 -960 960 960\">\n",
              "    <path d=\"M120-120v-720h720v720H120Zm60-500h600v-160H180v160Zm220 220h160v-160H400v160Zm0 220h160v-160H400v160ZM180-400h160v-160H180v160Zm440 0h160v-160H620v160ZM180-180h160v-160H180v160Zm440 0h160v-160H620v160Z\"/>\n",
              "  </svg>\n",
              "    </button>\n",
              "\n",
              "  <style>\n",
              "    .colab-df-container {\n",
              "      display:flex;\n",
              "      gap: 12px;\n",
              "    }\n",
              "\n",
              "    .colab-df-convert {\n",
              "      background-color: #E8F0FE;\n",
              "      border: none;\n",
              "      border-radius: 50%;\n",
              "      cursor: pointer;\n",
              "      display: none;\n",
              "      fill: #1967D2;\n",
              "      height: 32px;\n",
              "      padding: 0 0 0 0;\n",
              "      width: 32px;\n",
              "    }\n",
              "\n",
              "    .colab-df-convert:hover {\n",
              "      background-color: #E2EBFA;\n",
              "      box-shadow: 0px 1px 2px rgba(60, 64, 67, 0.3), 0px 1px 3px 1px rgba(60, 64, 67, 0.15);\n",
              "      fill: #174EA6;\n",
              "    }\n",
              "\n",
              "    .colab-df-buttons div {\n",
              "      margin-bottom: 4px;\n",
              "    }\n",
              "\n",
              "    [theme=dark] .colab-df-convert {\n",
              "      background-color: #3B4455;\n",
              "      fill: #D2E3FC;\n",
              "    }\n",
              "\n",
              "    [theme=dark] .colab-df-convert:hover {\n",
              "      background-color: #434B5C;\n",
              "      box-shadow: 0px 1px 3px 1px rgba(0, 0, 0, 0.15);\n",
              "      filter: drop-shadow(0px 1px 2px rgba(0, 0, 0, 0.3));\n",
              "      fill: #FFFFFF;\n",
              "    }\n",
              "  </style>\n",
              "\n",
              "    <script>\n",
              "      const buttonEl =\n",
              "        document.querySelector('#df-271782e9-7425-45fb-ad44-24e6f02f446a button.colab-df-convert');\n",
              "      buttonEl.style.display =\n",
              "        google.colab.kernel.accessAllowed ? 'block' : 'none';\n",
              "\n",
              "      async function convertToInteractive(key) {\n",
              "        const element = document.querySelector('#df-271782e9-7425-45fb-ad44-24e6f02f446a');\n",
              "        const dataTable =\n",
              "          await google.colab.kernel.invokeFunction('convertToInteractive',\n",
              "                                                    [key], {});\n",
              "        if (!dataTable) return;\n",
              "\n",
              "        const docLinkHtml = 'Like what you see? Visit the ' +\n",
              "          '<a target=\"_blank\" href=https://colab.research.google.com/notebooks/data_table.ipynb>data table notebook</a>'\n",
              "          + ' to learn more about interactive tables.';\n",
              "        element.innerHTML = '';\n",
              "        dataTable['output_type'] = 'display_data';\n",
              "        await google.colab.output.renderOutput(dataTable, element);\n",
              "        const docLink = document.createElement('div');\n",
              "        docLink.innerHTML = docLinkHtml;\n",
              "        element.appendChild(docLink);\n",
              "      }\n",
              "    </script>\n",
              "  </div>\n",
              "\n",
              "\n",
              "    <div id=\"df-36bed7ad-b487-4538-a480-35012f89f333\">\n",
              "      <button class=\"colab-df-quickchart\" onclick=\"quickchart('df-36bed7ad-b487-4538-a480-35012f89f333')\"\n",
              "                title=\"Suggest charts\"\n",
              "                style=\"display:none;\">\n",
              "\n",
              "<svg xmlns=\"http://www.w3.org/2000/svg\" height=\"24px\"viewBox=\"0 0 24 24\"\n",
              "     width=\"24px\">\n",
              "    <g>\n",
              "        <path d=\"M19 3H5c-1.1 0-2 .9-2 2v14c0 1.1.9 2 2 2h14c1.1 0 2-.9 2-2V5c0-1.1-.9-2-2-2zM9 17H7v-7h2v7zm4 0h-2V7h2v10zm4 0h-2v-4h2v4z\"/>\n",
              "    </g>\n",
              "</svg>\n",
              "      </button>\n",
              "\n",
              "<style>\n",
              "  .colab-df-quickchart {\n",
              "      --bg-color: #E8F0FE;\n",
              "      --fill-color: #1967D2;\n",
              "      --hover-bg-color: #E2EBFA;\n",
              "      --hover-fill-color: #174EA6;\n",
              "      --disabled-fill-color: #AAA;\n",
              "      --disabled-bg-color: #DDD;\n",
              "  }\n",
              "\n",
              "  [theme=dark] .colab-df-quickchart {\n",
              "      --bg-color: #3B4455;\n",
              "      --fill-color: #D2E3FC;\n",
              "      --hover-bg-color: #434B5C;\n",
              "      --hover-fill-color: #FFFFFF;\n",
              "      --disabled-bg-color: #3B4455;\n",
              "      --disabled-fill-color: #666;\n",
              "  }\n",
              "\n",
              "  .colab-df-quickchart {\n",
              "    background-color: var(--bg-color);\n",
              "    border: none;\n",
              "    border-radius: 50%;\n",
              "    cursor: pointer;\n",
              "    display: none;\n",
              "    fill: var(--fill-color);\n",
              "    height: 32px;\n",
              "    padding: 0;\n",
              "    width: 32px;\n",
              "  }\n",
              "\n",
              "  .colab-df-quickchart:hover {\n",
              "    background-color: var(--hover-bg-color);\n",
              "    box-shadow: 0 1px 2px rgba(60, 64, 67, 0.3), 0 1px 3px 1px rgba(60, 64, 67, 0.15);\n",
              "    fill: var(--button-hover-fill-color);\n",
              "  }\n",
              "\n",
              "  .colab-df-quickchart-complete:disabled,\n",
              "  .colab-df-quickchart-complete:disabled:hover {\n",
              "    background-color: var(--disabled-bg-color);\n",
              "    fill: var(--disabled-fill-color);\n",
              "    box-shadow: none;\n",
              "  }\n",
              "\n",
              "  .colab-df-spinner {\n",
              "    border: 2px solid var(--fill-color);\n",
              "    border-color: transparent;\n",
              "    border-bottom-color: var(--fill-color);\n",
              "    animation:\n",
              "      spin 1s steps(1) infinite;\n",
              "  }\n",
              "\n",
              "  @keyframes spin {\n",
              "    0% {\n",
              "      border-color: transparent;\n",
              "      border-bottom-color: var(--fill-color);\n",
              "      border-left-color: var(--fill-color);\n",
              "    }\n",
              "    20% {\n",
              "      border-color: transparent;\n",
              "      border-left-color: var(--fill-color);\n",
              "      border-top-color: var(--fill-color);\n",
              "    }\n",
              "    30% {\n",
              "      border-color: transparent;\n",
              "      border-left-color: var(--fill-color);\n",
              "      border-top-color: var(--fill-color);\n",
              "      border-right-color: var(--fill-color);\n",
              "    }\n",
              "    40% {\n",
              "      border-color: transparent;\n",
              "      border-right-color: var(--fill-color);\n",
              "      border-top-color: var(--fill-color);\n",
              "    }\n",
              "    60% {\n",
              "      border-color: transparent;\n",
              "      border-right-color: var(--fill-color);\n",
              "    }\n",
              "    80% {\n",
              "      border-color: transparent;\n",
              "      border-right-color: var(--fill-color);\n",
              "      border-bottom-color: var(--fill-color);\n",
              "    }\n",
              "    90% {\n",
              "      border-color: transparent;\n",
              "      border-bottom-color: var(--fill-color);\n",
              "    }\n",
              "  }\n",
              "</style>\n",
              "\n",
              "      <script>\n",
              "        async function quickchart(key) {\n",
              "          const quickchartButtonEl =\n",
              "            document.querySelector('#' + key + ' button');\n",
              "          quickchartButtonEl.disabled = true;  // To prevent multiple clicks.\n",
              "          quickchartButtonEl.classList.add('colab-df-spinner');\n",
              "          try {\n",
              "            const charts = await google.colab.kernel.invokeFunction(\n",
              "                'suggestCharts', [key], {});\n",
              "          } catch (error) {\n",
              "            console.error('Error during call to suggestCharts:', error);\n",
              "          }\n",
              "          quickchartButtonEl.classList.remove('colab-df-spinner');\n",
              "          quickchartButtonEl.classList.add('colab-df-quickchart-complete');\n",
              "        }\n",
              "        (() => {\n",
              "          let quickchartButtonEl =\n",
              "            document.querySelector('#df-36bed7ad-b487-4538-a480-35012f89f333 button');\n",
              "          quickchartButtonEl.style.display =\n",
              "            google.colab.kernel.accessAllowed ? 'block' : 'none';\n",
              "        })();\n",
              "      </script>\n",
              "    </div>\n",
              "\n",
              "    </div>\n",
              "  </div>\n"
            ],
            "application/vnd.google.colaboratory.intrinsic+json": {
              "type": "dataframe",
              "summary": "{\n  \"name\": \"df[['price', 'quantity']]\",\n  \"rows\": 2,\n  \"fields\": [\n    {\n      \"column\": \"price\",\n      \"properties\": {\n        \"dtype\": \"number\",\n        \"std\": 0.7091140930960805,\n        \"min\": -0.0028387677263747337,\n        \"max\": 1.0,\n        \"num_unique_values\": 2,\n        \"samples\": [\n          -0.0028387677263747337,\n          1.0\n        ],\n        \"semantic_type\": \"\",\n        \"description\": \"\"\n      }\n    },\n    {\n      \"column\": \"quantity\",\n      \"properties\": {\n        \"dtype\": \"number\",\n        \"std\": 0.7091140930960805,\n        \"min\": -0.0028387677263747337,\n        \"max\": 1.0,\n        \"num_unique_values\": 2,\n        \"samples\": [\n          1.0,\n          -0.0028387677263747337\n        ],\n        \"semantic_type\": \"\",\n        \"description\": \"\"\n      }\n    }\n  ]\n}"
            }
          },
          "metadata": {},
          "execution_count": 14
        }
      ]
    },
    {
      "cell_type": "code",
      "source": [
        "import matplotlib.pyplot as plt\n",
        "\n",
        "plt.figure(figsize=(6,4))\n",
        "plt.scatter(df['price'], df['quantity'], alpha=0.5)\n",
        "plt.xlabel('Price')\n",
        "plt.ylabel('Quantity Sold')\n",
        "plt.title('Price vs Quantity Sold')\n",
        "plt.show()\n"
      ],
      "metadata": {
        "colab": {
          "base_uri": "https://localhost:8080/",
          "height": 410
        },
        "id": "wyTRpNSzXVP9",
        "outputId": "62cc5c3e-2aba-46ac-ec8a-00dc4508faa5"
      },
      "execution_count": null,
      "outputs": [
        {
          "output_type": "display_data",
          "data": {
            "text/plain": [
              "<Figure size 600x400 with 1 Axes>"
            ],
            "image/png": "[encoded data removed]"
          },
          "metadata": {}
        }
      ]
    },
    {
      "cell_type": "markdown",
      "source": [
        "Discount effectiveness"
      ],
      "metadata": {
        "id": "98oGwc22gLkG"
      }
    },
    {
      "cell_type": "code",
      "source": [
        "#Relationship between discount percent and quantity sold / revenue.\n",
        "import matplotlib.pyplot as plt\n",
        "\n",
        "# Discount vs Quantity\n",
        "plt.scatter(df['discount_percent'], df['quantity'], alpha=0.5)\n",
        "plt.xlabel('Discount %')\n",
        "plt.ylabel('Quantity Sold')\n",
        "plt.title('Discount % vs Quantity Sold')\n",
        "plt.show()\n",
        "\n",
        "# Discount vs Revenue\n",
        "plt.scatter(df['discount_percent'], df['revenue'], alpha=0.5)\n",
        "plt.xlabel('Discount %')\n",
        "plt.ylabel('Revenue')\n",
        "plt.title('Discount % vs Revenue')\n",
        "plt.show()\n",
        "#scatter plot"
      ],
      "metadata": {
        "colab": {
          "base_uri": "https://localhost:8080/",
          "height": 927
        },
        "id": "zfrRhmTfgZhM",
        "outputId": "7559187d-3df1-4a28-a367-3c8288013da8"
      },
      "execution_count": null,
      "outputs": [
        {
          "output_type": "display_data",
          "data": {
            "text/plain": [
              "<Figure size 640x480 with 1 Axes>"
            ],
            "image/png": "[encoded data removed]"
          },
          "metadata": {}
        },
        {
          "output_type": "display_data",
          "data": {
            "text/plain": [
              "<Figure size 640x480 with 1 Axes>"
            ],
            "image/png": "[encoded data removed]"
          },
          "metadata": {}
        }
      ]
    },
    {
      "cell_type": "code",
      "source": [
        "import seaborn as sns\n",
        "sns.regplot(x='discount_percent', y='quantity', data=df, scatter_kws={'alpha':0.5})\n",
        "#trend line"
      ],
      "metadata": {
        "colab": {
          "base_uri": "https://localhost:8080/",
          "height": 467
        },
        "id": "R4fG_7qEja-c",
        "outputId": "aef3b042-d53e-48fd-82cf-a061669d02c9"
      },
      "execution_count": null,
      "outputs": [
        {
          "output_type": "execute_result",
          "data": {
            "text/plain": [
              "<Axes: xlabel='discount_percent', ylabel='quantity'>"
            ]
          },
          "metadata": {},
          "execution_count": 6
        },
        {
          "output_type": "display_data",
          "data": {
            "text/plain": [
              "<Figure size 640x480 with 1 Axes>"
            ],
            "image/png": "[encoded data removed]"
          },
          "metadata": {}
        }
      ]
    },
    {
      "cell_type": "markdown",
      "source": [
        " Return analysis"
      ],
      "metadata": {
        "id": "4sn0pxAHjld6"
      }
    },
    {
      "cell_type": "code",
      "source": [
        "# Return rate by category, brand, customer age group, device type.\n",
        "# Calculate return rate by main_category\n",
        "return_rate_category = (\n",
        "    (df['is_returned'] == 0)  # True for returns\n",
        "    .groupby(df['main_category'])\n",
        "    .mean() * 100\n",
        ").reset_index(name='return_rate(%)')\n",
        "print(return_rate_category)\n"
      ],
      "metadata": {
        "colab": {
          "base_uri": "https://localhost:8080/"
        },
        "id": "Lxo0N-1NkMDZ",
        "outputId": "7be90d55-f639-454e-9f84-6bf43b9cdc0e"
      },
      "execution_count": null,
      "outputs": [
        {
          "output_type": "stream",
          "name": "stdout",
          "text": [
            "  main_category  return_rate(%)\n",
            "0          Baby       90.203426\n",
            "1          Kids       90.394691\n",
            "2           Men       89.941250\n",
            "3         Women       90.241287\n",
            "4          baby       90.152801\n",
            "5          kids       91.525424\n",
            "6           men       86.983155\n",
            "7         women       90.734824\n"
          ]
        }
      ]
    },
    {
      "cell_type": "code",
      "source": [
        "# By brand\n",
        "return_rate_category = (\n",
        "    (df['is_returned'] == 0)  # True for returns\n",
        "    .groupby(df['brand'])\n",
        "    .mean() * 100\n",
        ").reset_index(name='return_rate(%)')\n",
        "print(return_rate_category)\n"
      ],
      "metadata": {
        "colab": {
          "base_uri": "https://localhost:8080/"
        },
        "id": "iOeNtOf9miek",
        "outputId": "e811ef90-752f-45c4-bd83-0e869312a97a"
      },
      "execution_count": null,
      "outputs": [
        {
          "output_type": "stream",
          "name": "stdout",
          "text": [
            "              brand  return_rate(%)\n",
            "0            Adidas       90.075694\n",
            "1          Carter's       91.177712\n",
            "2             Coach       90.754877\n",
            "3            Fossil       90.109890\n",
            "4               Gap       90.073831\n",
            "5            Gerber       89.126712\n",
            "6               H&M       90.231362\n",
            "7       Hudson Baby       91.149711\n",
            "8           Huggies       89.900662\n",
            "9            Levi's       89.234651\n",
            "10     Michael Kors       90.484003\n",
            "11             Nike       89.297386\n",
            "12          OshKosh       90.828924\n",
            "13             Puma       90.443686\n",
            "14           Reebok       90.745501\n",
            "15  The Peanutshell       89.745837\n",
            "16             Zara       88.666667\n"
          ]
        }
      ]
    },
    {
      "cell_type": "code",
      "source": [
        "# By customer age group\n",
        "return_rate_category = (\n",
        "    (df['is_returned'] == 0)  # True for returns\n",
        "    .groupby(df['customer_age_group'])\n",
        "    .mean() * 100\n",
        ").reset_index(name='return_rate(%)')\n",
        "print(return_rate_category)"
      ],
      "metadata": {
        "colab": {
          "base_uri": "https://localhost:8080/"
        },
        "id": "A0zJQtIFmofD",
        "outputId": "509898f7-0d66-4ab5-e56a-e6a9bcf22fb9"
      },
      "execution_count": null,
      "outputs": [
        {
          "output_type": "stream",
          "name": "stdout",
          "text": [
            "  customer_age_group  return_rate(%)\n",
            "0              18-24       89.955405\n",
            "1              25-34       90.114943\n",
            "2              35-44       90.285837\n",
            "3              45-54       91.018090\n",
            "4                55+       89.771087\n"
          ]
        }
      ]
    },
    {
      "cell_type": "code",
      "source": [
        "# By device type\n",
        "return_rate_category = (\n",
        "    (df['is_returned'] == 0)  # True for returns\n",
        "    .groupby(df['device_type'])\n",
        "    .mean() * 100\n",
        ").reset_index(name='return_rate(%)')\n",
        "print(return_rate_category)\n",
        "\n"
      ],
      "metadata": {
        "colab": {
          "base_uri": "https://localhost:8080/"
        },
        "id": "egYxe4uGmuax",
        "outputId": "376c12e0-7993-46f9-faeb-4676a075802a"
      },
      "execution_count": null,
      "outputs": [
        {
          "output_type": "stream",
          "name": "stdout",
          "text": [
            "  device_type  return_rate(%)\n",
            "0         App       90.155505\n",
            "1     Desktop       89.977047\n",
            "2      Mobile       90.282329\n"
          ]
        }
      ]
    },
    {
      "cell_type": "markdown",
      "source": [
        "Customer Behavior"
      ],
      "metadata": {
        "id": "kwYrii3HpYLs"
      }
    },
    {
      "cell_type": "code",
      "source": [
        "#high value customers vs one time buyers(segmentation)\n",
        "\n",
        "# Aggregate to customer level\n",
        "customer_stats = df.groupby('customer_id').agg(\n",
        "    total_orders=('order_id', 'nunique'),\n",
        "    total_spend=('revenue', 'sum')\n",
        ").reset_index()\n"
      ],
      "metadata": {
        "id": "-drSRO7rpZzB"
      },
      "execution_count": null,
      "outputs": []
    },
    {
      "cell_type": "code",
      "source": [
        "# Define thresholds\n",
        "spend_threshold = customer_stats['total_spend'].quantile(0.80)  # top 20% spenders\n",
        "\n",
        "def segment_customer(row):\n",
        "    if row['total_orders'] == 1:\n",
        "        return 'One-time buyer'\n",
        "    elif row['total_spend'] >= spend_threshold:\n",
        "        return 'High-value customer'\n",
        "    else:\n",
        "        return 'Regular customer'\n",
        "\n",
        "customer_stats['segment'] = customer_stats.apply(segment_customer, axis=1)\n"
      ],
      "metadata": {
        "id": "87g-YS9yqvFx"
      },
      "execution_count": null,
      "outputs": []
    },
    {
      "cell_type": "code",
      "source": [
        "print(customer_stats['segment'].value_counts())\n"
      ],
      "metadata": {
        "colab": {
          "base_uri": "https://localhost:8080/"
        },
        "id": "jlqJICsjq91Z",
        "outputId": "9a67be6d-436f-4124-c217-33407c7cef29"
      },
      "execution_count": null,
      "outputs": [
        {
          "output_type": "stream",
          "name": "stdout",
          "text": [
            "segment\n",
            "One-time buyer    25000\n",
            "Name: count, dtype: int64\n"
          ]
        }
      ]
    },
    {
      "cell_type": "markdown",
      "source": [
        "Average order value (AOV) by region / age group."
      ],
      "metadata": {
        "id": "JIwM7fmkrZI0"
      }
    },
    {
      "cell_type": "code",
      "source": [
        "# 𝐴OV =total revenue/number of orders\n",
        "aov_region = (\n",
        "    df.groupby('region')\n",
        "    .agg(total_revenue=('revenue', 'sum'),\n",
        "         total_orders=('order_id', 'nunique'))\n",
        "    .assign(AOV=lambda x: x['total_revenue'] / x['total_orders'])\n",
        "    .reset_index()\n",
        ")\n",
        "print(aov_region)\n",
        "\n",
        "\n"
      ],
      "metadata": {
        "colab": {
          "base_uri": "https://localhost:8080/"
        },
        "id": "kL1FhxamrcDl",
        "outputId": "884a9e1e-b437-4bce-cab0-7fb23ef16c4d"
      },
      "execution_count": null,
      "outputs": [
        {
          "output_type": "stream",
          "name": "stdout",
          "text": [
            "      region  total_revenue  total_orders         AOV\n",
            "0    Midwest     3798049.86          5979  635.231621\n",
            "1  Northeast     3740840.19          5868  637.498328\n",
            "2      South     3749871.95          5941  631.185314\n",
            "3       West     3738919.21          5962  627.124993\n"
          ]
        }
      ]
    },
    {
      "cell_type": "code",
      "source": [
        "# customer_age_group\n",
        "aov_age = (\n",
        "    df.groupby('customer_age_group')\n",
        "    .agg(total_revenue=('revenue', 'sum'),\n",
        "         total_orders=('order_id', 'nunique'))\n",
        "    .assign(AOV=lambda x: x['total_revenue'] / x['total_orders'])\n",
        "    .reset_index()\n",
        ")\n",
        "print(aov_age)\n"
      ],
      "metadata": {
        "colab": {
          "base_uri": "https://localhost:8080/"
        },
        "id": "tMowXajXsPKx",
        "outputId": "f381dcad-27ff-4676-89c4-e96cfb1c4b6c"
      },
      "execution_count": null,
      "outputs": [
        {
          "output_type": "stream",
          "name": "stdout",
          "text": [
            "  customer_age_group  total_revenue  total_orders         AOV\n",
            "0              18-24     3054332.57          4709  648.615963\n",
            "1              25-34     3067617.15          4785  641.090313\n",
            "2              35-44     2885992.53          4653  620.243398\n",
            "3              45-54     2948332.60          4754  620.179344\n",
            "4                55+     3042131.23          4849  627.372908\n"
          ]
        }
      ]
    },
    {
      "cell_type": "markdown",
      "source": [
        "Delivery Performance"
      ],
      "metadata": {
        "id": "pAJEW2m6sm70"
      }
    },
    {
      "cell_type": "code",
      "source": [
        "#Delivery days distribution and its effect on review rating / return probability\n",
        "plt.hist(df['delivery_days'], bins=10, edgecolor='black')\n",
        "plt.xlabel('Delivery Days')\n",
        "plt.ylabel('Frequency')\n",
        "plt.title('Delivery Days Distribution')\n",
        "plt.show()\n"
      ],
      "metadata": {
        "colab": {
          "base_uri": "https://localhost:8080/",
          "height": 472
        },
        "id": "1_tIGaZossiq",
        "outputId": "e56d2d30-f718-442f-9e52-a4620ddfd08b"
      },
      "execution_count": null,
      "outputs": [
        {
          "output_type": "display_data",
          "data": {
            "text/plain": [
              "<Figure size 640x480 with 1 Axes>"
            ],
            "image/png": "[encoded data removed]"
          },
          "metadata": {}
        }
      ]
    },
    {
      "cell_type": "code",
      "source": [
        "print(df['delivery_days'].describe())\n"
      ],
      "metadata": {
        "colab": {
          "base_uri": "https://localhost:8080/"
        },
        "id": "B3pKC8MjzcEU",
        "outputId": "dc727008-fa03-4f75-b1d2-9ad2f21d88f3"
      },
      "execution_count": null,
      "outputs": [
        {
          "output_type": "stream",
          "name": "stdout",
          "text": [
            "count    24750.000000\n",
            "mean         4.994869\n",
            "std          2.578238\n",
            "min          1.000000\n",
            "25%          3.000000\n",
            "50%          5.000000\n",
            "75%          7.000000\n",
            "max          9.000000\n",
            "Name: delivery_days, dtype: float64\n"
          ]
        }
      ]
    },
    {
      "cell_type": "code",
      "source": [
        "# effect on review rating\n",
        "rating_by_days = df.groupby('delivery_days')['review_rating'].mean().reset_index()\n",
        "\n",
        "plt.plot(rating_by_days['delivery_days'], rating_by_days['review_rating'], marker='o')\n",
        "plt.xlabel('Delivery Days')\n",
        "plt.ylabel('Average Review Rating')\n",
        "plt.title('Delivery Days vs Average Review Rating')\n",
        "plt.show()\n",
        "\n",
        "# Correlation check\n",
        "print(\"Correlation:\", df['delivery_days'].corr(df['review_rating']))\n"
      ],
      "metadata": {
        "colab": {
          "base_uri": "https://localhost:8080/",
          "height": 489
        },
        "id": "9BzSHFQEzqXL",
        "outputId": "7e2826d4-9518-4992-b14c-57b5997537fc"
      },
      "execution_count": null,
      "outputs": [
        {
          "output_type": "display_data",
          "data": {
            "text/plain": [
              "<Figure size 640x480 with 1 Axes>"
            ],
            "image/png": "[encoded data removed]"
          },
          "metadata": {}
        },
        {
          "output_type": "stream",
          "name": "stdout",
          "text": [
            "Correlation: 0.009852148596376365\n"
          ]
        }
      ]
    },
    {
      "cell_type": "code",
      "source": [
        "# probability return\n",
        "return_prob_by_days = df.groupby('delivery_days').apply(\n",
        "    lambda x: (x['is_returned'] == 0).mean() * 100\n",
        ").reset_index(name='return_probability(%)')\n",
        "\n",
        "plt.plot(return_prob_by_days['delivery_days'], return_prob_by_days['return_probability(%)'], marker='o', color='red')\n",
        "plt.xlabel('Delivery Days')\n",
        "plt.ylabel('Return Probability (%)')\n",
        "plt.title('Delivery Days vs Return Probability')\n",
        "plt.show()\n"
      ],
      "metadata": {
        "colab": {
          "base_uri": "https://localhost:8080/",
          "height": 527
        },
        "id": "LwHsOgFc0QDD",
        "outputId": "4689bf8d-3d03-49c6-8cb5-2afe95c32e23"
      },
      "execution_count": null,
      "outputs": [
        {
          "output_type": "stream",
          "name": "stderr",
          "text": [
            "/tmp/ipython-input-2264950506.py:2: DeprecationWarning: DataFrameGroupBy.apply operated on the grouping columns. This behavior is deprecated, and in a future version of pandas the grouping columns will be excluded from the operation. Either pass `include_groups=False` to exclude the groupings or explicitly select the grouping columns after groupby to silence this warning.\n",
            "  return_prob_by_days = df.groupby('delivery_days').apply(\n"
          ]
        },
        {
          "output_type": "display_data",
          "data": {
            "text/plain": [
              "<Figure size 640x480 with 1 Axes>"
            ],
            "image/png": "[encoded data removed]"
          },
          "metadata": {}
        }
      ]
    },
    {
      "cell_type": "markdown",
      "source": [
        "Rating Signal"
      ],
      "metadata": {
        "id": "orV30A8j0hZ5"
      }
    },
    {
      "cell_type": "code",
      "source": [
        "#Average rating by brand, category, region.\n",
        "# by brand\n",
        "avg_rating_brand = (\n",
        "    df.groupby('brand')['review_rating']\n",
        "    .mean()\n",
        "    .reset_index(name='avg_rating')\n",
        "    .sort_values(by='avg_rating', ascending=False)\n",
        ")\n",
        "print(avg_rating_brand)\n"
      ],
      "metadata": {
        "colab": {
          "base_uri": "https://localhost:8080/"
        },
        "id": "L3oeuFAz0jCx",
        "outputId": "b598f9ec-0a73-4af9-bb60-eadbb9160d84"
      },
      "execution_count": null,
      "outputs": [
        {
          "output_type": "stream",
          "name": "stdout",
          "text": [
            "              brand  avg_rating\n",
            "3            Fossil    3.737954\n",
            "10     Michael Kors    3.734208\n",
            "12          OshKosh    3.731041\n",
            "9            Levi's    3.730866\n",
            "16             Zara    3.729167\n",
            "11             Nike    3.703840\n",
            "0            Adidas    3.701850\n",
            "8           Huggies    3.700331\n",
            "1          Carter's    3.699873\n",
            "6               H&M    3.699229\n",
            "4               Gap    3.693191\n",
            "15  The Peanutshell    3.687117\n",
            "2             Coach    3.684478\n",
            "13             Puma    3.683447\n",
            "5            Gerber    3.673801\n",
            "7       Hudson Baby    3.636890\n",
            "14           Reebok    3.622965\n"
          ]
        }
      ]
    },
    {
      "cell_type": "code",
      "source": [
        "# average rating by main category\n",
        "avg_rating_category = (\n",
        "    df.groupby('main_category')['review_rating']\n",
        "    .mean()\n",
        "    .reset_index(name='avg_rating')\n",
        "    .sort_values(by='avg_rating', ascending=False)\n",
        ")\n",
        "print(avg_rating_category)\n"
      ],
      "metadata": {
        "colab": {
          "base_uri": "https://localhost:8080/"
        },
        "id": "IDkO_2D81BDT",
        "outputId": "dc905dff-fc69-425e-c0b7-b22c21c73600"
      },
      "execution_count": null,
      "outputs": [
        {
          "output_type": "stream",
          "name": "stdout",
          "text": [
            "  main_category  avg_rating\n",
            "7         women    3.795527\n",
            "5          kids    3.745763\n",
            "2           Men    3.716219\n",
            "4          baby    3.699491\n",
            "1          Kids    3.695599\n",
            "3         Women    3.686327\n",
            "0          Baby    3.680050\n",
            "6           men    3.679939\n"
          ]
        }
      ]
    },
    {
      "cell_type": "code",
      "source": [
        "# average rating by region\n",
        "avg_rating_region = (\n",
        "    df.groupby('region')['review_rating']\n",
        "    .mean()\n",
        "    .reset_index(name='avg_rating')\n",
        "    .sort_values(by='avg_rating', ascending=False)\n",
        ")\n",
        "print(avg_rating_region)\n"
      ],
      "metadata": {
        "colab": {
          "base_uri": "https://localhost:8080/"
        },
        "id": "dDOv-glh1aNo",
        "outputId": "889c9bd0-3db3-415d-9bb5-1ae932ecddeb"
      },
      "execution_count": null,
      "outputs": [
        {
          "output_type": "stream",
          "name": "stdout",
          "text": [
            "      region  avg_rating\n",
            "1  Northeast    3.703306\n",
            "2      South    3.699041\n",
            "0    Midwest    3.695100\n",
            "3       West    3.689366\n"
          ]
        }
      ]
    },
    {
      "cell_type": "markdown",
      "source": [
        "Correlate low ratings with subsequent returns."
      ],
      "metadata": {
        "id": "q7wFvPH11uBW"
      }
    },
    {
      "cell_type": "code",
      "source": [
        "correlation = df['review_rating'].corr(df['is_returned'] == 0)  # True if returned\n",
        "print(\"Correlation between low rating and returns:\", correlation)\n",
        "#negative correlation -- fewer returns."
      ],
      "metadata": {
        "colab": {
          "base_uri": "https://localhost:8080/"
        },
        "id": "tEq-tZwu1ve8",
        "outputId": "986e85d0-df7a-4edb-e4ea-0ed778f1d700"
      },
      "execution_count": null,
      "outputs": [
        {
          "output_type": "stream",
          "name": "stdout",
          "text": [
            "Correlation between low rating and returns: -0.007980968572747897\n"
          ]
        }
      ]
    },
    {
      "cell_type": "markdown",
      "source": [
        "Payment Method Insights"
      ],
      "metadata": {
        "id": "Qk7UsXbs4HkO"
      }
    },
    {
      "cell_type": "code",
      "source": [
        "# Return rate = % of orders that were returned\n",
        "return_rate_payment = (\n",
        "    df.groupby('payment_method')\n",
        "    .apply(lambda x: (x['is_returned'] == 0).mean() * 100)\n",
        "    .reset_index(name='return_rate(%)')\n",
        "    .sort_values('return_rate(%)', ascending=False)\n",
        ")\n",
        "print(return_rate_payment)\n"
      ],
      "metadata": {
        "colab": {
          "base_uri": "https://localhost:8080/"
        },
        "id": "xmDD-jJw4KFd",
        "outputId": "06c0dcab-c5b6-40c6-fc68-9cf1140b6d27"
      },
      "execution_count": null,
      "outputs": [
        {
          "output_type": "stream",
          "name": "stdout",
          "text": [
            "     payment_method  return_rate(%)\n",
            "0  Cash on Delivery       91.099387\n",
            "1       Credit Card       90.309623\n",
            "3            PayPal       89.864071\n",
            "2         Gift Card       89.410774\n"
          ]
        },
        {
          "output_type": "stream",
          "name": "stderr",
          "text": [
            "/tmp/ipython-input-3600620272.py:4: DeprecationWarning: DataFrameGroupBy.apply operated on the grouping columns. This behavior is deprecated, and in a future version of pandas the grouping columns will be excluded from the operation. Either pass `include_groups=False` to exclude the groupings or explicitly select the grouping columns after groupby to silence this warning.\n",
            "  .apply(lambda x: (x['is_returned'] == 0).mean() * 100)\n"
          ]
        }
      ]
    },
    {
      "cell_type": "code",
      "source": [
        "avg_spend_payment = (\n",
        "    df.groupby('payment_method')['final_price']\n",
        "    .mean()\n",
        "    .reset_index(name='average_spend')\n",
        "    .sort_values('average_spend', ascending=False)\n",
        ")\n",
        "print(avg_spend_payment)\n"
      ],
      "metadata": {
        "colab": {
          "base_uri": "https://localhost:8080/"
        },
        "id": "PvETdIut4yBM",
        "outputId": "bb13275d-8b6a-4b64-b7d7-77eee7e9943c"
      },
      "execution_count": null,
      "outputs": [
        {
          "output_type": "stream",
          "name": "stdout",
          "text": [
            "     payment_method  average_spend\n",
            "2         Gift Card     273.064448\n",
            "0  Cash on Delivery     272.263923\n",
            "1       Credit Card     270.785074\n",
            "3            PayPal     270.287144\n"
          ]
        }
      ]
    },
    {
      "cell_type": "markdown",
      "source": [
        "Cross-analysis"
      ],
      "metadata": {
        "id": "ANrQlXM45Izf"
      }
    },
    {
      "cell_type": "code",
      "source": [
        "#return rate for mobile users vs desktop, region vs delivery\n",
        "# performance, age group vs discount sensitivity.\n",
        "\n",
        "# mobile vs desktop\n",
        "# (0 = returned)\n",
        "return_rate_device = (\n",
        "    df.groupby('device_type')\n",
        "      .apply(lambda x: (x['is_returned'] == 0).mean() * 100)\n",
        "      .reset_index(name='return_rate(%)')\n",
        "      .sort_values('return_rate(%)', ascending=False)\n",
        ")\n",
        "\n",
        "print(return_rate_device)\n",
        "\n",
        "\n"
      ],
      "metadata": {
        "colab": {
          "base_uri": "https://localhost:8080/"
        },
        "id": "mlH9iVfC5KKe",
        "outputId": "db449224-a81f-48b3-e89d-fa17ab45c609"
      },
      "execution_count": null,
      "outputs": [
        {
          "output_type": "stream",
          "name": "stdout",
          "text": [
            "  device_type  return_rate(%)\n",
            "2      Mobile       90.282329\n",
            "0         App       90.155505\n",
            "1     Desktop       89.977047\n"
          ]
        },
        {
          "output_type": "stream",
          "name": "stderr",
          "text": [
            "/tmp/ipython-input-3064388982.py:8: DeprecationWarning: DataFrameGroupBy.apply operated on the grouping columns. This behavior is deprecated, and in a future version of pandas the grouping columns will be excluded from the operation. Either pass `include_groups=False` to exclude the groupings or explicitly select the grouping columns after groupby to silence this warning.\n",
            "  .apply(lambda x: (x['is_returned'] == 0).mean() * 100)\n"
          ]
        }
      ]
    },
    {
      "cell_type": "code",
      "source": [
        "# Return rate by region and delivery days\n",
        "return_rate_region_delivery = (\n",
        "    df.groupby(['region', 'delivery_days'])\n",
        "      .apply(lambda x: (x['is_returned'] == 0).mean() * 100)\n",
        "      .reset_index(name='return_rate(%)')\n",
        "      .sort_values(['region', 'delivery_days'])\n",
        ")\n",
        "\n",
        "print(return_rate_region_delivery)\n"
      ],
      "metadata": {
        "colab": {
          "base_uri": "https://localhost:8080/"
        },
        "id": "e46jsJRF7du7",
        "outputId": "7c82fcc6-529a-4dd6-d2b5-45416f422492"
      },
      "execution_count": null,
      "outputs": [
        {
          "output_type": "stream",
          "name": "stdout",
          "text": [
            "       region  delivery_days  return_rate(%)\n",
            "0     Midwest            1.0       89.505247\n",
            "1     Midwest            2.0       90.542636\n",
            "2     Midwest            3.0       91.555556\n",
            "3     Midwest            4.0       90.346908\n",
            "4     Midwest            5.0       88.157895\n",
            "5     Midwest            6.0       89.953632\n",
            "6     Midwest            7.0       89.130435\n",
            "7     Midwest            8.0       87.922705\n",
            "8     Midwest            9.0       91.330344\n",
            "9   Northeast            1.0       88.386124\n",
            "10  Northeast            2.0       92.926045\n",
            "11  Northeast            3.0       91.900826\n",
            "12  Northeast            4.0       91.310976\n",
            "13  Northeast            5.0       89.739663\n",
            "14  Northeast            6.0       89.489489\n",
            "15  Northeast            7.0       90.352221\n",
            "16  Northeast            8.0       91.131498\n",
            "17  Northeast            9.0       92.236025\n",
            "18      South            1.0       89.457364\n",
            "19      South            2.0       91.449275\n",
            "20      South            3.0       88.905547\n",
            "21      South            4.0       90.317700\n",
            "22      South            5.0       89.799073\n",
            "23      South            6.0       88.235294\n",
            "24      South            7.0       91.111111\n",
            "25      South            8.0       89.337641\n",
            "26      South            9.0       90.749601\n",
            "27       West            1.0       88.989442\n",
            "28       West            2.0       90.781250\n",
            "29       West            3.0       91.855204\n",
            "30       West            4.0       89.197080\n",
            "31       West            5.0       89.014540\n",
            "32       West            6.0       90.468986\n",
            "33       West            7.0       90.551181\n",
            "34       West            8.0       90.704648\n",
            "35       West            9.0       90.638930\n"
          ]
        },
        {
          "output_type": "stream",
          "name": "stderr",
          "text": [
            "/tmp/ipython-input-155220089.py:4: DeprecationWarning: DataFrameGroupBy.apply operated on the grouping columns. This behavior is deprecated, and in a future version of pandas the grouping columns will be excluded from the operation. Either pass `include_groups=False` to exclude the groupings or explicitly select the grouping columns after groupby to silence this warning.\n",
            "  .apply(lambda x: (x['is_returned'] == 0).mean() * 100)\n"
          ]
        }
      ]
    },
    {
      "cell_type": "code",
      "source": [
        "#  return rate age group vs discount  sensitivity\n",
        "# Return rate by age group and discount percent\n",
        "return_rate_age_discount = (\n",
        "    df.groupby(['customer_age_group', 'discount_percent'])\n",
        "      .apply(lambda x: (x['is_returned'] == 0).mean() * 100)\n",
        "      .reset_index(name='return_rate(%)')\n",
        "      .sort_values(['customer_age_group', 'discount_percent'])\n",
        ")\n",
        "\n",
        "print(return_rate_age_discount)\n",
        "\n"
      ],
      "metadata": {
        "colab": {
          "base_uri": "https://localhost:8080/"
        },
        "id": "TPn4bQFl7hIC",
        "outputId": "e6b9bb7a-a86b-499f-8d0e-411baf38f157"
      },
      "execution_count": null,
      "outputs": [
        {
          "output_type": "stream",
          "name": "stdout",
          "text": [
            "   customer_age_group  discount_percent  return_rate(%)\n",
            "0               18-24                 0       89.439374\n",
            "1               18-24                 5       90.886392\n",
            "2               18-24                10       90.140845\n",
            "3               18-24                15       90.803109\n",
            "4               18-24                20       88.250653\n",
            "5               18-24                25       90.145985\n",
            "6               25-34                 0       90.433673\n",
            "7               25-34                 5       87.928994\n",
            "8               25-34                10       92.457737\n",
            "9               25-34                15       89.044586\n",
            "10              25-34                20       89.973958\n",
            "11              25-34                25       91.007194\n",
            "12              35-44                 0       90.588235\n",
            "13              35-44                 5       89.290162\n",
            "14              35-44                10       89.930070\n",
            "15              35-44                15       91.533742\n",
            "16              35-44                20       90.750000\n",
            "17              35-44                25       89.536424\n",
            "18              45-54                 0       92.394015\n",
            "19              45-54                 5       90.176322\n",
            "20              45-54                10       89.650712\n",
            "21              45-54                15       91.709184\n",
            "22              45-54                20       91.393939\n",
            "23              45-54                25       90.721649\n",
            "24                55+                 0       90.501319\n",
            "25                55+                 5       89.327146\n",
            "26                55+                10       88.944724\n",
            "27                55+                15       89.039409\n",
            "28                55+                20       90.535492\n",
            "29                55+                25       90.342298\n"
          ]
        },
        {
          "output_type": "stream",
          "name": "stderr",
          "text": [
            "/tmp/ipython-input-3097366578.py:5: DeprecationWarning: DataFrameGroupBy.apply operated on the grouping columns. This behavior is deprecated, and in a future version of pandas the grouping columns will be excluded from the operation. Either pass `include_groups=False` to exclude the groupings or explicitly select the grouping columns after groupby to silence this warning.\n",
            "  .apply(lambda x: (x['is_returned'] == 0).mean() * 100)\n"
          ]
        }
      ]
    },
    {
      "cell_type": "code",
      "source": [],
      "metadata": {
        "id": "fXqYNdvu75ji"
      },
      "execution_count": null,
      "outputs": []
    },
    {
      "cell_type": "markdown",
      "source": [
        "Hypothesis ideas"
      ],
      "metadata": {
        "id": "dk7JeTMJcc8g"
      }
    },
    {
      "cell_type": "code",
      "source": [
        "import matplotlib.pyplot as plt\n",
        "import seaborn as sns\n"
      ],
      "metadata": {
        "id": "AcOE0TE5gCMQ"
      },
      "execution_count": null,
      "outputs": []
    },
    {
      "cell_type": "code",
      "source": [
        "# Create return_rate dataframe\n",
        "return_rate = df.groupby('discount_percent')['is_returned'].mean().reset_index()\n",
        "return_rate.rename(columns={'is_returned': 'return_rate'}, inplace=True)\n"
      ],
      "metadata": {
        "id": "Xuheo1gwhNrN"
      },
      "execution_count": null,
      "outputs": []
    },
    {
      "cell_type": "code",
      "source": [
        "import pandas as pd\n",
        "import matplotlib.pyplot as plt\n",
        "import seaborn as sns\n",
        "\n",
        "#  Group by discount_percent for average quantity and return rate\n",
        "agg_df = df.groupby('discount_percent').agg(\n",
        "    avg_quantity=('quantity', 'mean'),\n",
        "    return_rate=('is_returned', 'mean')\n",
        ").reset_index()\n"
      ],
      "metadata": {
        "id": "xqOyTZhBkz49"
      },
      "execution_count": null,
      "outputs": []
    },
    {
      "cell_type": "code",
      "source": [
        "#  Plot Discount vs Average Quantity\n",
        "plt.figure(figsize=(6,4))\n",
        "sns.regplot(x='discount_percent', y='avg_quantity', data=agg_df, scatter_kws={'alpha':0.6})\n",
        "plt.title('Discount vs Average Quantity Sold')\n",
        "plt.xlabel('Discount (%)')\n",
        "plt.ylabel('Average Quantity')\n",
        "plt.show()"
      ],
      "metadata": {
        "colab": {
          "base_uri": "https://localhost:8080/",
          "height": 410
        },
        "id": "hIUN2H0llIv3",
        "outputId": "60c5fb9c-0173-4351-ac33-e87fc7f524f0"
      },
      "execution_count": null,
      "outputs": [
        {
          "output_type": "display_data",
          "data": {
            "text/plain": [
              "<Figure size 600x400 with 1 Axes>"
            ],
            "image/png": "[encoded data removed]"
          },
          "metadata": {}
        }
      ]
    },
    {
      "cell_type": "code",
      "source": [
        "#  Plot Discount vs Return Rate\n",
        "plt.figure(figsize=(6,4))\n",
        "sns.regplot(x='discount_percent', y='return_rate', data=agg_df, scatter_kws={'alpha':0.6})\n",
        "plt.title('Discount vs Return Rate')\n",
        "plt.xlabel('Discount (%)')\n",
        "plt.ylabel('Return Rate')\n",
        "plt.show()\n"
      ],
      "metadata": {
        "colab": {
          "base_uri": "https://localhost:8080/",
          "height": 410
        },
        "id": "9KQDVI0PlP-q",
        "outputId": "c7353e23-3476-43fa-87c5-45dd2c5f4d3c"
      },
      "execution_count": null,
      "outputs": [
        {
          "output_type": "display_data",
          "data": {
            "text/plain": [
              "<Figure size 600x400 with 1 Axes>"
            ],
            "image/png": "[encoded data removed]"
          },
          "metadata": {}
        }
      ]
    },
    {
      "cell_type": "markdown",
      "source": [
        "Longer delivery times negatively impact review ratings and increase returns."
      ],
      "metadata": {
        "id": "6W6qx7Xembpj"
      }
    },
    {
      "cell_type": "code",
      "source": [
        "#average rating and return rate per delivery day.\n",
        "# 1. Average rating and return rate per delivery day\n",
        "agg_delivery = df.groupby('delivery_days').agg(\n",
        "    avg_rating=('review_rating', 'mean'),\n",
        "    return_rate=('is_returned', 'mean')\n",
        ").reset_index()\n"
      ],
      "metadata": {
        "id": "yDkofqdPmeD5"
      },
      "execution_count": null,
      "outputs": []
    },
    {
      "cell_type": "code",
      "source": [
        " Plot: Delivery Days vs Average Rating\n",
        "plt.figure(figsize=(6,4))\n",
        "sns.regplot(x='delivery_days', y='avg_rating', data=agg_delivery, scatter_kws={'alpha':0.6})\n",
        "plt.title('Delivery Days vs Average Rating')\n",
        "plt.xlabel('Delivery Days')\n",
        "plt.ylabel('Average Rating')\n",
        "plt.show()\n"
      ],
      "metadata": {
        "colab": {
          "base_uri": "https://localhost:8080/",
          "height": 106
        },
        "id": "-gfo1n4vpGU0",
        "outputId": "b650da4a-7d5e-4111-9238-cd740d640c69"
      },
      "execution_count": null,
      "outputs": [
        {
          "output_type": "error",
          "ename": "SyntaxError",
          "evalue": "invalid syntax (ipython-input-2882266520.py, line 1)",
          "traceback": [
            "\u001b[0;36m  File \u001b[0;32m\"/tmp/ipython-input-2882266520.py\"\u001b[0;36m, line \u001b[0;32m1\u001b[0m\n\u001b[0;31m    Plot: Delivery Days vs Average Rating\u001b[0m\n\u001b[0m                   ^\u001b[0m\n\u001b[0;31mSyntaxError\u001b[0m\u001b[0;31m:\u001b[0m invalid syntax\n"
          ]
        }
      ]
    },
    {
      "cell_type": "code",
      "source": [
        "# Delivery Days vs Return Rate\n",
        "plt.figure(figsize=(6,4))\n",
        "sns.regplot(x='delivery_days', y='return_rate', data=agg_delivery, scatter_kws={'alpha':0.6})\n",
        "plt.title('Delivery Days vs Return Rate')\n",
        "plt.xlabel('Delivery Days')\n",
        "plt.ylabel('Return Rate')\n",
        "plt.show()"
      ],
      "metadata": {
        "colab": {
          "base_uri": "https://localhost:8080/",
          "height": 410
        },
        "id": "BkrDBpCSpMww",
        "outputId": "7738fdd0-6c51-4c1d-e6e4-eb043f8386a3"
      },
      "execution_count": null,
      "outputs": [
        {
          "output_type": "display_data",
          "data": {
            "text/plain": [
              "<Figure size 600x400 with 1 Axes>"
            ],
            "image/png": "[encoded data removed]"
          },
          "metadata": {}
        }
      ]
    },
    {
      "cell_type": "markdown",
      "source": [
        "returns are same for 1 day delivery or 9 day delivery."
      ],
      "metadata": {
        "id": "BZVguKM_rcDx"
      }
    },
    {
      "cell_type": "markdown",
      "source": [
        "Certain age groups (e.g., 25–34) have higher average order values."
      ],
      "metadata": {
        "id": "DhESXqDOuEI3"
      }
    },
    {
      "cell_type": "code",
      "source": [
        "# Average order value per age group\n",
        "avg_order_value = df.groupby('customer_age_group')['final_price'].mean().reset_index()\n",
        "avg_order_value.rename(columns={'final_price': 'avg_order_value'}, inplace=True)\n",
        "\n",
        "\n"
      ],
      "metadata": {
        "id": "TPLVt39Nt2Je"
      },
      "execution_count": null,
      "outputs": []
    },
    {
      "cell_type": "code",
      "source": [
        "#  Bar plot\n",
        "import matplotlib.pyplot as plt\n",
        "import seaborn as sns\n",
        "\n",
        "plt.figure(figsize=(7,4))\n",
        "sns.barplot(x='customer_age_group', y='avg_order_value', data=avg_order_value, palette='viridis')\n",
        "plt.title('Average Order Value by Age Group')\n",
        "plt.xlabel('Customer Age Group')\n",
        "plt.ylabel('Average Order Value')\n",
        "plt.show()\n"
      ],
      "metadata": {
        "colab": {
          "base_uri": "https://localhost:8080/",
          "height": 497
        },
        "id": "rbpe4J07u_TM",
        "outputId": "f1517693-7426-4b48-8305-d77b392623f9"
      },
      "execution_count": null,
      "outputs": [
        {
          "output_type": "stream",
          "name": "stderr",
          "text": [
            "/tmp/ipython-input-391213640.py:6: FutureWarning: \n",
            "\n",
            "Passing `palette` without assigning `hue` is deprecated and will be removed in v0.14.0. Assign the `x` variable to `hue` and set `legend=False` for the same effect.\n",
            "\n",
            "  sns.barplot(x='customer_age_group', y='avg_order_value', data=avg_order_value, palette='viridis')\n"
          ]
        },
        {
          "output_type": "display_data",
          "data": {
            "text/plain": [
              "<Figure size 700x400 with 1 Axes>"
            ],
            "image/png": "[encoded data removed]"
          },
          "metadata": {}
        }
      ]
    },
    {
      "cell_type": "markdown",
      "source": [
        "Customers ordering from specific regions have systematically different return\n",
        "behavior.\n"
      ],
      "metadata": {
        "id": "wesEykMpvrnz"
      }
    },
    {
      "cell_type": "code",
      "source": [
        "# Calculate return rate per region\n",
        "region_returns = df.groupby('region')['is_returned'].mean().reset_index()\n",
        "region_returns.rename(columns={'is_returned': 'return_rate'}, inplace=True)\n"
      ],
      "metadata": {
        "id": "XVTYA-SUviQF"
      },
      "execution_count": null,
      "outputs": []
    },
    {
      "cell_type": "code",
      "source": [
        "# Bar plot\n",
        "import matplotlib.pyplot as plt\n",
        "import seaborn as sns\n",
        "\n",
        "plt.figure(figsize=(7,4))\n",
        "sns.barplot(x='region', y='return_rate', data=region_returns, palette='coolwarm')\n",
        "plt.title('Return Rate by Region')\n",
        "plt.xlabel('Region')\n",
        "plt.ylabel('Return Rate')\n",
        "plt.show()"
      ],
      "metadata": {
        "colab": {
          "base_uri": "https://localhost:8080/",
          "height": 497
        },
        "id": "XXhsNpgrwFYS",
        "outputId": "c0f674f9-1131-4ffd-c7cc-b77a94237651"
      },
      "execution_count": null,
      "outputs": [
        {
          "output_type": "stream",
          "name": "stderr",
          "text": [
            "/tmp/ipython-input-1239887790.py:6: FutureWarning: \n",
            "\n",
            "Passing `palette` without assigning `hue` is deprecated and will be removed in v0.14.0. Assign the `x` variable to `hue` and set `legend=False` for the same effect.\n",
            "\n",
            "  sns.barplot(x='region', y='return_rate', data=region_returns, palette='coolwarm')\n"
          ]
        },
        {
          "output_type": "display_data",
          "data": {
            "text/plain": [
              "<Figure size 700x400 with 1 Axes>"
            ],
            "image/png": "[encoded data removed]"
          },
          "metadata": {}
        }
      ]
    },
    {
      "cell_type": "code",
      "source": [
        "# (Chi-square)\n",
        "import pandas as pd\n",
        "from scipy.stats import chi2_contingency\n",
        "\n",
        "# Contingency table: rows = regions, cols = returned/delivered\n",
        "contingency_table = pd.crosstab(df['region'], df['is_returned'])\n",
        "\n",
        "chi2, p, dof, expected = chi2_contingency(contingency_table)\n",
        "\n",
        "print(\"Chi-square statistic:\", chi2)\n",
        "print(\"p-value:\", p)\n",
        "\n"
      ],
      "metadata": {
        "colab": {
          "base_uri": "https://localhost:8080/"
        },
        "id": "17ihMUOmpgSB",
        "outputId": "9406609d-949e-464b-9621-01edfd76d819"
      },
      "execution_count": null,
      "outputs": [
        {
          "output_type": "stream",
          "name": "stdout",
          "text": [
            "Chi-square statistic: 3.369686374613057\n",
            "p-value: 0.33806077050078054\n"
          ]
        }
      ]
    },
    {
      "cell_type": "markdown",
      "source": [
        "Mobile shoppers behave differently in terms of average spend or returns\n",
        "compared to desktop.\n"
      ],
      "metadata": {
        "id": "z9eedsSjzMt-"
      }
    },
    {
      "cell_type": "code",
      "source": [
        "import pandas as pd\n",
        "import matplotlib.pyplot as plt\n",
        "import seaborn as sns\n",
        "from scipy.stats import ttest_ind, chi2_contingency\n",
        "\n",
        "#Average spend per device type\n",
        "avg_spend = df.groupby('device_type')['final_price'].mean().reset_index()\n",
        "avg_spend.rename(columns={'final_price': 'avg_final_price'}, inplace=True)\n",
        "\n",
        "plt.figure(figsize=(6,4))\n",
        "sns.barplot(x='device_type', y='avg_final_price', data=avg_spend, palette='viridis')\n",
        "plt.title('Average Spend by Device Type')\n",
        "plt.xlabel('Device Type')\n",
        "plt.ylabel('Average Final Price')\n",
        "plt.show()\n",
        "\n",
        "#Return rate per device type\n",
        "return_rate_device = df.groupby('device_type')['is_returned'].mean().reset_index()\n",
        "return_rate_device.rename(columns={'is_returned': 'return_rate'}, inplace=True)\n",
        "\n",
        "plt.figure(figsize=(6,4))\n",
        "sns.barplot(x='device_type', y='return_rate', data=return_rate_device, palette='coolwarm')\n",
        "plt.title('Return Rate by Device Type')\n",
        "plt.xlabel('Device Type')\n",
        "plt.ylabel('Return Rate')\n",
        "plt.show()\n",
        "\n"
      ],
      "metadata": {
        "colab": {
          "base_uri": "https://localhost:8080/",
          "height": 977
        },
        "id": "BjIiODsc1OhK",
        "outputId": "de6e148c-2f1e-4b12-ced1-78d001465542"
      },
      "execution_count": null,
      "outputs": [
        {
          "output_type": "stream",
          "name": "stderr",
          "text": [
            "/tmp/ipython-input-2275837433.py:11: FutureWarning: \n",
            "\n",
            "Passing `palette` without assigning `hue` is deprecated and will be removed in v0.14.0. Assign the `x` variable to `hue` and set `legend=False` for the same effect.\n",
            "\n",
            "  sns.barplot(x='device_type', y='avg_final_price', data=avg_spend, palette='viridis')\n"
          ]
        },
        {
          "output_type": "display_data",
          "data": {
            "text/plain": [
              "<Figure size 600x400 with 1 Axes>"
            ],
            "image/png": "[encoded data removed]"
          },
          "metadata": {}
        },
        {
          "output_type": "stream",
          "name": "stderr",
          "text": [
            "/tmp/ipython-input-2275837433.py:22: FutureWarning: \n",
            "\n",
            "Passing `palette` without assigning `hue` is deprecated and will be removed in v0.14.0. Assign the `x` variable to `hue` and set `legend=False` for the same effect.\n",
            "\n",
            "  sns.barplot(x='device_type', y='return_rate', data=return_rate_device, palette='coolwarm')\n"
          ]
        },
        {
          "output_type": "display_data",
          "data": {
            "text/plain": [
              "<Figure size 600x400 with 1 Axes>"
            ],
            "image/png": "[encoded data removed]"
          },
          "metadata": {}
        }
      ]
    },
    {
      "cell_type": "code",
      "source": [
        " # Return rate per device type\n",
        "return_rate_device = df.groupby('device_type')['is_returned'].mean().reset_index()\n",
        "return_rate_device.rename(columns={'is_returned': 'return_rate'}, inplace=True)\n",
        "\n",
        "plt.figure(figsize=(6,4))\n",
        "sns.barplot(x='device_type', y='return_rate', data=return_rate_device, palette='coolwarm')\n",
        "plt.title('Return Rate by Device Type')\n",
        "plt.xlabel('Device Type')\n",
        "plt.ylabel('Return Rate')\n",
        "plt.show()\n"
      ],
      "metadata": {
        "colab": {
          "base_uri": "https://localhost:8080/",
          "height": 497
        },
        "id": "969Mfoo52Kfx",
        "outputId": "529af015-2676-423e-d68f-aeeadd38d7f0"
      },
      "execution_count": null,
      "outputs": [
        {
          "output_type": "stream",
          "name": "stderr",
          "text": [
            "/tmp/ipython-input-2335199054.py:6: FutureWarning: \n",
            "\n",
            "Passing `palette` without assigning `hue` is deprecated and will be removed in v0.14.0. Assign the `x` variable to `hue` and set `legend=False` for the same effect.\n",
            "\n",
            "  sns.barplot(x='device_type', y='return_rate', data=return_rate_device, palette='coolwarm')\n"
          ]
        },
        {
          "output_type": "display_data",
          "data": {
            "text/plain": [
              "<Figure size 600x400 with 1 Axes>"
            ],
            "image/png": "[encoded data removed]"
          },
          "metadata": {}
        }
      ]
    },
    {
      "cell_type": "code",
      "source": [
        "# Statistical test: Average spend (t-test)\n",
        "mobile_prices = df[df['device_type'] == 'mobile']['final_price']\n",
        "desktop_prices = df[df['device_type'] == 'desktop']['final_price']\n",
        "t_stat, p_val_spend = ttest_ind(mobile_prices, desktop_prices, equal_var=False)\n",
        "\n",
        "print(\"T-test for average spend between mobile & desktop:\")\n",
        "print(\"t-statistic:\", t_stat, \"p-value:\", p_val_spend)\n",
        "\n"
      ],
      "metadata": {
        "colab": {
          "base_uri": "https://localhost:8080/"
        },
        "id": "caA2yNse2Wnn",
        "outputId": "53ef5f19-9445-4c89-c194-ed8a1acfe2a2"
      },
      "execution_count": null,
      "outputs": [
        {
          "output_type": "stream",
          "name": "stdout",
          "text": [
            "T-test for average spend between mobile & desktop:\n",
            "t-statistic: nan p-value: nan\n"
          ]
        },
        {
          "output_type": "stream",
          "name": "stderr",
          "text": [
            "/usr/local/lib/python3.11/dist-packages/scipy/_lib/deprecation.py:234: SmallSampleWarning: One or more sample arguments is too small; all returned values will be NaN. See documentation for sample size requirements.\n",
            "  return f(*args, **kwargs)\n"
          ]
        }
      ]
    },
    {
      "cell_type": "code",
      "source": [
        "#Statistical test: Return rates (Chi-square)\n",
        "contingency_table = pd.crosstab(df['device_type'], df['is_returned'])\n",
        "chi2, p_val_returns, dof, expected = chi2_contingency(contingency_table)\n",
        "\n",
        "print(\"\\nChi-square test for return rates between mobile & desktop:\")\n",
        "print(\"Chi-square statistic:\", chi2, \"p-value:\", p_val_returns)\n"
      ],
      "metadata": {
        "colab": {
          "base_uri": "https://localhost:8080/"
        },
        "id": "0adCi80q2c5G",
        "outputId": "4dbf7880-799b-42e2-cb88-be9f9290dba3"
      },
      "execution_count": null,
      "outputs": [
        {
          "output_type": "stream",
          "name": "stdout",
          "text": [
            "\n",
            "Chi-square test for return rates between mobile & desktop:\n",
            "Chi-square statistic: 0.41721684836802747 p-value: 0.8117130206092891\n"
          ]
        }
      ]
    },
    {
      "cell_type": "markdown",
      "source": [
        "Cohort Analysis: Group customers by their first purchase month and track\n",
        "retention (repeat orders) over time."
      ],
      "metadata": {
        "id": "BCNeYFehvyPD"
      }
    },
    {
      "cell_type": "code",
      "source": [
        "df['order_month'] = df['order_date'].dt.to_period('M')\n"
      ],
      "metadata": {
        "id": "y40EERsGwKRx"
      },
      "execution_count": null,
      "outputs": []
    },
    {
      "cell_type": "code",
      "source": [
        "#how many months after first purchase each order happened\n",
        "import pandas as pd\n",
        "from operator import attrgetter\n",
        "\n",
        "# Get first purchase month for each customer\n",
        "df['first_purchase_month'] = (\n",
        "    df.groupby('customer_id')['order_date']\n",
        "      .transform('min')\n",
        "      .dt.to_period('M')\n",
        ")\n",
        "\n"
      ],
      "metadata": {
        "id": "qpU9euAZxB_T"
      },
      "execution_count": null,
      "outputs": []
    },
    {
      "cell_type": "code",
      "source": [
        "# Calculate months since first purchase\n",
        "df['cohort_index'] = (\n",
        "    df['order_month'] - df['first_purchase_month']\n",
        ").apply(attrgetter('n'))\n",
        "\n",
        "df.head()\n"
      ],
      "metadata": {
        "colab": {
          "base_uri": "https://localhost:8080/",
          "height": 325
        },
        "id": "QMkVnLchzqR2",
        "outputId": "bea36dcf-3fb6-4774-e3ee-33b2d10c8d49"
      },
      "execution_count": null,
      "outputs": [
        {
          "output_type": "execute_result",
          "data": {
            "text/plain": [
              "          order_id   customer_id  product_id      product_name main_category  \\\n",
              "0  #HLWTRIGAJB0RFL  A86556872001  6Q3V14RXRF   Huggies Rompers          baby   \n",
              "1  #9LMWG6T6H0IPE0  0A9218115AAA  33MRMEM3WN   Gerber Blankets          Baby   \n",
              "2  #Q6J5C5621SSE5V  8A5A09200074  E674NZH16V      Fossil Jeans           Men   \n",
              "3  #J145DOUKB5RVBN  97602786977A  ETMIXJHFAT  Carter's Rompers          Baby   \n",
              "4  #7ZXNMSUU22AK4J  744297746010  5BYOWYYY5P   Adidas Sneakers          Kids   \n",
              "\n",
              "  sub_category     brand   price  quantity  discount_percent  ...  \\\n",
              "0      Rompers   Huggies  118.62         1                10  ...   \n",
              "1     Blankets    Gerber   26.84         1                15  ...   \n",
              "2        Jeans    Fossil  219.38         2                25  ...   \n",
              "3      Rompers  Carter's   12.05         1                 0  ...   \n",
              "4     Sneakers    Adidas  145.36         1                10  ...   \n",
              "\n",
              "   review_rating order_date  delivery_days is_returned     region  \\\n",
              "0              3 2024-09-10            5.0           0    Midwest   \n",
              "1              2 2025-06-25            8.0           0       West   \n",
              "2              4 2025-01-08            5.0           0  Northeast   \n",
              "3              5 2024-08-28            3.0           0    Midwest   \n",
              "4              1 2024-11-12            5.0           0        NaN   \n",
              "\n",
              "   customer_age_group device_type order_month first_purchase_month  \\\n",
              "0               25-34      Mobile     2024-09              2024-09   \n",
              "1               25-34      Mobile     2025-06              2025-06   \n",
              "2               35-44      Mobile     2025-01              2025-01   \n",
              "3               45-54      Mobile     2024-08              2024-08   \n",
              "4               45-54      Mobile     2024-11              2024-11   \n",
              "\n",
              "  cohort_index  \n",
              "0            0  \n",
              "1            0  \n",
              "2            0  \n",
              "3            0  \n",
              "4            0  \n",
              "\n",
              "[5 rows x 22 columns]"
            ],
            "text/html": [
              "\n",
              "  <div id=\"df-040b7555-d441-47e4-b5f5-dc071a31dd45\" class=\"colab-df-container\">\n",
              "    <div>\n",
              "<style scoped>\n",
              "    .dataframe tbody tr th:only-of-type {\n",
              "        vertical-align: middle;\n",
              "    }\n",
              "\n",
              "    .dataframe tbody tr th {\n",
              "        vertical-align: top;\n",
              "    }\n",
              "\n",
              "    .dataframe thead th {\n",
              "        text-align: right;\n",
              "    }\n",
              "</style>\n",
              "<table border=\"1\" class=\"dataframe\">\n",
              "  <thead>\n",
              "    <tr style=\"text-align: right;\">\n",
              "      <th></th>\n",
              "      <th>order_id</th>\n",
              "      <th>customer_id</th>\n",
              "      <th>product_id</th>\n",
              "      <th>product_name</th>\n",
              "      <th>main_category</th>\n",
              "      <th>sub_category</th>\n",
              "      <th>brand</th>\n",
              "      <th>price</th>\n",
              "      <th>quantity</th>\n",
              "      <th>discount_percent</th>\n",
              "      <th>...</th>\n",
              "      <th>review_rating</th>\n",
              "      <th>order_date</th>\n",
              "      <th>delivery_days</th>\n",
              "      <th>is_returned</th>\n",
              "      <th>region</th>\n",
              "      <th>customer_age_group</th>\n",
              "      <th>device_type</th>\n",
              "      <th>order_month</th>\n",
              "      <th>first_purchase_month</th>\n",
              "      <th>cohort_index</th>\n",
              "    </tr>\n",
              "  </thead>\n",
              "  <tbody>\n",
              "    <tr>\n",
              "      <th>0</th>\n",
              "      <td>#HLWTRIGAJB0RFL</td>\n",
              "      <td>A86556872001</td>\n",
              "      <td>6Q3V14RXRF</td>\n",
              "      <td>Huggies Rompers</td>\n",
              "      <td>baby</td>\n",
              "      <td>Rompers</td>\n",
              "      <td>Huggies</td>\n",
              "      <td>118.62</td>\n",
              "      <td>1</td>\n",
              "      <td>10</td>\n",
              "      <td>...</td>\n",
              "      <td>3</td>\n",
              "      <td>2024-09-10</td>\n",
              "      <td>5.0</td>\n",
              "      <td>0</td>\n",
              "      <td>Midwest</td>\n",
              "      <td>25-34</td>\n",
              "      <td>Mobile</td>\n",
              "      <td>2024-09</td>\n",
              "      <td>2024-09</td>\n",
              "      <td>0</td>\n",
              "    </tr>\n",
              "    <tr>\n",
              "      <th>1</th>\n",
              "      <td>#9LMWG6T6H0IPE0</td>\n",
              "      <td>0A9218115AAA</td>\n",
              "      <td>33MRMEM3WN</td>\n",
              "      <td>Gerber Blankets</td>\n",
              "      <td>Baby</td>\n",
              "      <td>Blankets</td>\n",
              "      <td>Gerber</td>\n",
              "      <td>26.84</td>\n",
              "      <td>1</td>\n",
              "      <td>15</td>\n",
              "      <td>...</td>\n",
              "      <td>2</td>\n",
              "      <td>2025-06-25</td>\n",
              "      <td>8.0</td>\n",
              "      <td>0</td>\n",
              "      <td>West</td>\n",
              "      <td>25-34</td>\n",
              "      <td>Mobile</td>\n",
              "      <td>2025-06</td>\n",
              "      <td>2025-06</td>\n",
              "      <td>0</td>\n",
              "    </tr>\n",
              "    <tr>\n",
              "      <th>2</th>\n",
              "      <td>#Q6J5C5621SSE5V</td>\n",
              "      <td>8A5A09200074</td>\n",
              "      <td>E674NZH16V</td>\n",
              "      <td>Fossil Jeans</td>\n",
              "      <td>Men</td>\n",
              "      <td>Jeans</td>\n",
              "      <td>Fossil</td>\n",
              "      <td>219.38</td>\n",
              "      <td>2</td>\n",
              "      <td>25</td>\n",
              "      <td>...</td>\n",
              "      <td>4</td>\n",
              "      <td>2025-01-08</td>\n",
              "      <td>5.0</td>\n",
              "      <td>0</td>\n",
              "      <td>Northeast</td>\n",
              "      <td>35-44</td>\n",
              "      <td>Mobile</td>\n",
              "      <td>2025-01</td>\n",
              "      <td>2025-01</td>\n",
              "      <td>0</td>\n",
              "    </tr>\n",
              "    <tr>\n",
              "      <th>3</th>\n",
              "      <td>#J145DOUKB5RVBN</td>\n",
              "      <td>97602786977A</td>\n",
              "      <td>ETMIXJHFAT</td>\n",
              "      <td>Carter's Rompers</td>\n",
              "      <td>Baby</td>\n",
              "      <td>Rompers</td>\n",
              "      <td>Carter's</td>\n",
              "      <td>12.05</td>\n",
              "      <td>1</td>\n",
              "      <td>0</td>\n",
              "      <td>...</td>\n",
              "      <td>5</td>\n",
              "      <td>2024-08-28</td>\n",
              "      <td>3.0</td>\n",
              "      <td>0</td>\n",
              "      <td>Midwest</td>\n",
              "      <td>45-54</td>\n",
              "      <td>Mobile</td>\n",
              "      <td>2024-08</td>\n",
              "      <td>2024-08</td>\n",
              "      <td>0</td>\n",
              "    </tr>\n",
              "    <tr>\n",
              "      <th>4</th>\n",
              "      <td>#7ZXNMSUU22AK4J</td>\n",
              "      <td>744297746010</td>\n",
              "      <td>5BYOWYYY5P</td>\n",
              "      <td>Adidas Sneakers</td>\n",
              "      <td>Kids</td>\n",
              "      <td>Sneakers</td>\n",
              "      <td>Adidas</td>\n",
              "      <td>145.36</td>\n",
              "      <td>1</td>\n",
              "      <td>10</td>\n",
              "      <td>...</td>\n",
              "      <td>1</td>\n",
              "      <td>2024-11-12</td>\n",
              "      <td>5.0</td>\n",
              "      <td>0</td>\n",
              "      <td>NaN</td>\n",
              "      <td>45-54</td>\n",
              "      <td>Mobile</td>\n",
              "      <td>2024-11</td>\n",
              "      <td>2024-11</td>\n",
              "      <td>0</td>\n",
              "    </tr>\n",
              "  </tbody>\n",
              "</table>\n",
              "<p>5 rows × 22 columns</p>\n",
              "</div>\n",
              "    <div class=\"colab-df-buttons\">\n",
              "\n",
              "  <div class=\"colab-df-container\">\n",
              "    <button class=\"colab-df-convert\" onclick=\"convertToInteractive('df-040b7555-d441-47e4-b5f5-dc071a31dd45')\"\n",
              "            title=\"Convert this dataframe to an interactive table.\"\n",
              "            style=\"display:none;\">\n",
              "\n",
              "  <svg xmlns=\"http://www.w3.org/2000/svg\" height=\"24px\" viewBox=\"0 -960 960 960\">\n",
              "    <path d=\"M120-120v-720h720v720H120Zm60-500h600v-160H180v160Zm220 220h160v-160H400v160Zm0 220h160v-160H400v160ZM180-400h160v-160H180v160Zm440 0h160v-160H620v160ZM180-180h160v-160H180v160Zm440 0h160v-160H620v160Z\"/>\n",
              "  </svg>\n",
              "    </button>\n",
              "\n",
              "  <style>\n",
              "    .colab-df-container {\n",
              "      display:flex;\n",
              "      gap: 12px;\n",
              "    }\n",
              "\n",
              "    .colab-df-convert {\n",
              "      background-color: #E8F0FE;\n",
              "      border: none;\n",
              "      border-radius: 50%;\n",
              "      cursor: pointer;\n",
              "      display: none;\n",
              "      fill: #1967D2;\n",
              "      height: 32px;\n",
              "      padding: 0 0 0 0;\n",
              "      width: 32px;\n",
              "    }\n",
              "\n",
              "    .colab-df-convert:hover {\n",
              "      background-color: #E2EBFA;\n",
              "      box-shadow: 0px 1px 2px rgba(60, 64, 67, 0.3), 0px 1px 3px 1px rgba(60, 64, 67, 0.15);\n",
              "      fill: #174EA6;\n",
              "    }\n",
              "\n",
              "    .colab-df-buttons div {\n",
              "      margin-bottom: 4px;\n",
              "    }\n",
              "\n",
              "    [theme=dark] .colab-df-convert {\n",
              "      background-color: #3B4455;\n",
              "      fill: #D2E3FC;\n",
              "    }\n",
              "\n",
              "    [theme=dark] .colab-df-convert:hover {\n",
              "      background-color: #434B5C;\n",
              "      box-shadow: 0px 1px 3px 1px rgba(0, 0, 0, 0.15);\n",
              "      filter: drop-shadow(0px 1px 2px rgba(0, 0, 0, 0.3));\n",
              "      fill: #FFFFFF;\n",
              "    }\n",
              "  </style>\n",
              "\n",
              "    <script>\n",
              "      const buttonEl =\n",
              "        document.querySelector('#df-040b7555-d441-47e4-b5f5-dc071a31dd45 button.colab-df-convert');\n",
              "      buttonEl.style.display =\n",
              "        google.colab.kernel.accessAllowed ? 'block' : 'none';\n",
              "\n",
              "      async function convertToInteractive(key) {\n",
              "        const element = document.querySelector('#df-040b7555-d441-47e4-b5f5-dc071a31dd45');\n",
              "        const dataTable =\n",
              "          await google.colab.kernel.invokeFunction('convertToInteractive',\n",
              "                                                    [key], {});\n",
              "        if (!dataTable) return;\n",
              "\n",
              "        const docLinkHtml = 'Like what you see? Visit the ' +\n",
              "          '<a target=\"_blank\" href=https://colab.research.google.com/notebooks/data_table.ipynb>data table notebook</a>'\n",
              "          + ' to learn more about interactive tables.';\n",
              "        element.innerHTML = '';\n",
              "        dataTable['output_type'] = 'display_data';\n",
              "        await google.colab.output.renderOutput(dataTable, element);\n",
              "        const docLink = document.createElement('div');\n",
              "        docLink.innerHTML = docLinkHtml;\n",
              "        element.appendChild(docLink);\n",
              "      }\n",
              "    </script>\n",
              "  </div>\n",
              "\n",
              "\n",
              "    <div id=\"df-9a1a9668-817d-438b-9571-5d52d0552252\">\n",
              "      <button class=\"colab-df-quickchart\" onclick=\"quickchart('df-9a1a9668-817d-438b-9571-5d52d0552252')\"\n",
              "                title=\"Suggest charts\"\n",
              "                style=\"display:none;\">\n",
              "\n",
              "<svg xmlns=\"http://www.w3.org/2000/svg\" height=\"24px\"viewBox=\"0 0 24 24\"\n",
              "     width=\"24px\">\n",
              "    <g>\n",
              "        <path d=\"M19 3H5c-1.1 0-2 .9-2 2v14c0 1.1.9 2 2 2h14c1.1 0 2-.9 2-2V5c0-1.1-.9-2-2-2zM9 17H7v-7h2v7zm4 0h-2V7h2v10zm4 0h-2v-4h2v4z\"/>\n",
              "    </g>\n",
              "</svg>\n",
              "      </button>\n",
              "\n",
              "<style>\n",
              "  .colab-df-quickchart {\n",
              "      --bg-color: #E8F0FE;\n",
              "      --fill-color: #1967D2;\n",
              "      --hover-bg-color: #E2EBFA;\n",
              "      --hover-fill-color: #174EA6;\n",
              "      --disabled-fill-color: #AAA;\n",
              "      --disabled-bg-color: #DDD;\n",
              "  }\n",
              "\n",
              "  [theme=dark] .colab-df-quickchart {\n",
              "      --bg-color: #3B4455;\n",
              "      --fill-color: #D2E3FC;\n",
              "      --hover-bg-color: #434B5C;\n",
              "      --hover-fill-color: #FFFFFF;\n",
              "      --disabled-bg-color: #3B4455;\n",
              "      --disabled-fill-color: #666;\n",
              "  }\n",
              "\n",
              "  .colab-df-quickchart {\n",
              "    background-color: var(--bg-color);\n",
              "    border: none;\n",
              "    border-radius: 50%;\n",
              "    cursor: pointer;\n",
              "    display: none;\n",
              "    fill: var(--fill-color);\n",
              "    height: 32px;\n",
              "    padding: 0;\n",
              "    width: 32px;\n",
              "  }\n",
              "\n",
              "  .colab-df-quickchart:hover {\n",
              "    background-color: var(--hover-bg-color);\n",
              "    box-shadow: 0 1px 2px rgba(60, 64, 67, 0.3), 0 1px 3px 1px rgba(60, 64, 67, 0.15);\n",
              "    fill: var(--button-hover-fill-color);\n",
              "  }\n",
              "\n",
              "  .colab-df-quickchart-complete:disabled,\n",
              "  .colab-df-quickchart-complete:disabled:hover {\n",
              "    background-color: var(--disabled-bg-color);\n",
              "    fill: var(--disabled-fill-color);\n",
              "    box-shadow: none;\n",
              "  }\n",
              "\n",
              "  .colab-df-spinner {\n",
              "    border: 2px solid var(--fill-color);\n",
              "    border-color: transparent;\n",
              "    border-bottom-color: var(--fill-color);\n",
              "    animation:\n",
              "      spin 1s steps(1) infinite;\n",
              "  }\n",
              "\n",
              "  @keyframes spin {\n",
              "    0% {\n",
              "      border-color: transparent;\n",
              "      border-bottom-color: var(--fill-color);\n",
              "      border-left-color: var(--fill-color);\n",
              "    }\n",
              "    20% {\n",
              "      border-color: transparent;\n",
              "      border-left-color: var(--fill-color);\n",
              "      border-top-color: var(--fill-color);\n",
              "    }\n",
              "    30% {\n",
              "      border-color: transparent;\n",
              "      border-left-color: var(--fill-color);\n",
              "      border-top-color: var(--fill-color);\n",
              "      border-right-color: var(--fill-color);\n",
              "    }\n",
              "    40% {\n",
              "      border-color: transparent;\n",
              "      border-right-color: var(--fill-color);\n",
              "      border-top-color: var(--fill-color);\n",
              "    }\n",
              "    60% {\n",
              "      border-color: transparent;\n",
              "      border-right-color: var(--fill-color);\n",
              "    }\n",
              "    80% {\n",
              "      border-color: transparent;\n",
              "      border-right-color: var(--fill-color);\n",
              "      border-bottom-color: var(--fill-color);\n",
              "    }\n",
              "    90% {\n",
              "      border-color: transparent;\n",
              "      border-bottom-color: var(--fill-color);\n",
              "    }\n",
              "  }\n",
              "</style>\n",
              "\n",
              "      <script>\n",
              "        async function quickchart(key) {\n",
              "          const quickchartButtonEl =\n",
              "            document.querySelector('#' + key + ' button');\n",
              "          quickchartButtonEl.disabled = true;  // To prevent multiple clicks.\n",
              "          quickchartButtonEl.classList.add('colab-df-spinner');\n",
              "          try {\n",
              "            const charts = await google.colab.kernel.invokeFunction(\n",
              "                'suggestCharts', [key], {});\n",
              "          } catch (error) {\n",
              "            console.error('Error during call to suggestCharts:', error);\n",
              "          }\n",
              "          quickchartButtonEl.classList.remove('colab-df-spinner');\n",
              "          quickchartButtonEl.classList.add('colab-df-quickchart-complete');\n",
              "        }\n",
              "        (() => {\n",
              "          let quickchartButtonEl =\n",
              "            document.querySelector('#df-9a1a9668-817d-438b-9571-5d52d0552252 button');\n",
              "          quickchartButtonEl.style.display =\n",
              "            google.colab.kernel.accessAllowed ? 'block' : 'none';\n",
              "        })();\n",
              "      </script>\n",
              "    </div>\n",
              "\n",
              "    </div>\n",
              "  </div>\n"
            ],
            "application/vnd.google.colaboratory.intrinsic+json": {
              "type": "dataframe",
              "variable_name": "df"
            }
          },
          "metadata": {},
          "execution_count": 10
        }
      ]
    },
    {
      "cell_type": "markdown",
      "source": [
        "Customer Segmentation: Cluster customers based on RFM (Recency, Frequency,\n",
        "Monetary) and behavior (returns, rating)."
      ],
      "metadata": {
        "id": "bd8bss-n0LQ2"
      }
    },
    {
      "cell_type": "code",
      "source": [
        "import pandas as pd\n",
        "from datetime import datetime\n",
        "\n",
        "# Convert order_date to datetime\n",
        "df['order_date'] = pd.to_datetime(df['order_date'], errors='coerce')\n",
        "\n",
        "# Reference date (usually max date in dataset + 1 day)\n",
        "ref_date = df['order_date'].max() + pd.Timedelta(days=1)\n",
        "\n",
        "# RFM calculation\n",
        "rfm = df.groupby('customer_id').agg({\n",
        "    'order_date': lambda x: (ref_date - x.max()).days,  # Recency\n",
        "    'customer_id': 'count',                            # Frequency (temp)\n",
        "    'final_price': 'sum',                              # Monetary\n",
        "})\n",
        "\n",
        "rfm.columns = ['Recency', 'Frequency', 'Monetary']\n"
      ],
      "metadata": {
        "id": "otRf8mgb0N4I"
      },
      "execution_count": null,
      "outputs": []
    },
    {
      "cell_type": "code",
      "source": [
        "# Return rate per customer\n",
        "returns = df.groupby('customer_id')['is_returned'].mean()\n",
        "\n",
        "# Average rating per customer\n",
        "avg_rating = df.groupby('customer_id')['review_rating'].mean()\n",
        "\n",
        "# Merge into RFM\n",
        "rfm = rfm.join(returns).join(avg_rating)\n",
        "rfm.columns = ['Recency', 'Frequency', 'Monetary', 'ReturnRate', 'AvgRating']\n"
      ],
      "metadata": {
        "id": "rq4qj5vI0v11"
      },
      "execution_count": null,
      "outputs": []
    },
    {
      "cell_type": "code",
      "source": [
        "from sklearn.preprocessing import StandardScaler\n",
        "\n",
        "# Scale features (important for clustering)\n",
        "scaler = StandardScaler()\n",
        "rfm_scaled = scaler.fit_transform(rfm)\n"
      ],
      "metadata": {
        "id": "cAAWk2Wx06Me"
      },
      "execution_count": null,
      "outputs": []
    },
    {
      "cell_type": "code",
      "source": [
        "from sklearn.cluster import KMeans\n",
        "\n",
        "kmeans = KMeans(n_clusters=4, random_state=42)\n",
        "rfm['Cluster'] = kmeans.fit_predict(rfm_scaled)\n"
      ],
      "metadata": {
        "id": "vHp6DrlG1CBo"
      },
      "execution_count": null,
      "outputs": []
    },
    {
      "cell_type": "code",
      "source": [
        "cluster_summary = rfm.groupby('Cluster').mean().round(2)\n",
        "print(cluster_summary)\n"
      ],
      "metadata": {
        "colab": {
          "base_uri": "https://localhost:8080/"
        },
        "id": "5TLtipwF1Kqx",
        "outputId": "ac8e2127-41f9-44da-9899-48e54ebddf95"
      },
      "execution_count": null,
      "outputs": [
        {
          "output_type": "stream",
          "name": "stdout",
          "text": [
            "         Recency  Frequency  Monetary  ReturnRate  AvgRating\n",
            "Cluster                                                     \n",
            "0         183.80        1.0    217.13        0.10       2.03\n",
            "1         183.99        1.0    573.28        0.08       3.90\n",
            "2          83.23        1.0    186.12        0.09       4.15\n",
            "3         282.24        1.0    183.59        0.12       4.16\n"
          ]
        }
      ]
    },
    {
      "cell_type": "markdown",
      "source": [
        "Price Elasticity Estimation: Approximate sensitivity of quantity sold to price/discount changes."
      ],
      "metadata": {
        "id": "H1WF8f8d1imG"
      }
    },
    {
      "cell_type": "code",
      "source": [
        "import numpy as np\n",
        "import pandas as pd\n",
        "import statsmodels.api as sm\n",
        "\n",
        "# Effective price after discount\n",
        "df['effective_price'] = df['price'] * (1 - df['discount_percent']/100)\n",
        "\n",
        "# Filter out rows with zero or negative price/quantity\n",
        "df = df[(df['effective_price'] > 0) & (df['quantity'] > 0)]\n",
        "\n",
        "# Log transform\n",
        "df['log_qty'] = np.log(df['quantity'])\n",
        "df['log_price'] = np.log(df['effective_price'])\n",
        "\n",
        "# Regression model\n",
        "X = sm.add_constant(df['log_price'])  # constant term\n",
        "y = df['log_qty']\n",
        "\n",
        "model = sm.OLS(y, X).fit()\n",
        "print(model.summary())\n"
      ],
      "metadata": {
        "colab": {
          "base_uri": "https://localhost:8080/"
        },
        "id": "jlbddWtJ13yi",
        "outputId": "c57fc71a-89eb-4ea3-e5bd-c548957681c6"
      },
      "execution_count": null,
      "outputs": [
        {
          "output_type": "stream",
          "name": "stdout",
          "text": [
            "                            OLS Regression Results                            \n",
            "==============================================================================\n",
            "Dep. Variable:                log_qty   R-squared:                       0.000\n",
            "Model:                            OLS   Adj. R-squared:                 -0.000\n",
            "Method:                 Least Squares   F-statistic:                   0.05427\n",
            "Date:                Mon, 11 Aug 2025   Prob (F-statistic):              0.816\n",
            "Time:                        20:34:49   Log-Likelihood:                -15504.\n",
            "No. Observations:               24750   AIC:                         3.101e+04\n",
            "Df Residuals:                   24748   BIC:                         3.103e+04\n",
            "Df Model:                           1                                         \n",
            "Covariance Type:            nonrobust                                         \n",
            "==============================================================================\n",
            "                 coef    std err          t      P>|t|      [0.025      0.975]\n",
            "------------------------------------------------------------------------------\n",
            "const          0.5935      0.018     33.702      0.000       0.559       0.628\n",
            "log_price      0.0009      0.004      0.233      0.816      -0.006       0.008\n",
            "==============================================================================\n",
            "Omnibus:                   152661.304   Durbin-Watson:                   1.992\n",
            "Prob(Omnibus):                  0.000   Jarque-Bera (JB):             2697.432\n",
            "Skew:                          -0.310   Prob(JB):                         0.00\n",
            "Kurtosis:                       1.507   Cond. No.                         30.3\n",
            "==============================================================================\n",
            "\n",
            "Notes:\n",
            "[1] Standard Errors assume that the covariance matrix of the errors is correctly specified.\n"
          ]
        },
        {
          "output_type": "stream",
          "name": "stderr",
          "text": [
            "/tmp/ipython-input-4118272972.py:12: SettingWithCopyWarning: \n",
            "A value is trying to be set on a copy of a slice from a DataFrame.\n",
            "Try using .loc[row_indexer,col_indexer] = value instead\n",
            "\n",
            "See the caveats in the documentation: https://pandas.pydata.org/pandas-docs/stable/user_guide/indexing.html#returning-a-view-versus-a-copy\n",
            "  df['log_qty'] = np.log(df['quantity'])\n",
            "/tmp/ipython-input-4118272972.py:13: SettingWithCopyWarning: \n",
            "A value is trying to be set on a copy of a slice from a DataFrame.\n",
            "Try using .loc[row_indexer,col_indexer] = value instead\n",
            "\n",
            "See the caveats in the documentation: https://pandas.pydata.org/pandas-docs/stable/user_guide/indexing.html#returning-a-view-versus-a-copy\n",
            "  df['log_price'] = np.log(df['effective_price'])\n"
          ]
        }
      ]
    },
    {
      "cell_type": "code",
      "source": [
        "df['log_discount'] = np.log(1 + df['discount_percent']/100)\n",
        "\n",
        "X = sm.add_constant(df[['log_price', 'log_discount']])\n",
        "model = sm.OLS(y, X).fit()\n",
        "print(model.summary())\n"
      ],
      "metadata": {
        "colab": {
          "base_uri": "https://localhost:8080/"
        },
        "id": "V3ymVYg02GGa",
        "outputId": "71a5119a-fc8a-4937-d269-0a2f5c222a72"
      },
      "execution_count": null,
      "outputs": [
        {
          "output_type": "stream",
          "name": "stdout",
          "text": [
            "                            OLS Regression Results                            \n",
            "==============================================================================\n",
            "Dep. Variable:                log_qty   R-squared:                       0.000\n",
            "Model:                            OLS   Adj. R-squared:                 -0.000\n",
            "Method:                 Least Squares   F-statistic:                   0.03431\n",
            "Date:                Mon, 11 Aug 2025   Prob (F-statistic):              0.966\n",
            "Time:                        20:36:23   Log-Likelihood:                -15504.\n",
            "No. Observations:               24750   AIC:                         3.101e+04\n",
            "Df Residuals:                   24747   BIC:                         3.104e+04\n",
            "Df Model:                           2                                         \n",
            "Covariance Type:            nonrobust                                         \n",
            "================================================================================\n",
            "                   coef    std err          t      P>|t|      [0.025      0.975]\n",
            "--------------------------------------------------------------------------------\n",
            "const            0.5943      0.019     31.599      0.000       0.557       0.631\n",
            "log_price        0.0008      0.004      0.216      0.829      -0.007       0.008\n",
            "log_discount    -0.0046      0.038     -0.120      0.905      -0.079       0.070\n",
            "==============================================================================\n",
            "Omnibus:                   152661.961   Durbin-Watson:                   1.992\n",
            "Prob(Omnibus):                  0.000   Jarque-Bera (JB):             2697.398\n",
            "Skew:                          -0.310   Prob(JB):                         0.00\n",
            "Kurtosis:                       1.507   Cond. No.                         65.4\n",
            "==============================================================================\n",
            "\n",
            "Notes:\n",
            "[1] Standard Errors assume that the covariance matrix of the errors is correctly specified.\n"
          ]
        },
        {
          "output_type": "stream",
          "name": "stderr",
          "text": [
            "/tmp/ipython-input-3438741710.py:1: SettingWithCopyWarning: \n",
            "A value is trying to be set on a copy of a slice from a DataFrame.\n",
            "Try using .loc[row_indexer,col_indexer] = value instead\n",
            "\n",
            "See the caveats in the documentation: https://pandas.pydata.org/pandas-docs/stable/user_guide/indexing.html#returning-a-view-versus-a-copy\n",
            "  df['log_discount'] = np.log(1 + df['discount_percent']/100)\n"
          ]
        }
      ]
    },
    {
      "cell_type": "markdown",
      "source": [
        "Time-to-Delivery Hotspots: Identify regions or product types with consistent delivery delays."
      ],
      "metadata": {
        "id": "n2peU5nv23ZY"
      }
    },
    {
      "cell_type": "code",
      "source": [
        "region_delay = (\n",
        "    df.groupby('region')['delivery_days']\n",
        "      .agg(['mean', 'std', 'count'])\n",
        "      .reset_index()\n",
        "      .sort_values('mean', ascending=False)\n",
        ")\n",
        "\n",
        "print(region_delay)\n"
      ],
      "metadata": {
        "colab": {
          "base_uri": "https://localhost:8080/"
        },
        "id": "-CUiKyrC3YjP",
        "outputId": "da983f23-cc2c-411e-e309-0c05235f24b8"
      },
      "execution_count": null,
      "outputs": [
        {
          "output_type": "stream",
          "name": "stdout",
          "text": [
            "      region      mean       std  count\n",
            "1  Northeast  5.020674  2.582725   5756\n",
            "3       West  5.007688  2.593127   5853\n",
            "0    Midwest  4.977983  2.578179   5859\n",
            "2      South  4.954718  2.567132   5808\n"
          ]
        }
      ]
    },
    {
      "cell_type": "code",
      "source": [
        "# by product category\n",
        "category_delay = (\n",
        "    df.groupby('main_category')['delivery_days']\n",
        "      .agg(['mean', 'std', 'count'])\n",
        "      .reset_index()\n",
        "      .sort_values('mean', ascending=False)\n",
        ")\n",
        "\n",
        "print(category_delay)\n"
      ],
      "metadata": {
        "colab": {
          "base_uri": "https://localhost:8080/"
        },
        "id": "RpBPaPxn3dn3",
        "outputId": "78166208-cdf9-4ceb-8c1a-16176c27d9a2"
      },
      "execution_count": null,
      "outputs": [
        {
          "output_type": "stream",
          "name": "stdout",
          "text": [
            "  main_category      mean       std  count\n",
            "5          kids  5.090278  2.598095    576\n",
            "0          Baby  5.034093  2.572388   5485\n",
            "1          Kids  5.007298  2.593205   5618\n",
            "7         women  4.996721  2.656588    610\n",
            "2           Men  4.983106  2.579106   5505\n",
            "3         Women  4.960574  2.561844   5504\n",
            "6           men  4.949206  2.573058    630\n",
            "4          baby  4.935540  2.529620    574\n"
          ]
        }
      ]
    },
    {
      "cell_type": "code",
      "source": [
        "delay_threshold = 5  # days\n",
        "\n",
        "consistent_region_delays = region_delay[\n",
        "    (region_delay['mean'] > delay_threshold) &\n",
        "    (region_delay['std'] < 2)\n",
        "]\n",
        "\n",
        "print(consistent_region_delays)\n"
      ],
      "metadata": {
        "colab": {
          "base_uri": "https://localhost:8080/"
        },
        "id": "avPzKkfQ3p9d",
        "outputId": "7f08e057-e3d0-44fd-ded0-b56ac117cdce"
      },
      "execution_count": null,
      "outputs": [
        {
          "output_type": "stream",
          "name": "stdout",
          "text": [
            "Empty DataFrame\n",
            "Columns: [region, mean, std, count]\n",
            "Index: []\n"
          ]
        }
      ]
    },
    {
      "cell_type": "code",
      "source": [
        "import seaborn as sns\n",
        "import matplotlib.pyplot as plt\n",
        "\n",
        "region_category_delay = (\n",
        "    df.groupby(['region', 'main_category'])['delivery_days']\n",
        "      .mean()\n",
        "      .reset_index()\n",
        ")\n",
        "\n",
        "pivot_table = region_category_delay.pivot(\n",
        "    index='region', columns='main_category', values='delivery_days'\n",
        ")\n",
        "\n",
        "plt.figure(figsize=(12, 6))\n",
        "sns.heatmap(pivot_table, annot=True, fmt=\".1f\", cmap=\"Reds\")\n",
        "plt.title(\"Average Delivery Days by Region & Product Category\")\n",
        "plt.ylabel(\"Region\")\n",
        "plt.xlabel(\"Main Category\")\n",
        "plt.show()\n"
      ],
      "metadata": {
        "id": "dE8AcElC3u4g",
        "outputId": "f3bd0929-3fa8-4668-e888-154c32b63b64",
        "colab": {
          "base_uri": "https://localhost:8080/",
          "height": 564
        }
      },
      "execution_count": null,
      "outputs": [
        {
          "output_type": "display_data",
          "data": {
            "text/plain": [
              "<Figure size 1200x600 with 2 Axes>"
            ],
            "image/png": "[encoded data removed]"
          },
          "metadata": {}
        }
      ]
    }
  ]
}